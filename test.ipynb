{
 "cells": [
  {
   "cell_type": "code",
   "execution_count": 8,
   "id": "8385690f-5c56-4270-81ad-161a0ffe0e1e",
   "metadata": {},
   "outputs": [],
   "source": [
    "import numpy as np\n",
    "import random"
   ]
  },
  {
   "cell_type": "code",
   "execution_count": 15,
   "id": "45d364f6-f926-42f5-97c3-eda8abbbbac5",
   "metadata": {},
   "outputs": [
    {
     "data": {
      "text/plain": [
       "[0, 1, 0, 0, 1, 1, 1, 0, 0, 1, 1, 0, 1, 1, 1, 1, 1, 1, 1, 0]"
      ]
     },
     "execution_count": 15,
     "metadata": {},
     "output_type": "execute_result"
    }
   ],
   "source": [
    "def genome_generator():\n",
    "    return [random.randint(a=0, b=1) for _ in range(20)]\n",
    "genome_generator()"
   ]
  },
  {
   "cell_type": "code",
   "execution_count": 18,
   "id": "613ea71f-6de3-4a61-96b0-14b7a8fc8dd8",
   "metadata": {},
   "outputs": [
    {
     "data": {
      "text/plain": [
       "[[1, 1, 1, 1, 0, 1, 0, 1, 0, 0, 1, 0, 0, 1, 0, 1, 0, 0, 0, 0],\n",
       " [1, 1, 1, 1, 1, 1, 0, 0, 0, 0, 1, 1, 1, 0, 1, 0, 1, 0, 1, 0],\n",
       " [1, 0, 0, 1, 1, 0, 0, 1, 0, 1, 1, 1, 0, 1, 1, 0, 0, 0, 1, 1],\n",
       " [1, 1, 0, 0, 0, 0, 1, 0, 0, 0, 1, 1, 1, 1, 1, 0, 0, 1, 0, 1],\n",
       " [0, 1, 0, 1, 1, 1, 1, 0, 0, 1, 0, 1, 0, 0, 1, 1, 1, 1, 0, 1],\n",
       " [1, 0, 0, 0, 0, 1, 0, 0, 0, 1, 0, 0, 1, 0, 1, 0, 0, 0, 0, 1],\n",
       " [0, 0, 0, 1, 0, 0, 1, 0, 0, 1, 0, 0, 0, 1, 1, 0, 0, 1, 1, 0],\n",
       " [0, 1, 0, 1, 1, 1, 0, 1, 0, 0, 1, 1, 1, 0, 0, 0, 0, 0, 0, 0],\n",
       " [0, 0, 0, 1, 0, 0, 1, 0, 1, 0, 0, 1, 0, 1, 1, 1, 0, 0, 0, 0],\n",
       " [0, 0, 1, 1, 1, 1, 0, 1, 1, 1, 1, 0, 0, 1, 1, 0, 0, 1, 0, 1],\n",
       " [1, 1, 0, 0, 1, 1, 0, 0, 0, 0, 0, 0, 0, 1, 0, 1, 0, 0, 0, 0],\n",
       " [1, 0, 1, 0, 1, 1, 0, 0, 1, 0, 1, 0, 1, 0, 0, 0, 0, 0, 1, 1],\n",
       " [1, 0, 1, 1, 0, 0, 0, 1, 0, 0, 1, 0, 1, 1, 1, 0, 0, 0, 0, 0],\n",
       " [1, 1, 1, 1, 0, 0, 0, 1, 1, 1, 0, 0, 1, 1, 1, 0, 0, 1, 0, 0],\n",
       " [1, 1, 0, 0, 1, 0, 0, 1, 0, 1, 0, 1, 0, 1, 1, 0, 0, 0, 0, 0],\n",
       " [0, 1, 0, 0, 1, 0, 1, 1, 0, 0, 1, 0, 1, 0, 0, 1, 0, 1, 0, 1],\n",
       " [0, 1, 1, 1, 1, 1, 1, 1, 0, 0, 1, 1, 1, 0, 1, 0, 0, 0, 1, 0],\n",
       " [1, 0, 1, 1, 1, 1, 1, 0, 0, 0, 1, 0, 0, 1, 0, 0, 1, 1, 1, 1],\n",
       " [1, 0, 1, 0, 0, 0, 1, 1, 0, 0, 1, 1, 0, 1, 1, 1, 0, 1, 1, 1],\n",
       " [1, 1, 0, 1, 0, 1, 1, 1, 1, 0, 0, 0, 1, 0, 0, 0, 0, 0, 0, 0]]"
      ]
     },
     "execution_count": 18,
     "metadata": {},
     "output_type": "execute_result"
    }
   ],
   "source": [
    "population = [genome_generator() for _ in range(20)]\n",
    "population"
   ]
  },
  {
   "cell_type": "code",
   "execution_count": 23,
   "id": "11247a49-045a-41a3-9e98-7cb901147af2",
   "metadata": {},
   "outputs": [
    {
     "name": "stdout",
     "output_type": "stream",
     "text": [
      "37.621285634013816\n",
      "85.069690139935\n",
      "87.94225210544428\n",
      "13.134496266317786\n",
      "76.50537044440051\n",
      "89.82985164974875\n",
      "62.20900460298311\n",
      "29.654209924877804\n",
      "46.66500479728495\n",
      "83.82522255968526\n",
      "60.013521469763376\n",
      "45.56347584483022\n",
      "33.23695551136628\n",
      "19.87322415946522\n",
      "51.4309497599765\n",
      "79.6612067018509\n",
      "25.60415294402273\n",
      "39.616510805845884\n",
      "82.96545680515568\n",
      "74.46559040571437\n"
     ]
    }
   ],
   "source": [
    "def g():\n",
    "    return random.uniform(0, 100)\n",
    "for _ in range(20):\n",
    "    print(g())"
   ]
  },
  {
   "cell_type": "code",
   "execution_count": 28,
   "id": "6db17c7c-d8e2-488e-8ecc-1b90e14e8e93",
   "metadata": {},
   "outputs": [
    {
     "data": {
      "text/plain": [
       "0.9629559850242446"
      ]
     },
     "execution_count": 28,
     "metadata": {},
     "output_type": "execute_result"
    }
   ],
   "source": [
    "random.random()"
   ]
  },
  {
   "cell_type": "code",
   "execution_count": 29,
   "id": "7d7fd8ae-9993-4a48-816e-f0e83a92b6a6",
   "metadata": {},
   "outputs": [],
   "source": [
    "h = genome_generator()"
   ]
  },
  {
   "cell_type": "code",
   "execution_count": 30,
   "id": "2b2057bb-2094-458b-b06b-4eb4be88225a",
   "metadata": {},
   "outputs": [
    {
     "data": {
      "text/plain": [
       "[0, 1, 0, 0, 1, 1, 1, 1, 0, 1, 0, 1, 1, 0, 0, 0, 1, 1, 0, 1]"
      ]
     },
     "execution_count": 30,
     "metadata": {},
     "output_type": "execute_result"
    }
   ],
   "source": [
    "h"
   ]
  },
  {
   "cell_type": "code",
   "execution_count": 33,
   "id": "1fbbe536-2609-4fa5-a7d2-08e905a3bf06",
   "metadata": {},
   "outputs": [
    {
     "name": "stdout",
     "output_type": "stream",
     "text": [
      "1\n",
      "2\n",
      "3\n",
      "4\n",
      "5\n",
      "6\n",
      "7\n",
      "8\n",
      "9\n",
      "10\n",
      "11\n",
      "12\n",
      "13\n",
      "14\n",
      "15\n",
      "16\n",
      "17\n",
      "18\n",
      "19\n"
     ]
    }
   ],
   "source": [
    "for i in range(1, len(h)):\n",
    "    print(i)"
   ]
  },
  {
   "cell_type": "code",
   "execution_count": 48,
   "id": "5b3982e6-f568-4ac1-9680-a9dc5fd171b3",
   "metadata": {},
   "outputs": [
    {
     "name": "stdout",
     "output_type": "stream",
     "text": [
      "[1, 0, 1, 0, 1, 1, 0, 0, 0, 1, 1, 1, 1, 0, 0, 0, 1, 1, 1, 0]\n",
      "[1, 0, 1, 0, 1, 1, 0, 0, 0, 1, 1, 1, 1, 0, 0, 0, 1, 1, 1, 0]\n"
     ]
    }
   ],
   "source": [
    "def mutate(genome):\n",
    "\n",
    "    for i in range(len(genome)):\n",
    "        if random.random() < 0.01:\n",
    "            genome[i] = abs(genome[i] - 1)\n",
    "            print(genome)\n",
    "    return genome\n",
    "print(h)\n",
    "genome = mutate(h)\n",
    "print(genome)\n"
   ]
  },
  {
   "cell_type": "code",
   "execution_count": 49,
   "id": "5ebbfbeb-89d6-4b1b-a3cf-c9b7db3b327b",
   "metadata": {},
   "outputs": [
    {
     "name": "stdout",
     "output_type": "stream",
     "text": [
      "[[1, 0, 1, 0, 1, 1, 0, 0, 0, 1, 1, 1, 1, 0, 0, 0, 1, 1, 1, 0], [1, 0, 1, 0, 1, 1, 0, 0, 0, 1, 1, 1, 1, 0, 0, 0, 1, 1, 1, 0]]\n"
     ]
    }
   ],
   "source": [
    "s12 = []\n",
    "s1 = mutate(h)\n",
    "s2 = mutate(h)\n",
    "s12.extend([s1, s2])\n",
    "print(s12)"
   ]
  },
  {
   "cell_type": "code",
   "execution_count": null,
   "id": "ba50d178-c97f-4442-a9bd-0164cc740004",
   "metadata": {},
   "outputs": [],
   "source": []
  }
 ],
 "metadata": {
  "kernelspec": {
   "display_name": "Python 3 (ipykernel)",
   "language": "python",
   "name": "python3"
  },
  "language_info": {
   "codemirror_mode": {
    "name": "ipython",
    "version": 3
   },
   "file_extension": ".py",
   "mimetype": "text/x-python",
   "name": "python",
   "nbconvert_exporter": "python",
   "pygments_lexer": "ipython3",
   "version": "3.10.12"
  }
 },
 "nbformat": 4,
 "nbformat_minor": 5
}
