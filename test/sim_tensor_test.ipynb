{
 "cells": [
  {
   "cell_type": "code",
   "execution_count": 2,
   "id": "720ad565-182b-420d-b0cc-6a066736fb46",
   "metadata": {},
   "outputs": [],
   "source": [
    "import tensorflow as tf\n",
    "import numpy as np\n",
    "import matplotlib.pyplot as plt\n",
    "import itertools"
   ]
  },
  {
   "cell_type": "code",
   "execution_count": 4,
   "id": "2d0533be-fc1e-47bd-bcc4-2aef7a6e4d63",
   "metadata": {},
   "outputs": [],
   "source": [
    "def apply_component_production(initial_concentration, production_pattern, production_rate, time_step):\n",
    "    \"\"\"\n",
    "    Update the concentration of a species in each cell of a compartment using TensorFlow.\n",
    "\n",
    "    Parameters:\n",
    "        - initial_concentration (tf.Tensor): Tensor of initial concentrations for each cell.\n",
    "        - production_pattern (tf.Tensor): Tensor indicating which cells can produce the species.\n",
    "        - production_rate (float): Rate at which the species are produced.\n",
    "        - time_step (float): Discrete time step for the calculation.\n",
    "\n",
    "    Returns:\n",
    "        - Updated concentration tensor.\n",
    "    \"\"\"\n",
    "\n",
    "    updated_concentration = tf.maximum(initial_concentration + (production_pattern * production_rate * time_step), 0.0)\n",
    "\n",
    "    return updated_concentration\n"
   ]
  },
  {
   "cell_type": "code",
   "execution_count": 5,
   "id": "ea6aa26e-afea-46e2-923b-0db85d6ff961",
   "metadata": {},
   "outputs": [],
   "source": [
    "def apply_component_production1(initial_concentration, production_pattern, production_rate, time_step):\n",
    "   \n",
    "    updated_concentration = np.maximum(initial_concentration + (production_pattern * production_rate * time_step), 0)\n",
    "\n",
    "    return updated_concentration"
   ]
  },
  {
   "cell_type": "code",
   "execution_count": 11,
   "id": "d3ed93f5-65d3-4a7b-a317-09811f9ac8df",
   "metadata": {},
   "outputs": [
    {
     "name": "stdout",
     "output_type": "stream",
     "text": [
      "tf.Tensor([10. 10. 10. 10. 10. 10. 10. 10. 10. 10.], shape=(10,), dtype=float32)\n",
      "tf.Tensor([1.3 1.3 1.3 1.3 1.3 1.3 1.3 1.3 1.3 1.3], shape=(10,), dtype=float32)\n",
      "[10. 10. 10. 10. 10. 10. 10. 10. 10. 10.]\n",
      "[1.3 1.3 1.3 1.3 1.3 1.3 1.3 1.3 1.3 1.3]\n"
     ]
    }
   ],
   "source": [
    "t = 0.4\n",
    "r = 0.6\n",
    "c = tf.fill(dims=(10, ), value=10.0)\n",
    "p = tf.fill(dims=(10, ), value=1.3)\n",
    "c1 = np.full((10, ), fill_value=10.0)\n",
    "p1 = np.full((10, ), fill_value=1.3)\n",
    "print(c)\n",
    "print(p)\n",
    "print(c1)\n",
    "print(p1)"
   ]
  },
  {
   "cell_type": "code",
   "execution_count": 12,
   "id": "77e40fce-84c9-4cf0-bd58-275092bed052",
   "metadata": {},
   "outputs": [],
   "source": [
    "np_r = apply_component_production1(c1, p1, r, t)\n",
    "tf_r = apply_component_production(c, p, r, t)\n"
   ]
  },
  {
   "cell_type": "code",
   "execution_count": 13,
   "id": "8a01afe0-e0a9-47ae-bb08-d2e0dd79e16b",
   "metadata": {},
   "outputs": [
    {
     "data": {
      "text/plain": [
       "array([10.312, 10.312, 10.312, 10.312, 10.312, 10.312, 10.312, 10.312,\n",
       "       10.312, 10.312])"
      ]
     },
     "execution_count": 13,
     "metadata": {},
     "output_type": "execute_result"
    }
   ],
   "source": [
    "np_r"
   ]
  },
  {
   "cell_type": "code",
   "execution_count": 14,
   "id": "659e0cd9-5cce-4d41-9284-81146e06e2bb",
   "metadata": {},
   "outputs": [
    {
     "data": {
      "text/plain": [
       "<tf.Tensor: shape=(10,), dtype=float32, numpy=\n",
       "array([10.312, 10.312, 10.312, 10.312, 10.312, 10.312, 10.312, 10.312,\n",
       "       10.312, 10.312], dtype=float32)>"
      ]
     },
     "execution_count": 14,
     "metadata": {},
     "output_type": "execute_result"
    }
   ],
   "source": [
    "tf_r"
   ]
  },
  {
   "cell_type": "code",
   "execution_count": 15,
   "id": "322fc362-2360-4819-a39f-86b8f364c747",
   "metadata": {},
   "outputs": [],
   "source": [
    "def apply_component_degradation(initial_concentration, degradation_rate, time_step):\n",
    "    \"\"\"\n",
    "    Apply degradation to the concentration of a species over time.\n",
    "\n",
    "    Parameters:\n",
    "    - initial_concentration (1d array): Array of initial concentrations for each cell.\n",
    "    - degradation_rate (float): Rate at which the species degrades.\n",
    "    - time_step (float): Discrete time step for the calculation.\n",
    "\n",
    "    Returns:\n",
    "    - Updated concentrations after applying degradation.\n",
    "    \"\"\"\n",
    "    updated_concentration = np.maximum(initial_concentration - (initial_concentration * degradation_rate * time_step), 0)\n",
    "\n",
    "    return updated_concentration"
   ]
  },
  {
   "cell_type": "code",
   "execution_count": 16,
   "id": "7232cd25-f01c-4eba-94dd-60a2920e9fd3",
   "metadata": {},
   "outputs": [],
   "source": [
    "def apply_component_degradation1(initial_concentration, degradation_rate, time_step):\n",
    "    \"\"\"\n",
    "    Apply degradation to the concentration of a species over time.\n",
    "\n",
    "    Parameters:\n",
    "    - initial_concentration (1d array): Array of initial concentrations for each cell.\n",
    "    - degradation_rate (float): Rate at which the species degrades.\n",
    "    - time_step (float): Discrete time step for the calculation.\n",
    "\n",
    "    Returns:\n",
    "    - Updated concentrations after applying degradation.\n",
    "    \"\"\"\n",
    "    updated_concentration = tf.maximum(initial_concentration - (initial_concentration * degradation_rate * time_step), 0)\n",
    "\n",
    "    return updated_concentration"
   ]
  },
  {
   "cell_type": "code",
   "execution_count": 21,
   "id": "96e9858a-032e-4e22-ae89-3958eccc643f",
   "metadata": {},
   "outputs": [],
   "source": [
    "np_deg = apply_component_degradation(c, 0.8, 0.01)\n",
    "tf_deg = apply_component_degradation1(c1, 0.8, 0.01)"
   ]
  },
  {
   "cell_type": "code",
   "execution_count": 22,
   "id": "7385cd21-f469-419f-a95a-08609c667278",
   "metadata": {},
   "outputs": [
    {
     "data": {
      "text/plain": [
       "array([9.92, 9.92, 9.92, 9.92, 9.92, 9.92, 9.92, 9.92, 9.92, 9.92],\n",
       "      dtype=float32)"
      ]
     },
     "execution_count": 22,
     "metadata": {},
     "output_type": "execute_result"
    }
   ],
   "source": [
    "np_deg"
   ]
  },
  {
   "cell_type": "code",
   "execution_count": 23,
   "id": "db32dac4-03fd-42b2-b490-352e65fef0d4",
   "metadata": {},
   "outputs": [
    {
     "data": {
      "text/plain": [
       "<tf.Tensor: shape=(10,), dtype=float64, numpy=array([9.92, 9.92, 9.92, 9.92, 9.92, 9.92, 9.92, 9.92, 9.92, 9.92])>"
      ]
     },
     "execution_count": 23,
     "metadata": {},
     "output_type": "execute_result"
    }
   ],
   "source": [
    "tf_deg"
   ]
  },
  {
   "cell_type": "code",
   "execution_count": 24,
   "id": "29dd89fd-8b83-4d43-84a1-883552b14de6",
   "metadata": {},
   "outputs": [],
   "source": [
    "def apply_species_collision(species1, species2, complex_, collision_rate, time_step):\n",
    "    \"\"\"\n",
    "    Apply the effect of species collision to form a complex and update the concentrations of the species.\n",
    "\n",
    "    Parameters:\n",
    "    - species1 (1d array): Array of concentrations of the first species.\n",
    "    - species2 (1d array): Array of concentrations of the second species.\n",
    "    - complex_ (1d array): Array of current concentrations of the complex.\n",
    "    - collision_rate (float): Rate at which collisions occur between the two species.\n",
    "    - time_step (float): Discrete time step  for the calculation.\n",
    "\n",
    "    Returns:\n",
    "    - tuple of numpy.ndarray: Updated concentrations of both species and the total amount of complex formed.\n",
    "    \"\"\"\n",
    "    collision_effect = collision_rate * time_step\n",
    "    complex_formed = np.minimum(species1 * collision_effect, species2 * collision_effect)\n",
    "    complex_formed = np.maximum(complex_formed, 0)\n",
    "\n",
    "    updated_species1 = np.maximum(species1 - complex_formed, 0)\n",
    "    updated_species2 = np.maximum(species2 - complex_formed, 0)\n",
    "\n",
    "    updated_complex = complex_ + complex_formed\n",
    "\n",
    "    return updated_species1, updated_species2, updated_complex"
   ]
  },
  {
   "cell_type": "code",
   "execution_count": 25,
   "id": "b670aafd-e741-4c27-b716-4f6ce4a5f671",
   "metadata": {},
   "outputs": [],
   "source": [
    "def apply_species_collision1(species1, species2, complex_, collision_rate, time_step):\n",
    "    \"\"\"\n",
    "    Apply the effect of species collision to form a complex and update the concentrations of the species.\n",
    "\n",
    "    Parameters:\n",
    "    - species1 (1d array): Array of concentrations of the first species.\n",
    "    - species2 (1d array): Array of concentrations of the second species.\n",
    "    - complex_ (1d array): Array of current concentrations of the complex.\n",
    "    - collision_rate (float): Rate at which collisions occur between the two species.\n",
    "    - time_step (float): Discrete time step  for the calculation.\n",
    "\n",
    "    Returns:\n",
    "    - tuple of numpy.ndarray: Updated concentrations of both species and the total amount of complex formed.\n",
    "    \"\"\"\n",
    "    collision_effect = collision_rate * time_step\n",
    "    complex_formed =tf.minimum(species1 * collision_effect, species2 * collision_effect)\n",
    "    complex_formed = tf.maximum(complex_formed, 0)\n",
    "\n",
    "    updated_species1 = tf.maximum(species1 - complex_formed, 0)\n",
    "    updated_species2 = tf.maximum(species2 - complex_formed, 0)\n",
    "\n",
    "    updated_complex = complex_ + complex_formed\n",
    "\n",
    "    return updated_species1, updated_species2, updated_complex"
   ]
  },
  {
   "cell_type": "code",
   "execution_count": 26,
   "id": "0d82c05c-464c-41a1-8266-cb716177cfbf",
   "metadata": {},
   "outputs": [
    {
     "name": "stdout",
     "output_type": "stream",
     "text": [
      "tf.Tensor([10. 10. 10. 10. 10. 10. 10. 10. 10. 10.], shape=(10,), dtype=float32)\n",
      "tf.Tensor([2. 2. 2. 2. 2. 2. 2. 2. 2. 2.], shape=(10,), dtype=float32)\n",
      "tf.Tensor([12. 12. 12. 12. 12. 12. 12. 12. 12. 12.], shape=(10,), dtype=float32)\n",
      "[10. 10. 10. 10. 10. 10. 10. 10. 10. 10.]\n",
      "[2. 2. 2. 2. 2. 2. 2. 2. 2. 2.]\n",
      "[12. 12. 12. 12. 12. 12. 12. 12. 12. 12.]\n"
     ]
    }
   ],
   "source": [
    "sp1 = tf.fill(dims=(10, ), value=10.0)\n",
    "sp2 = tf.fill(dims=(10, ), value=2.0)\n",
    "comp = tf.fill(dims=(10, ), value=12.0)\n",
    "\n",
    "sp11 = np.full((10, ), fill_value=10.0)\n",
    "sp21 = np.full((10, ), fill_value=2.0)\n",
    "comp1 = np.full((10, ), fill_value=12.0)\n",
    "print(sp1)\n",
    "print(sp2)\n",
    "print(comp)\n",
    "print(sp11)\n",
    "print(sp21)\n",
    "print(comp1)"
   ]
  },
  {
   "cell_type": "code",
   "execution_count": 29,
   "id": "ed022d2c-7faa-49b6-89d1-3dd4c7246b6e",
   "metadata": {},
   "outputs": [],
   "source": [
    "np_sp1, np_sp2, np_comp = apply_species_collision(sp11, sp21, comp1, 0.2, 0.1)\n",
    "tf_sp1, tf_sp2, tf_comp = apply_species_collision1(sp1, sp2, comp, 0.2, 0.1)"
   ]
  },
  {
   "cell_type": "code",
   "execution_count": 30,
   "id": "373cd7c2-86e3-414c-8cef-7a488f3fc364",
   "metadata": {},
   "outputs": [
    {
     "data": {
      "text/plain": [
       "array([9.96, 9.96, 9.96, 9.96, 9.96, 9.96, 9.96, 9.96, 9.96, 9.96])"
      ]
     },
     "execution_count": 30,
     "metadata": {},
     "output_type": "execute_result"
    }
   ],
   "source": [
    "np_sp1"
   ]
  },
  {
   "cell_type": "code",
   "execution_count": 31,
   "id": "42b1d1b5-1073-4a71-b877-5089407c4de4",
   "metadata": {},
   "outputs": [
    {
     "data": {
      "text/plain": [
       "array([1.96, 1.96, 1.96, 1.96, 1.96, 1.96, 1.96, 1.96, 1.96, 1.96])"
      ]
     },
     "execution_count": 31,
     "metadata": {},
     "output_type": "execute_result"
    }
   ],
   "source": [
    "np_sp2"
   ]
  },
  {
   "cell_type": "code",
   "execution_count": 32,
   "id": "a22452c7-0c4a-4b34-ae6c-527581842804",
   "metadata": {},
   "outputs": [
    {
     "data": {
      "text/plain": [
       "array([12.04, 12.04, 12.04, 12.04, 12.04, 12.04, 12.04, 12.04, 12.04,\n",
       "       12.04])"
      ]
     },
     "execution_count": 32,
     "metadata": {},
     "output_type": "execute_result"
    }
   ],
   "source": [
    "np_comp"
   ]
  },
  {
   "cell_type": "code",
   "execution_count": 33,
   "id": "dbb78e1d-3bd2-4b39-a6c1-1ee472c7d035",
   "metadata": {},
   "outputs": [
    {
     "data": {
      "text/plain": [
       "<tf.Tensor: shape=(10,), dtype=float32, numpy=\n",
       "array([9.96, 9.96, 9.96, 9.96, 9.96, 9.96, 9.96, 9.96, 9.96, 9.96],\n",
       "      dtype=float32)>"
      ]
     },
     "execution_count": 33,
     "metadata": {},
     "output_type": "execute_result"
    }
   ],
   "source": [
    "tf_sp1"
   ]
  },
  {
   "cell_type": "code",
   "execution_count": 34,
   "id": "c686eb80-a72e-47fb-a9d2-0d253a04d661",
   "metadata": {},
   "outputs": [
    {
     "data": {
      "text/plain": [
       "<tf.Tensor: shape=(10,), dtype=float32, numpy=\n",
       "array([1.96, 1.96, 1.96, 1.96, 1.96, 1.96, 1.96, 1.96, 1.96, 1.96],\n",
       "      dtype=float32)>"
      ]
     },
     "execution_count": 34,
     "metadata": {},
     "output_type": "execute_result"
    }
   ],
   "source": [
    "tf_sp2"
   ]
  },
  {
   "cell_type": "code",
   "execution_count": 35,
   "id": "fcec31d6-17bf-413a-87cf-511e2a39ccfe",
   "metadata": {},
   "outputs": [
    {
     "data": {
      "text/plain": [
       "<tf.Tensor: shape=(10,), dtype=float32, numpy=\n",
       "array([12.04, 12.04, 12.04, 12.04, 12.04, 12.04, 12.04, 12.04, 12.04,\n",
       "       12.04], dtype=float32)>"
      ]
     },
     "execution_count": 35,
     "metadata": {},
     "output_type": "execute_result"
    }
   ],
   "source": [
    "tf_comp"
   ]
  },
  {
   "cell_type": "code",
   "execution_count": 36,
   "id": "c656a6a6-8152-4d88-8e44-79b59c5ba474",
   "metadata": {},
   "outputs": [],
   "source": [
    "def apply_complex_dissociation(species1, species2, complex_, dissociation_rate, time_step):\n",
    "    \"\"\"\n",
    "    Apply the effect of complex dissociation to update the concentrations of the two species and the complex of them.\n",
    "\n",
    "    Parameters:\n",
    "    - species1 (tf.Tensor): Tensor of concentrations of the first species.\n",
    "    - species2 (tf.Tensor): Tensor of concentrations of the second species.\n",
    "    - complex_ (tf.Tensor): Tensor of current concentrations of the complex.\n",
    "    - dissociation_rate (float): Rate at which the complex dissociates into the two species.\n",
    "    - time_step (float): Discrete time step for the calculation.\n",
    "\n",
    "    Returns:\n",
    "    - tuple of numpy.ndarray: Updated concentrations of both species and the remaining amount of the complex.\n",
    "    \"\"\"\n",
    "    dissociation_effect = dissociation_rate * time_step\n",
    "    dissociated_amount = complex_ * dissociation_effect\n",
    "    dissociated_amount = np.maximum(dissociated_amount, 0)\n",
    "\n",
    "    updated_complex = np.maximum(complex_ - dissociated_amount, 0)\n",
    "    updated_species1 = np.maximum(species1 + dissociated_amount, 0)\n",
    "    updated_species2 = np.maximum(species2 + dissociated_amount, 0)\n",
    "\n",
    "    return updated_species1, updated_species2, updated_complex"
   ]
  },
  {
   "cell_type": "code",
   "execution_count": 38,
   "id": "e5dada65-8387-4d0f-b2fe-5ac82f687f32",
   "metadata": {},
   "outputs": [],
   "source": [
    "def apply_complex_dissociation1(species1, species2, complex_, dissociation_rate, time_step):\n",
    "    \"\"\"\n",
    "    Apply the effect of complex dissociation to update the concentrations of the two species and the complex of them.\n",
    "\n",
    "    Parameters:\n",
    "    - species1 (tf.Tensor): Tensor of concentrations of the first species.\n",
    "    - species2 (tf.Tensor): Tensor of concentrations of the second species.\n",
    "    - complex_ (tf.Tensor): Tensor of current concentrations of the complex.\n",
    "    - dissociation_rate (float): Rate at which the complex dissociates into the two species.\n",
    "    - time_step (float): Discrete time step for the calculation.\n",
    "\n",
    "    Returns:\n",
    "    - tuple of numpy.ndarray: Updated concentrations of both species and the remaining amount of the complex.\n",
    "    \"\"\"\n",
    "    dissociation_effect = dissociation_rate * time_step\n",
    "    dissociated_amount = complex_ * dissociation_effect\n",
    "    dissociated_amount = tf.maximum(dissociated_amount, 0)\n",
    "\n",
    "    updated_complex = tf.maximum(complex_ - dissociated_amount, 0)\n",
    "    updated_species1 = tf.maximum(species1 + dissociated_amount, 0)\n",
    "    updated_species2 = tf.maximum(species2 + dissociated_amount, 0)\n",
    "\n",
    "    return updated_species1, updated_species2, updated_complex"
   ]
  },
  {
   "cell_type": "code",
   "execution_count": 39,
   "id": "a0cf34a4-f7e3-4544-bda3-c78f605f4488",
   "metadata": {},
   "outputs": [],
   "source": [
    "np_sp1, np_sp2, np_comp = apply_complex_dissociation(sp11, sp21, comp1, 0.5, 0.4)\n",
    "tf_sp1, tf_sp2, tf_comp = apply_complex_dissociation(sp1, sp2, comp, 0.5, 0.4)"
   ]
  },
  {
   "cell_type": "code",
   "execution_count": 40,
   "id": "324dae27-c453-4e30-898b-6f984b67e1c2",
   "metadata": {},
   "outputs": [
    {
     "data": {
      "text/plain": [
       "array([12.4, 12.4, 12.4, 12.4, 12.4, 12.4, 12.4, 12.4, 12.4, 12.4])"
      ]
     },
     "execution_count": 40,
     "metadata": {},
     "output_type": "execute_result"
    }
   ],
   "source": [
    "np_sp1"
   ]
  },
  {
   "cell_type": "code",
   "execution_count": 41,
   "id": "39c24e9f-b35a-4ac5-8c70-d91b80f3a2b9",
   "metadata": {},
   "outputs": [
    {
     "data": {
      "text/plain": [
       "array([4.4, 4.4, 4.4, 4.4, 4.4, 4.4, 4.4, 4.4, 4.4, 4.4])"
      ]
     },
     "execution_count": 41,
     "metadata": {},
     "output_type": "execute_result"
    }
   ],
   "source": [
    "np_sp2"
   ]
  },
  {
   "cell_type": "code",
   "execution_count": 42,
   "id": "8dcc120c-056b-432e-b8ea-91ddc0e37ef7",
   "metadata": {},
   "outputs": [
    {
     "data": {
      "text/plain": [
       "array([9.6, 9.6, 9.6, 9.6, 9.6, 9.6, 9.6, 9.6, 9.6, 9.6])"
      ]
     },
     "execution_count": 42,
     "metadata": {},
     "output_type": "execute_result"
    }
   ],
   "source": [
    "np_comp"
   ]
  },
  {
   "cell_type": "code",
   "execution_count": 43,
   "id": "ef4214b0-73ea-48a3-a286-8edddaaf5544",
   "metadata": {},
   "outputs": [
    {
     "data": {
      "text/plain": [
       "array([12.4, 12.4, 12.4, 12.4, 12.4, 12.4, 12.4, 12.4, 12.4, 12.4],\n",
       "      dtype=float32)"
      ]
     },
     "execution_count": 43,
     "metadata": {},
     "output_type": "execute_result"
    }
   ],
   "source": [
    "tf_sp1"
   ]
  },
  {
   "cell_type": "code",
   "execution_count": 44,
   "id": "44221cc2-0df6-4c32-a052-4b8a47679c96",
   "metadata": {},
   "outputs": [
    {
     "data": {
      "text/plain": [
       "array([4.4, 4.4, 4.4, 4.4, 4.4, 4.4, 4.4, 4.4, 4.4, 4.4], dtype=float32)"
      ]
     },
     "execution_count": 44,
     "metadata": {},
     "output_type": "execute_result"
    }
   ],
   "source": [
    "tf_sp2"
   ]
  },
  {
   "cell_type": "code",
   "execution_count": 45,
   "id": "3465c9b9-8317-4a55-a099-67b510960b12",
   "metadata": {},
   "outputs": [
    {
     "data": {
      "text/plain": [
       "array([9.6, 9.6, 9.6, 9.6, 9.6, 9.6, 9.6, 9.6, 9.6, 9.6], dtype=float32)"
      ]
     },
     "execution_count": 45,
     "metadata": {},
     "output_type": "execute_result"
    }
   ],
   "source": [
    "tf_comp"
   ]
  },
  {
   "cell_type": "code",
   "execution_count": 91,
   "id": "135d1879-cea8-4be5-a500-5a59f7eecd54",
   "metadata": {},
   "outputs": [],
   "source": [
    "def apply_diffusion(current_concentration, compartment, column_position, diffusion_rate, time_step):\n",
    "    \"\"\"\n",
    "    Apply diffusion to update the concentration of species in a specific column of a 2D compartment for all individual in population.\n",
    "\n",
    "    Parameters:\n",
    "    - current_concentration (2d array): Array of current concentrations for each cell.\n",
    "    - compartment (3d array): Array representing the 2D compartment where diffusion takes place for all individual in population.\n",
    "    - column_position (int): Column position of the cells being updated (0-based index).\n",
    "    - diffusion_rates (1d array): Rates at which the species diffuses between cells.\n",
    "    - time_step (float/1d array): Discrete time step/s for the calculation.\n",
    "\n",
    "    Returns:\n",
    "    - 2d array: updated current_concentration array.\n",
    "    \"\"\"\n",
    "    compartment_size = compartment.shape[1]\n",
    "    temporary_concentration = np.copy(current_concentration)\n",
    "\n",
    "    if column_position == 0:\n",
    "\n",
    "        # Update concentration for the upper-left corner cell\n",
    "        temporary_concentration[0] = update_upper_left_corner_concentration(\n",
    "            cell_concentration=current_concentration[0],\n",
    "            lower_cell_concentration=compartment[1, 0],\n",
    "            right_cell_concentration=compartment[0, 1],\n",
    "            diffusion_rate=diffusion_rate,\n",
    "            time_step=time_step\n",
    "        )\n",
    "\n",
    "        # Update concentration for the lower-left corner cell\n",
    "        temporary_concentration[-1] = update_lower_left_corner_concentration(\n",
    "            cell_concentration=current_concentration[-1],\n",
    "            upper_cell_concentration=compartment[-2, 0],\n",
    "            right_cell_concentration=compartment[-1, 1],\n",
    "            diffusion_rate=diffusion_rate,\n",
    "            time_step=time_step\n",
    "        )\n",
    "\n",
    "        # Update concentrations for the left-side cells (excluding corners)\n",
    "        temporary_concentration[1:-1] = update_left_side_concentration(\n",
    "            cell_concentration=current_concentration[1:-1],\n",
    "            upper_cell_concentration=compartment[:-2, 0],\n",
    "            lower_cell_concentration=compartment[2:, 0],\n",
    "            right_cell_concentration=compartment[1:-1, 1],\n",
    "            diffusion_rate=diffusion_rate,\n",
    "            time_step=time_step\n",
    "        )\n",
    "\n",
    "    elif column_position == compartment_size - 1:\n",
    "\n",
    "        # Update concentration for the upper-right corner cell\n",
    "        temporary_concentration[0] = update_upper_right_corner_concentration(\n",
    "            cell_concentration=current_concentration[0],\n",
    "            lower_cell_concentration=compartment[1, -1],\n",
    "            left_cell_concentration=compartment[0, -2],\n",
    "            diffusion_rate=diffusion_rate,\n",
    "            time_step=time_step\n",
    "        )\n",
    "\n",
    "        # Update concentration for the lower-right corner cell\n",
    "        temporary_concentration[-1] = update_lower_right_corner_concentration(\n",
    "            cell_concentration=current_concentration[-1],\n",
    "            upper_cell_concentration=compartment[-2, -1],\n",
    "            left_cell_concentration=compartment[-1, -2],\n",
    "            diffusion_rate=diffusion_rate,\n",
    "            time_step=time_step\n",
    "        )\n",
    "\n",
    "        # Update concentrations for the left-side cells (excluding corners)\n",
    "        temporary_concentration[1:-1] = update_right_side_concentration(\n",
    "            cell_concentration=current_concentration[1:-1],\n",
    "            upper_cell_concentration=compartment[0:-2, -1],\n",
    "            lower_cell_concentration=compartment[2:, -1],\n",
    "            left_cell_concentration=compartment[1:-1, -2],\n",
    "            diffusion_rate=diffusion_rate,\n",
    "            time_step=time_step\n",
    "        )\n",
    "\n",
    "\n",
    "    else:\n",
    "\n",
    "        temporary_concentration[0] = update_central_concentration_upper(\n",
    "            cell_concentration=current_concentration[0],\n",
    "            lower_cell_concentration=compartment[1, column_position],\n",
    "            right_cell_concentration=compartment[0, column_position + 1],\n",
    "            left_cell_concentration=compartment[0, column_position - 1],\n",
    "            diffusion_rate=diffusion_rate,\n",
    "            time_step=time_step)\n",
    "\n",
    "        temporary_concentration[-1] = update_central_concentration_lower(\n",
    "            cell_concentration=current_concentration[-1],\n",
    "            upper_cell_concentration=compartment[-2, column_position],\n",
    "            right_cell_concentration=compartment[-1, column_position + 1],\n",
    "            left_cell_concentration=compartment[-1, column_position - 1],\n",
    "            diffusion_rate=diffusion_rate,\n",
    "            time_step=time_step)\n",
    "\n",
    "        temporary_concentration[1:-1] = update_central_concentration_middle(\n",
    "            cell_concentration=current_concentration[1:-1],\n",
    "            upper_cell_concentration=compartment[0:-2, column_position],\n",
    "            lower_cell_concentration=compartment[2:, column_position],\n",
    "            right_cell_concentration=compartment[1:-1, column_position+1],\n",
    "            left_cell_concentration=compartment[1:-1, column_position-1],\n",
    "            diffusion_rate=diffusion_rate,\n",
    "            time_step=time_step\n",
    "        )\n",
    "\n",
    "    updated_concentration = np.maximum(temporary_concentration, 0)\n",
    "\n",
    "    return updated_concentration\n",
    "\n",
    "\n",
    "\n",
    "\n",
    "def update_lower_left_corner_concentration(\n",
    "    cell_concentration,\n",
    "    upper_cell_concentration,\n",
    "    right_cell_concentration,\n",
    "    diffusion_rate,\n",
    "    time_step):\n",
    "\n",
    "    \n",
    "    in_diffusion = (time_step * upper_cell_concentration * diffusion_rate) + \\\n",
    "                   (time_step * right_cell_concentration * diffusion_rate)\n",
    "    out_diffusion = time_step * cell_concentration * diffusion_rate * 2\n",
    "\n",
    "    updated_concentration = cell_concentration + in_diffusion - out_diffusion\n",
    "\n",
    "    return updated_concentration\n",
    "\n",
    "\n",
    "\n",
    "def update_lower_right_corner_concentration(\n",
    "    cell_concentration,\n",
    "    upper_cell_concentration,\n",
    "    left_cell_concentration,\n",
    "    diffusion_rate,\n",
    "    time_step):\n",
    "\n",
    "    \n",
    "    in_diffusion = (time_step * upper_cell_concentration * diffusion_rate) + \\\n",
    "                   (time_step * left_cell_concentration * diffusion_rate)\n",
    "    out_diffusion = time_step * cell_concentration * diffusion_rate * 2\n",
    "\n",
    "    updated_concentration = cell_concentration + in_diffusion - out_diffusion\n",
    "\n",
    "    return updated_concentration\n",
    "\n",
    "\n",
    "\n",
    "def update_upper_left_corner_concentration(\n",
    "    cell_concentration,\n",
    "    lower_cell_concentration,\n",
    "    right_cell_concentration,\n",
    "    diffusion_rate,\n",
    "    time_step):\n",
    "\n",
    "    \n",
    "    in_diffusion = (time_step * lower_cell_concentration * diffusion_rate) + \\\n",
    "                   (time_step * right_cell_concentration * diffusion_rate)\n",
    "    out_diffusion = time_step * cell_concentration * diffusion_rate * 2\n",
    "\n",
    "    updated_concentration = cell_concentration + in_diffusion - out_diffusion\n",
    "\n",
    "    return updated_concentration\n",
    "\n",
    "\n",
    "\n",
    "def update_upper_right_corner_concentration(\n",
    "    cell_concentration,\n",
    "    lower_cell_concentration,\n",
    "    left_cell_concentration,\n",
    "    diffusion_rate,\n",
    "    time_step):\n",
    "\n",
    "    \n",
    "    in_diffusion = (time_step * lower_cell_concentration * diffusion_rate) + \\\n",
    "                   (time_step * left_cell_concentration * diffusion_rate)\n",
    "    out_diffusion = time_step * cell_concentration * diffusion_rate * 2\n",
    "\n",
    "    updated_concentration = cell_concentration + in_diffusion - out_diffusion\n",
    "\n",
    "    return updated_concentration\n",
    "\n",
    "\n",
    "def update_left_side_concentration(\n",
    "    cell_concentration,\n",
    "    upper_cell_concentration,\n",
    "    lower_cell_concentration,\n",
    "    right_cell_concentration,\n",
    "    diffusion_rate,\n",
    "    time_step):\n",
    "\n",
    "    upper_cell_in = time_step * upper_cell_concentration * diffusion_rate\n",
    "    lower_cell_in = time_step * lower_cell_concentration * diffusion_rate\n",
    "    right_cell_in = time_step * right_cell_concentration * diffusion_rate\n",
    "\n",
    "    in_diffusion = upper_cell_in + lower_cell_in + right_cell_in\n",
    "    out_diffusion = time_step * cell_concentration * diffusion_rate * 3\n",
    "\n",
    "    updated_concentration = cell_concentration + in_diffusion - out_diffusion\n",
    "\n",
    "    return updated_concentration\n",
    "\n",
    "\n",
    "\n",
    "def update_right_side_concentration(\n",
    "        cell_concentration,\n",
    "        upper_cell_concentration,\n",
    "        lower_cell_concentration,\n",
    "        left_cell_concentration,\n",
    "        diffusion_rate,\n",
    "        time_step):\n",
    " \n",
    "    upper_cell_in = time_step * upper_cell_concentration * diffusion_rate\n",
    "    lower_cell_in = time_step * lower_cell_concentration * diffusion_rate\n",
    "    right_cell_in = time_step * left_cell_concentration * diffusion_rate\n",
    "\n",
    "    in_diffusion = upper_cell_in + lower_cell_in + right_cell_in\n",
    "    out_diffusion = time_step * cell_concentration.T * diffusion_rate * 3\n",
    "\n",
    "    updated_concentration = cell_concentration + in_diffusion - out_diffusion\n",
    "\n",
    "    return updated_concentration\n",
    "\n",
    "\n",
    "def update_central_concentration_middle(\n",
    "        cell_concentration,\n",
    "        upper_cell_concentration,\n",
    "        lower_cell_concentration,\n",
    "        right_cell_concentration,\n",
    "        left_cell_concentration,\n",
    "        diffusion_rate,\n",
    "        time_step):\n",
    " \n",
    "    upper_cell_in = time_step * upper_cell_concentration * diffusion_rate\n",
    "    lower_cell_in = time_step * lower_cell_concentration * diffusion_rate\n",
    "    right_cell_in = time_step * right_cell_concentration * diffusion_rate\n",
    "    left_cell_in = time_step * left_cell_concentration * diffusion_rate\n",
    "\n",
    "    in_diffusion = upper_cell_in + lower_cell_in + right_cell_in + left_cell_in\n",
    "    out_diffusion = time_step * cell_concentration * diffusion_rate * 4\n",
    "\n",
    "    updated_concentration = cell_concentration + in_diffusion - out_diffusion\n",
    "\n",
    "    return updated_concentration\n",
    "\n",
    "\n",
    "\n",
    "def update_central_concentration_upper(\n",
    "        cell_concentration,\n",
    "        lower_cell_concentration,\n",
    "        right_cell_concentration,\n",
    "        left_cell_concentration,\n",
    "        diffusion_rate,\n",
    "        time_step):\n",
    " \n",
    "    lower_cell_in = time_step * lower_cell_concentration * diffusion_rate\n",
    "    right_cell_in = time_step * right_cell_concentration * diffusion_rate\n",
    "    left_cell_in = time_step * left_cell_concentration * diffusion_rate\n",
    "\n",
    "    in_diffusion = lower_cell_in + right_cell_in + left_cell_in\n",
    "    out_diffusion = time_step * cell_concentration * diffusion_rate * 3\n",
    "\n",
    "    updated_concentration = cell_concentration + in_diffusion - out_diffusion\n",
    "\n",
    "    return updated_concentration\n",
    "\n",
    "\n",
    "def update_central_concentration_lower(\n",
    "        cell_concentration,\n",
    "        upper_cell_concentration,\n",
    "        right_cell_concentration,\n",
    "        left_cell_concentration,\n",
    "        diffusion_rate,\n",
    "        time_step):\n",
    "  \n",
    "    upper_cell_in = time_step * upper_cell_concentration * diffusion_rate\n",
    "    right_cell_in = time_step * right_cell_concentration * diffusion_rate\n",
    "    left_cell_in = time_step * left_cell_concentration * diffusion_rate\n",
    "\n",
    "    in_diffusion = upper_cell_in + right_cell_in + left_cell_in\n",
    "    out_diffusion = time_step * cell_concentration * diffusion_rate * 3\n",
    "\n",
    "    updated_concentration = cell_concentration + in_diffusion - out_diffusion\n",
    "\n",
    "    return updated_concentration"
   ]
  },
  {
   "cell_type": "code",
   "execution_count": 99,
   "id": "61a12e56-31bc-4d6c-9e71-7a81cbcdbe3a",
   "metadata": {},
   "outputs": [],
   "source": [
    "import tensorflow as tf\n",
    "\n",
    "def apply_diffusion1(current_concentration, compartment, column_position, diffusion_rate, time_step):\n",
    "    \"\"\"\n",
    "    Apply diffusion to update the concentration of species in a specific column of a 2D compartment.\n",
    "\n",
    "    Parameters:\n",
    "        - current_concentration (1d tensor): Tensor of current concentrations for each cell of the column.\n",
    "        - compartment (2d tensor): Tensor representing the 2D compartment where diffusion takes place.\n",
    "        - column_position (int): Column position of the cells being updated (0-based index).\n",
    "        - diffusion_rate (float): Rate at which the species diffuses between cells.\n",
    "        - time_step (float): Discrete time step for the calculation.\n",
    "\n",
    "    Returns:\n",
    "        - 1d tensor: updated current_concentration tensor.\n",
    "    \"\"\"\n",
    "    compartment_size = compartment.shape[0]\n",
    "    temporary_concentration = tf.identity(current_concentration)\n",
    "\n",
    "    indices = []\n",
    "\n",
    "    # Update corner and side cells\n",
    "    if column_position == 0:\n",
    "        indices = [[0], [-1]] + [[i] for i in range(1, compartment_size - 1)]\n",
    "        updates = tf.concat([\n",
    "            update_upper_left_corner_concentration(\n",
    "                cell_concentration=current_concentration[0],\n",
    "                lower_cell_concentration=compartment[1, 0],\n",
    "                right_cell_concentration=compartment[0, 1],\n",
    "                diffusion_rate=diffusion_rate,\n",
    "                time_step=time_step\n",
    "            ),\n",
    "            update_lower_left_corner_concentration(\n",
    "                cell_concentration=current_concentration[-1],\n",
    "                upper_cell_concentration=compartment[-2, 0],\n",
    "                right_cell_concentration=compartment[-1, 1],\n",
    "                diffusion_rate=diffusion_rate,\n",
    "                time_step=time_step\n",
    "            ),\n",
    "            update_left_side_concentration(\n",
    "                cell_concentration=current_concentration[1:-1],\n",
    "                upper_cell_concentration=compartment[:-2, 0],\n",
    "                lower_cell_concentration=compartment[2:, 0],\n",
    "                right_cell_concentration=compartment[1:-1, 1],\n",
    "                diffusion_rate=diffusion_rate,\n",
    "                time_step=time_step\n",
    "            )\n",
    "        ], axis=0)\n",
    "    \n",
    "    elif column_position == compartment_size - 1:\n",
    "        indices = [[0], [-1]] + [[i] for i in range(1, compartment_size - 1)]\n",
    "        updates = tf.concat([\n",
    "            update_upper_right_corner_concentration(\n",
    "                cell_concentration=current_concentration[0],\n",
    "                lower_cell_concentration=compartment[1, -1],\n",
    "                left_cell_concentration=compartment[0, -2],\n",
    "                diffusion_rate=diffusion_rate,\n",
    "                time_step=time_step\n",
    "            ),\n",
    "            update_lower_right_corner_concentration(\n",
    "                cell_concentration=current_concentration[-1],\n",
    "                upper_cell_concentration=compartment[-2, -1],\n",
    "                left_cell_concentration=compartment[-1, -2],\n",
    "                diffusion_rate=diffusion_rate,\n",
    "                time_step=time_step\n",
    "            ),\n",
    "            update_right_side_concentration(\n",
    "                cell_concentration=current_concentration[1:-1],\n",
    "                upper_cell_concentration=compartment[:-2, -1],\n",
    "                lower_cell_concentration=compartment[2:, -1],\n",
    "                left_cell_concentration=compartment[1:-1, -2],\n",
    "                diffusion_rate=diffusion_rate,\n",
    "                time_step=time_step\n",
    "            )\n",
    "        ], axis=0)\n",
    "    \n",
    "    else:\n",
    "        indices = [[0], [-1]] + [[i] for i in range(1, compartment_size - 1)]\n",
    "        updates = tf.concat([\n",
    "            update_central_concentration_upper(\n",
    "                cell_concentration=current_concentration[0],\n",
    "                lower_cell_concentration=compartment[1, column_position],\n",
    "                right_cell_concentration=compartment[0, column_position + 1],\n",
    "                left_cell_concentration=compartment[0, column_position - 1],\n",
    "                diffusion_rate=diffusion_rate,\n",
    "                time_step=time_step\n",
    "            ),\n",
    "            update_central_concentration_lower(\n",
    "                cell_concentration=current_concentration[-1],\n",
    "                upper_cell_concentration=compartment[-2, column_position],\n",
    "                right_cell_concentration=compartment[-1, column_position + 1],\n",
    "                left_cell_concentration=compartment[-1, column_position - 1],\n",
    "                diffusion_rate=diffusion_rate,\n",
    "                time_step=time_step\n",
    "            ),\n",
    "            update_central_concentration_middle(\n",
    "                cell_concentration=current_concentration[1:-1],\n",
    "                upper_cell_concentration=compartment[0:-2, column_position],\n",
    "                lower_cell_concentration=compartment[2:, column_position],\n",
    "                right_cell_concentration=compartment[1:-1, column_position + 1],\n",
    "                left_cell_concentration=compartment[1:-1, column_position - 1],\n",
    "                diffusion_rate=diffusion_rate,\n",
    "                time_step=time_step\n",
    "            )\n",
    "        ], axis=0)\n",
    "\n",
    "    temporary_concentration = tf.tensor_scatter_nd_update(temporary_concentration, tf.constant(indices), updates)\n",
    "    updated_concentration = tf.maximum(temporary_concentration, 0.0)\n",
    "\n",
    "    return updated_concentration\n",
    "\n",
    "\n",
    "def update_lower_left_corner_concentration(\n",
    "    cell_concentration,\n",
    "    upper_cell_concentration,\n",
    "    right_cell_concentration,\n",
    "    diffusion_rate,\n",
    "    time_step\n",
    "):\n",
    "    \"\"\"\n",
    "    Update the concentration of a species in a cell located at the lower-left corner of a 2D compartment\n",
    "    based on diffusion from neighboring cells.\n",
    "\n",
    "    Parameters:\n",
    "    - cell_concentration (1d array): Concentration of the species in the lower-left corner cell.\n",
    "    - upper_cell_concentration (1d array): Concentration of the species in the cell directly above the lower-left cell.\n",
    "    - right_cell_concentration (1d array): Concentration of the species in the cell directly to the right of the lower-left cell.\n",
    "    - diffusion_rate (float): Rate at which the species diffuses between cells.\n",
    "    - time_step (float): Discrete time step for the calculation.\n",
    "\n",
    "    Returns:\n",
    "    - 1d array: Updated concentration of the species in the lower-left corner cell.\n",
    "    \"\"\"\n",
    "    in_diffusion = (time_step * upper_cell_concentration * diffusion_rate) + \\\n",
    "                   (time_step * right_cell_concentration * diffusion_rate)\n",
    "    out_diffusion = time_step * cell_concentration * diffusion_rate * 2\n",
    "\n",
    "    updated_concentration = cell_concentration + in_diffusion - out_diffusion\n",
    "\n",
    "    return updated_concentration\n",
    "\n",
    "\n",
    "\n",
    "def update_lower_right_corner_concentration(\n",
    "    cell_concentration,\n",
    "    upper_cell_concentration,\n",
    "    left_cell_concentration,\n",
    "    diffusion_rate,\n",
    "    time_step\n",
    "):\n",
    "    \"\"\"\n",
    "        Update the concentration of a species in a cell located at the lower-right corner of a 2D compartment\n",
    "        based on diffusion from neighboring cells.\n",
    "\n",
    "        Parameters:\n",
    "        - cell_concentration (1d array): Concentration of the species in the lower-left corner cell.\n",
    "        - upper_cell_concentration (1d array): Concentration of the species in the cell directly above the lower-right cell.\n",
    "        - left_cell_concentration (1d array): Concentration of the species in the cell directly to the left of the lower-right cell.\n",
    "        - diffusion_rate (float): Rate at which the species diffuses between cells.\n",
    "        - time_step (float): Discrete time step for the calculation.\n",
    "\n",
    "        Returns:\n",
    "        - 1d array: Updated concentration of the species in the lower-left corner cell.\n",
    "        \"\"\"\n",
    "    in_diffusion = (time_step * upper_cell_concentration * diffusion_rate) + \\\n",
    "                   (time_step * left_cell_concentration * diffusion_rate)\n",
    "    out_diffusion = time_step * cell_concentration * diffusion_rate * 2\n",
    "\n",
    "    updated_concentration = cell_concentration + in_diffusion - out_diffusion\n",
    "\n",
    "    return updated_concentration\n",
    "\n",
    "\n",
    "\n",
    "def update_upper_left_corner_concentration(\n",
    "    cell_concentration,\n",
    "    lower_cell_concentration,\n",
    "    right_cell_concentration,\n",
    "    diffusion_rate,\n",
    "    time_step\n",
    "):\n",
    "    \"\"\"\n",
    "    Update the concentration of a species in a cell located at the upper-left corner of a 2D compartment\n",
    "    based on diffusion from neighboring cells for each individual in population.\n",
    "\n",
    "    Parameters:\n",
    "    - cell_concentration (1d array): Concentration of the species in the upper-left corner cell.\n",
    "    - lower_cell_concentration (1d array): Concentration of the species in the cell directly below the upper-left cell.\n",
    "    - right_cell_concentration (1d array): Concentration of the species in the cell directly to the right of the upper-left cell.\n",
    "    - diffusion_rate (float): Rates at which the species diffuses between cells.\n",
    "    - time_step (float): Discrete time step for the calculation.\n",
    "\n",
    "    Returns:\n",
    "    - 1d array: Updated concentration of the species in the upper-left corner cell.\n",
    "    \"\"\"\n",
    "    in_diffusion = (time_step * lower_cell_concentration * diffusion_rate) + \\\n",
    "                   (time_step * right_cell_concentration * diffusion_rate)\n",
    "    out_diffusion = time_step * cell_concentration * diffusion_rate * 2\n",
    "\n",
    "    updated_concentration = cell_concentration + in_diffusion - out_diffusion\n",
    "\n",
    "    return updated_concentration\n",
    "\n",
    "\n",
    "\n",
    "def update_upper_right_corner_concentration(\n",
    "    cell_concentration,\n",
    "    lower_cell_concentration,\n",
    "    left_cell_concentration,\n",
    "    diffusion_rate,\n",
    "    time_step\n",
    "):\n",
    "    \"\"\"\n",
    "        Update the concentration of a species in a cell located at the upper-right corner of a 2D compartment\n",
    "        based on diffusion from neighboring cells.\n",
    "\n",
    "        Parameters:\n",
    "        - cell_concentration (1d array): Concentration of the species in the upper-right corner cell.\n",
    "        - lower_cell_concentration (1d array): Concentration of the species in the cell directly below the upper-left cell.\n",
    "        - left_cell_concentration (1d array): Concentration of the species in the cell directly to the left of the upper-right cell.\n",
    "        - diffusion_rate (float): Rate at which the species diffuses between cells.\n",
    "        - time_step (float/1d array): Discrete time step/s for the calculation.\n",
    "\n",
    "        Returns:\n",
    "        - 1d array: Updated concentration of the species in the upper-left corner cell.\n",
    "        \"\"\"\n",
    "    in_diffusion = (time_step * lower_cell_concentration * diffusion_rate) + \\\n",
    "                   (time_step * left_cell_concentration * diffusion_rate)\n",
    "    out_diffusion = time_step * cell_concentration * diffusion_rate * 2\n",
    "\n",
    "    updated_concentration = cell_concentration + in_diffusion - out_diffusion\n",
    "\n",
    "    return updated_concentration\n",
    "\n",
    "\n",
    "\n",
    "\n",
    "def update_left_side_concentration(\n",
    "    cell_concentration,\n",
    "    upper_cell_concentration,\n",
    "    lower_cell_concentration,\n",
    "    right_cell_concentration,\n",
    "    diffusion_rate,\n",
    "    time_step\n",
    "):\n",
    "    \"\"\"\n",
    "    Update the concentration of a species in cells located along the left side of a 2D compartment\n",
    "    (excluding the corners) based on diffusion from neighboring cells for each individual in population.\n",
    "\n",
    "    Parameters:\n",
    "    - cell_concentration (2d array): Array of concentrations for cells in the leftmost column (excluding corners).\n",
    "    - upper_cell_concentration (2d array): Array of concentrations for cells directly above the current cells.\n",
    "    - lower_cell_concentration (2d array): Array of concentrations for cells directly below the current cells.\n",
    "    - right_cell_concentration (2d array): Array of concentrations for cells directly to the right of the current cells.\n",
    "    - diffusion_rate (float): Rate at which the species diffuses between cells.\n",
    "    - time_step (float): Discrete time step for the calculation.\n",
    "\n",
    "    Returns:\n",
    "    - numpy.ndarray: Updated concentrations of the species in the current cells.\n",
    "    \"\"\"\n",
    "    upper_cell_in = time_step * upper_cell_concentration * diffusion_rate\n",
    "    lower_cell_in = time_step * lower_cell_concentration * diffusion_rate\n",
    "    right_cell_in = time_step * right_cell_concentration * diffusion_rate\n",
    "\n",
    "    in_diffusion = upper_cell_in + lower_cell_in + right_cell_in\n",
    "    out_diffusion = time_step * cell_concentration * diffusion_rate * 3\n",
    "\n",
    "    updated_concentration = cell_concentration + in_diffusion - out_diffusion\n",
    "\n",
    "    return updated_concentration\n",
    "\n",
    "\n",
    "\n",
    "\n",
    "def update_right_side_concentration(\n",
    "        cell_concentration,\n",
    "        upper_cell_concentration,\n",
    "        lower_cell_concentration,\n",
    "        left_cell_concentration,\n",
    "        diffusion_rate,\n",
    "        time_step\n",
    "):\n",
    "    \"\"\"\n",
    "        Update the concentration of a species in cells located along the right side of a 2D compartment\n",
    "        (excluding the corners) based on diffusion from neighboring cells for each individual in population.\n",
    "\n",
    "        Parameters:\n",
    "        - cell_concentration (2d array): Array of concentrations for cells in the leftmost column (excluding corners).\n",
    "        - upper_cell_concentration (2d array): Array of concentrations for cells directly above the current cells.\n",
    "        - lower_cell_concentration (2d array): Array of concentrations for cells directly below the current cells.\n",
    "        - left_cell_concentration (2d array): Array of concentrations for cells directly to the left of the current cells.\n",
    "        - diffusion_rate (float): Rate at which the species diffuses between cells.\n",
    "        - time_step (float): Discrete time step for the calculation.\n",
    "\n",
    "        Returns:\n",
    "        - numpy.ndarray: Updated concentrations of the species in the current cells.\n",
    "        \"\"\"\n",
    "    upper_cell_in = time_step * upper_cell_concentration * diffusion_rate\n",
    "    lower_cell_in = time_step * lower_cell_concentration * diffusion_rate\n",
    "    right_cell_in = time_step * left_cell_concentration * diffusion_rate\n",
    "\n",
    "    in_diffusion = upper_cell_in + lower_cell_in + right_cell_in\n",
    "    out_diffusion = time_step * cell_concentration.T * diffusion_rate * 3\n",
    "\n",
    "    updated_concentration = cell_concentration + in_diffusion - out_diffusion\n",
    "\n",
    "    return updated_concentration\n",
    "\n",
    "\n",
    "\n",
    "def update_central_concentration_middle(\n",
    "        cell_concentration,\n",
    "        upper_cell_concentration,\n",
    "        lower_cell_concentration,\n",
    "        right_cell_concentration,\n",
    "        left_cell_concentration,\n",
    "        diffusion_rate,\n",
    "        time_step\n",
    "):\n",
    "    \"\"\"\n",
    "    Update the concentration of species in multiple interior cells of a 2D compartment based on diffusion\n",
    "    from neighboring cells for each individual in population.\n",
    "\n",
    "    Parameters:\n",
    "    - cell_concentration (2d array): Array of concentrations for multiple interior cells.\n",
    "    - upper_cell_concentration (2d array): Array of concentrations for the cells directly above the current cells.\n",
    "    - lower_cell_concentration (2d array): Array of concentrations for the cells directly below the current cells.\n",
    "    - right_cell_concentration (2d array): Array of concentrations for the cells directly to the right of the current cells.\n",
    "    - left_cell_concentration (2d array): Array of concentrations for the cells directly to the left of the current cells.\n",
    "    - diffusion_rate (float): Rate at which the species diffuses between cells.\n",
    "    - time_step (float): Discrete time step for the calculation.\n",
    "\n",
    "    Returns:\n",
    "    - ndarray: Updated concentrations of the species in the current interior cells.\n",
    "    \"\"\"\n",
    "    upper_cell_in = time_step * upper_cell_concentration * diffusion_rate\n",
    "    lower_cell_in = time_step * lower_cell_concentration * diffusion_rate\n",
    "    right_cell_in = time_step * right_cell_concentration * diffusion_rate\n",
    "    left_cell_in = time_step * left_cell_concentration * diffusion_rate\n",
    "\n",
    "    in_diffusion = upper_cell_in + lower_cell_in + right_cell_in + left_cell_in\n",
    "    out_diffusion = time_step * cell_concentration * diffusion_rate * 4\n",
    "\n",
    "    updated_concentration = cell_concentration + in_diffusion - out_diffusion\n",
    "\n",
    "    return updated_concentration\n",
    "\n",
    "\n",
    "\n",
    "def update_central_concentration_upper(\n",
    "        cell_concentration,\n",
    "        lower_cell_concentration,\n",
    "        right_cell_concentration,\n",
    "        left_cell_concentration,\n",
    "        diffusion_rate,\n",
    "        time_step\n",
    "):\n",
    "    \"\"\"\n",
    "    Update the concentration of a species in a cell located in the upper interior of a 2D compartment\n",
    "    based on diffusion from neighboring cells for each individual in population.\n",
    "\n",
    "    Parameters:\n",
    "    - cell_concentration (1d array): Concentration of the species in the current upper interior cell.\n",
    "    - lower_cell_concentration (1d array): Concentration of the species in the cell directly below the current cell.\n",
    "    - right_cell_concentration (1d array): Concentration of the species in the cell directly to the right of the current cell.\n",
    "    - left_cell_concentration (1d array): Concentration of the species in the cell directly to the left of the current cell.\n",
    "    - diffusion_rate (float): Rate at which the species diffuses between cells.\n",
    "    - time_step (float): Discrete time step for the calculation.\n",
    "\n",
    "    Returns:\n",
    "    - 1d array: Updated concentration of the species in the current upper interior cell.\n",
    "    \"\"\"\n",
    "    lower_cell_in = time_step * lower_cell_concentration * diffusion_rate\n",
    "    right_cell_in = time_step * right_cell_concentration * diffusion_rate\n",
    "    left_cell_in = time_step * left_cell_concentration * diffusion_rate\n",
    "\n",
    "    in_diffusion = lower_cell_in + right_cell_in + left_cell_in\n",
    "    out_diffusion = time_step * cell_concentration * diffusion_rate * 3\n",
    "\n",
    "    updated_concentration = cell_concentration + in_diffusion - out_diffusion\n",
    "\n",
    "    return updated_concentration\n",
    "\n",
    "\n",
    "\n",
    "\n",
    "def update_central_concentration_lower(\n",
    "        cell_concentration,\n",
    "        upper_cell_concentration,\n",
    "        right_cell_concentration,\n",
    "        left_cell_concentration,\n",
    "        diffusion_rate,\n",
    "        time_step\n",
    "):\n",
    "    \"\"\"\n",
    "    Update the concentration of a species in a cell located in the lower interior of a 2D compartment\n",
    "    based on diffusion from neighboring cells.\n",
    "\n",
    "    Parameters:\n",
    "    - cell_concentration (1d array): Concentration of the species in the current lower interior cell.\n",
    "    - upper_cell_concentration (1d array): Concentration of the species in the cell directly above the current cell.\n",
    "    - right_cell_concentration (1d array): Concentration of the species in the cell directly to the right of the current cell.\n",
    "    - left_cell_concentration (1d array): Concentration of the species in the cell directly to the left of the current cell.\n",
    "    - diffusion_rate (float): Rate at which the species diffuses between cells.\n",
    "    - time_step (float): Discrete time step for the calculation.\n",
    "\n",
    "    Returns:\n",
    "    - 1d array: Updated concentration of the species in the current lower interior cell.\n",
    "    \"\"\"\n",
    "    upper_cell_in = time_step * upper_cell_concentration * diffusion_rate\n",
    "    right_cell_in = time_step * right_cell_concentration * diffusion_rate\n",
    "    left_cell_in = time_step * left_cell_concentration * diffusion_rate\n",
    "\n",
    "    in_diffusion = upper_cell_in + right_cell_in + left_cell_in\n",
    "    out_diffusion = time_step * cell_concentration * diffusion_rate * 3\n",
    "\n",
    "    updated_concentration = cell_concentration + in_diffusion - out_diffusion\n",
    "\n",
    "    return updated_concentration"
   ]
  },
  {
   "cell_type": "code",
   "execution_count": 100,
   "id": "d17d91e2-5e8d-4a59-816c-206afacefde5",
   "metadata": {},
   "outputs": [
    {
     "name": "stderr",
     "output_type": "stream",
     "text": [
      "2024-08-26 18:17:39.942461: W tensorflow/core/framework/local_rendezvous.cc:404] Local rendezvous is aborting with status: INVALID_ARGUMENT: ConcatOp : Can't concatenate scalars (use tf.stack instead)\n"
     ]
    },
    {
     "ename": "InvalidArgumentError",
     "evalue": "{{function_node __wrapped__ConcatV2_N_3_device_/job:localhost/replica:0/task:0/device:CPU:0}} ConcatOp : Can't concatenate scalars (use tf.stack instead) [Op:ConcatV2] name: concat",
     "output_type": "error",
     "traceback": [
      "\u001b[0;31m---------------------------------------------------------------------------\u001b[0m",
      "\u001b[0;31mInvalidArgumentError\u001b[0m                      Traceback (most recent call last)",
      "Cell \u001b[0;32mIn[100], line 10\u001b[0m\n\u001b[1;32m      7\u001b[0m updates \u001b[38;5;241m=\u001b[39m tf\u001b[38;5;241m.\u001b[39mconstant([\u001b[38;5;241m2.0\u001b[39m] \u001b[38;5;241m*\u001b[39m \u001b[38;5;241m20\u001b[39m)\n\u001b[1;32m      8\u001b[0m com1 \u001b[38;5;241m=\u001b[39m tf\u001b[38;5;241m.\u001b[39mtensor_scatter_nd_update(com, indices, updates)\n\u001b[0;32m---> 10\u001b[0m h \u001b[38;5;241m=\u001b[39m \u001b[43mapply_diffusion1\u001b[49m\u001b[43m(\u001b[49m\u001b[43mc1\u001b[49m\u001b[43m,\u001b[49m\u001b[43m \u001b[49m\u001b[43mcom1\u001b[49m\u001b[43m,\u001b[49m\u001b[43m \u001b[49m\u001b[38;5;241;43m5\u001b[39;49m\u001b[43m,\u001b[49m\u001b[43m \u001b[49m\u001b[38;5;241;43m0.9\u001b[39;49m\u001b[43m,\u001b[49m\u001b[43m \u001b[49m\u001b[38;5;241;43m0.1\u001b[39;49m\u001b[43m)\u001b[49m\n\u001b[1;32m     11\u001b[0m h\n",
      "Cell \u001b[0;32mIn[99], line 79\u001b[0m, in \u001b[0;36mapply_diffusion1\u001b[0;34m(current_concentration, compartment, column_position, diffusion_rate, time_step)\u001b[0m\n\u001b[1;32m     77\u001b[0m \u001b[38;5;28;01melse\u001b[39;00m:\n\u001b[1;32m     78\u001b[0m     indices \u001b[38;5;241m=\u001b[39m [[\u001b[38;5;241m0\u001b[39m], [\u001b[38;5;241m-\u001b[39m\u001b[38;5;241m1\u001b[39m]] \u001b[38;5;241m+\u001b[39m [[i] \u001b[38;5;28;01mfor\u001b[39;00m i \u001b[38;5;129;01min\u001b[39;00m \u001b[38;5;28mrange\u001b[39m(\u001b[38;5;241m1\u001b[39m, compartment_size \u001b[38;5;241m-\u001b[39m \u001b[38;5;241m1\u001b[39m)]\n\u001b[0;32m---> 79\u001b[0m     updates \u001b[38;5;241m=\u001b[39m \u001b[43mtf\u001b[49m\u001b[38;5;241;43m.\u001b[39;49m\u001b[43mconcat\u001b[49m\u001b[43m(\u001b[49m\u001b[43m[\u001b[49m\n\u001b[1;32m     80\u001b[0m \u001b[43m        \u001b[49m\u001b[43mupdate_central_concentration_upper\u001b[49m\u001b[43m(\u001b[49m\n\u001b[1;32m     81\u001b[0m \u001b[43m            \u001b[49m\u001b[43mcell_concentration\u001b[49m\u001b[38;5;241;43m=\u001b[39;49m\u001b[43mcurrent_concentration\u001b[49m\u001b[43m[\u001b[49m\u001b[38;5;241;43m0\u001b[39;49m\u001b[43m]\u001b[49m\u001b[43m,\u001b[49m\n\u001b[1;32m     82\u001b[0m \u001b[43m            \u001b[49m\u001b[43mlower_cell_concentration\u001b[49m\u001b[38;5;241;43m=\u001b[39;49m\u001b[43mcompartment\u001b[49m\u001b[43m[\u001b[49m\u001b[38;5;241;43m1\u001b[39;49m\u001b[43m,\u001b[49m\u001b[43m \u001b[49m\u001b[43mcolumn_position\u001b[49m\u001b[43m]\u001b[49m\u001b[43m,\u001b[49m\n\u001b[1;32m     83\u001b[0m \u001b[43m            \u001b[49m\u001b[43mright_cell_concentration\u001b[49m\u001b[38;5;241;43m=\u001b[39;49m\u001b[43mcompartment\u001b[49m\u001b[43m[\u001b[49m\u001b[38;5;241;43m0\u001b[39;49m\u001b[43m,\u001b[49m\u001b[43m \u001b[49m\u001b[43mcolumn_position\u001b[49m\u001b[43m \u001b[49m\u001b[38;5;241;43m+\u001b[39;49m\u001b[43m \u001b[49m\u001b[38;5;241;43m1\u001b[39;49m\u001b[43m]\u001b[49m\u001b[43m,\u001b[49m\n\u001b[1;32m     84\u001b[0m \u001b[43m            \u001b[49m\u001b[43mleft_cell_concentration\u001b[49m\u001b[38;5;241;43m=\u001b[39;49m\u001b[43mcompartment\u001b[49m\u001b[43m[\u001b[49m\u001b[38;5;241;43m0\u001b[39;49m\u001b[43m,\u001b[49m\u001b[43m \u001b[49m\u001b[43mcolumn_position\u001b[49m\u001b[43m \u001b[49m\u001b[38;5;241;43m-\u001b[39;49m\u001b[43m \u001b[49m\u001b[38;5;241;43m1\u001b[39;49m\u001b[43m]\u001b[49m\u001b[43m,\u001b[49m\n\u001b[1;32m     85\u001b[0m \u001b[43m            \u001b[49m\u001b[43mdiffusion_rate\u001b[49m\u001b[38;5;241;43m=\u001b[39;49m\u001b[43mdiffusion_rate\u001b[49m\u001b[43m,\u001b[49m\n\u001b[1;32m     86\u001b[0m \u001b[43m            \u001b[49m\u001b[43mtime_step\u001b[49m\u001b[38;5;241;43m=\u001b[39;49m\u001b[43mtime_step\u001b[49m\n\u001b[1;32m     87\u001b[0m \u001b[43m        \u001b[49m\u001b[43m)\u001b[49m\u001b[43m,\u001b[49m\n\u001b[1;32m     88\u001b[0m \u001b[43m        \u001b[49m\u001b[43mupdate_central_concentration_lower\u001b[49m\u001b[43m(\u001b[49m\n\u001b[1;32m     89\u001b[0m \u001b[43m            \u001b[49m\u001b[43mcell_concentration\u001b[49m\u001b[38;5;241;43m=\u001b[39;49m\u001b[43mcurrent_concentration\u001b[49m\u001b[43m[\u001b[49m\u001b[38;5;241;43m-\u001b[39;49m\u001b[38;5;241;43m1\u001b[39;49m\u001b[43m]\u001b[49m\u001b[43m,\u001b[49m\n\u001b[1;32m     90\u001b[0m \u001b[43m            \u001b[49m\u001b[43mupper_cell_concentration\u001b[49m\u001b[38;5;241;43m=\u001b[39;49m\u001b[43mcompartment\u001b[49m\u001b[43m[\u001b[49m\u001b[38;5;241;43m-\u001b[39;49m\u001b[38;5;241;43m2\u001b[39;49m\u001b[43m,\u001b[49m\u001b[43m \u001b[49m\u001b[43mcolumn_position\u001b[49m\u001b[43m]\u001b[49m\u001b[43m,\u001b[49m\n\u001b[1;32m     91\u001b[0m \u001b[43m            \u001b[49m\u001b[43mright_cell_concentration\u001b[49m\u001b[38;5;241;43m=\u001b[39;49m\u001b[43mcompartment\u001b[49m\u001b[43m[\u001b[49m\u001b[38;5;241;43m-\u001b[39;49m\u001b[38;5;241;43m1\u001b[39;49m\u001b[43m,\u001b[49m\u001b[43m \u001b[49m\u001b[43mcolumn_position\u001b[49m\u001b[43m \u001b[49m\u001b[38;5;241;43m+\u001b[39;49m\u001b[43m \u001b[49m\u001b[38;5;241;43m1\u001b[39;49m\u001b[43m]\u001b[49m\u001b[43m,\u001b[49m\n\u001b[1;32m     92\u001b[0m \u001b[43m            \u001b[49m\u001b[43mleft_cell_concentration\u001b[49m\u001b[38;5;241;43m=\u001b[39;49m\u001b[43mcompartment\u001b[49m\u001b[43m[\u001b[49m\u001b[38;5;241;43m-\u001b[39;49m\u001b[38;5;241;43m1\u001b[39;49m\u001b[43m,\u001b[49m\u001b[43m \u001b[49m\u001b[43mcolumn_position\u001b[49m\u001b[43m \u001b[49m\u001b[38;5;241;43m-\u001b[39;49m\u001b[43m \u001b[49m\u001b[38;5;241;43m1\u001b[39;49m\u001b[43m]\u001b[49m\u001b[43m,\u001b[49m\n\u001b[1;32m     93\u001b[0m \u001b[43m            \u001b[49m\u001b[43mdiffusion_rate\u001b[49m\u001b[38;5;241;43m=\u001b[39;49m\u001b[43mdiffusion_rate\u001b[49m\u001b[43m,\u001b[49m\n\u001b[1;32m     94\u001b[0m \u001b[43m            \u001b[49m\u001b[43mtime_step\u001b[49m\u001b[38;5;241;43m=\u001b[39;49m\u001b[43mtime_step\u001b[49m\n\u001b[1;32m     95\u001b[0m \u001b[43m        \u001b[49m\u001b[43m)\u001b[49m\u001b[43m,\u001b[49m\n\u001b[1;32m     96\u001b[0m \u001b[43m        \u001b[49m\u001b[43mupdate_central_concentration_middle\u001b[49m\u001b[43m(\u001b[49m\n\u001b[1;32m     97\u001b[0m \u001b[43m            \u001b[49m\u001b[43mcell_concentration\u001b[49m\u001b[38;5;241;43m=\u001b[39;49m\u001b[43mcurrent_concentration\u001b[49m\u001b[43m[\u001b[49m\u001b[38;5;241;43m1\u001b[39;49m\u001b[43m:\u001b[49m\u001b[38;5;241;43m-\u001b[39;49m\u001b[38;5;241;43m1\u001b[39;49m\u001b[43m]\u001b[49m\u001b[43m,\u001b[49m\n\u001b[1;32m     98\u001b[0m \u001b[43m            \u001b[49m\u001b[43mupper_cell_concentration\u001b[49m\u001b[38;5;241;43m=\u001b[39;49m\u001b[43mcompartment\u001b[49m\u001b[43m[\u001b[49m\u001b[38;5;241;43m0\u001b[39;49m\u001b[43m:\u001b[49m\u001b[38;5;241;43m-\u001b[39;49m\u001b[38;5;241;43m2\u001b[39;49m\u001b[43m,\u001b[49m\u001b[43m \u001b[49m\u001b[43mcolumn_position\u001b[49m\u001b[43m]\u001b[49m\u001b[43m,\u001b[49m\n\u001b[1;32m     99\u001b[0m \u001b[43m            \u001b[49m\u001b[43mlower_cell_concentration\u001b[49m\u001b[38;5;241;43m=\u001b[39;49m\u001b[43mcompartment\u001b[49m\u001b[43m[\u001b[49m\u001b[38;5;241;43m2\u001b[39;49m\u001b[43m:\u001b[49m\u001b[43m,\u001b[49m\u001b[43m \u001b[49m\u001b[43mcolumn_position\u001b[49m\u001b[43m]\u001b[49m\u001b[43m,\u001b[49m\n\u001b[1;32m    100\u001b[0m \u001b[43m            \u001b[49m\u001b[43mright_cell_concentration\u001b[49m\u001b[38;5;241;43m=\u001b[39;49m\u001b[43mcompartment\u001b[49m\u001b[43m[\u001b[49m\u001b[38;5;241;43m1\u001b[39;49m\u001b[43m:\u001b[49m\u001b[38;5;241;43m-\u001b[39;49m\u001b[38;5;241;43m1\u001b[39;49m\u001b[43m,\u001b[49m\u001b[43m \u001b[49m\u001b[43mcolumn_position\u001b[49m\u001b[43m \u001b[49m\u001b[38;5;241;43m+\u001b[39;49m\u001b[43m \u001b[49m\u001b[38;5;241;43m1\u001b[39;49m\u001b[43m]\u001b[49m\u001b[43m,\u001b[49m\n\u001b[1;32m    101\u001b[0m \u001b[43m            \u001b[49m\u001b[43mleft_cell_concentration\u001b[49m\u001b[38;5;241;43m=\u001b[39;49m\u001b[43mcompartment\u001b[49m\u001b[43m[\u001b[49m\u001b[38;5;241;43m1\u001b[39;49m\u001b[43m:\u001b[49m\u001b[38;5;241;43m-\u001b[39;49m\u001b[38;5;241;43m1\u001b[39;49m\u001b[43m,\u001b[49m\u001b[43m \u001b[49m\u001b[43mcolumn_position\u001b[49m\u001b[43m \u001b[49m\u001b[38;5;241;43m-\u001b[39;49m\u001b[43m \u001b[49m\u001b[38;5;241;43m1\u001b[39;49m\u001b[43m]\u001b[49m\u001b[43m,\u001b[49m\n\u001b[1;32m    102\u001b[0m \u001b[43m            \u001b[49m\u001b[43mdiffusion_rate\u001b[49m\u001b[38;5;241;43m=\u001b[39;49m\u001b[43mdiffusion_rate\u001b[49m\u001b[43m,\u001b[49m\n\u001b[1;32m    103\u001b[0m \u001b[43m            \u001b[49m\u001b[43mtime_step\u001b[49m\u001b[38;5;241;43m=\u001b[39;49m\u001b[43mtime_step\u001b[49m\n\u001b[1;32m    104\u001b[0m \u001b[43m        \u001b[49m\u001b[43m)\u001b[49m\n\u001b[1;32m    105\u001b[0m \u001b[43m    \u001b[49m\u001b[43m]\u001b[49m\u001b[43m,\u001b[49m\u001b[43m \u001b[49m\u001b[43maxis\u001b[49m\u001b[38;5;241;43m=\u001b[39;49m\u001b[38;5;241;43m0\u001b[39;49m\u001b[43m)\u001b[49m\n\u001b[1;32m    107\u001b[0m temporary_concentration \u001b[38;5;241m=\u001b[39m tf\u001b[38;5;241m.\u001b[39mtensor_scatter_nd_update(temporary_concentration, tf\u001b[38;5;241m.\u001b[39mconstant(indices), updates)\n\u001b[1;32m    108\u001b[0m updated_concentration \u001b[38;5;241m=\u001b[39m tf\u001b[38;5;241m.\u001b[39mmaximum(temporary_concentration, \u001b[38;5;241m0.0\u001b[39m)\n",
      "File \u001b[0;32m~/Documents/projects/venv/lib/python3.10/site-packages/tensorflow/python/util/traceback_utils.py:153\u001b[0m, in \u001b[0;36mfilter_traceback.<locals>.error_handler\u001b[0;34m(*args, **kwargs)\u001b[0m\n\u001b[1;32m    151\u001b[0m \u001b[38;5;28;01mexcept\u001b[39;00m \u001b[38;5;167;01mException\u001b[39;00m \u001b[38;5;28;01mas\u001b[39;00m e:\n\u001b[1;32m    152\u001b[0m   filtered_tb \u001b[38;5;241m=\u001b[39m _process_traceback_frames(e\u001b[38;5;241m.\u001b[39m__traceback__)\n\u001b[0;32m--> 153\u001b[0m   \u001b[38;5;28;01mraise\u001b[39;00m e\u001b[38;5;241m.\u001b[39mwith_traceback(filtered_tb) \u001b[38;5;28;01mfrom\u001b[39;00m \u001b[38;5;28;01mNone\u001b[39;00m\n\u001b[1;32m    154\u001b[0m \u001b[38;5;28;01mfinally\u001b[39;00m:\n\u001b[1;32m    155\u001b[0m   \u001b[38;5;28;01mdel\u001b[39;00m filtered_tb\n",
      "File \u001b[0;32m~/Documents/projects/venv/lib/python3.10/site-packages/tensorflow/python/framework/ops.py:5983\u001b[0m, in \u001b[0;36mraise_from_not_ok_status\u001b[0;34m(e, name)\u001b[0m\n\u001b[1;32m   5981\u001b[0m \u001b[38;5;28;01mdef\u001b[39;00m \u001b[38;5;21mraise_from_not_ok_status\u001b[39m(e, name) \u001b[38;5;241m-\u001b[39m\u001b[38;5;241m>\u001b[39m NoReturn:\n\u001b[1;32m   5982\u001b[0m   e\u001b[38;5;241m.\u001b[39mmessage \u001b[38;5;241m+\u001b[39m\u001b[38;5;241m=\u001b[39m (\u001b[38;5;124m\"\u001b[39m\u001b[38;5;124m name: \u001b[39m\u001b[38;5;124m\"\u001b[39m \u001b[38;5;241m+\u001b[39m \u001b[38;5;28mstr\u001b[39m(name \u001b[38;5;28;01mif\u001b[39;00m name \u001b[38;5;129;01mis\u001b[39;00m \u001b[38;5;129;01mnot\u001b[39;00m \u001b[38;5;28;01mNone\u001b[39;00m \u001b[38;5;28;01melse\u001b[39;00m \u001b[38;5;124m\"\u001b[39m\u001b[38;5;124m\"\u001b[39m))\n\u001b[0;32m-> 5983\u001b[0m   \u001b[38;5;28;01mraise\u001b[39;00m core\u001b[38;5;241m.\u001b[39m_status_to_exception(e) \u001b[38;5;28;01mfrom\u001b[39;00m \u001b[38;5;28;01mNone\u001b[39;00m\n",
      "\u001b[0;31mInvalidArgumentError\u001b[0m: {{function_node __wrapped__ConcatV2_N_3_device_/job:localhost/replica:0/task:0/device:CPU:0}} ConcatOp : Can't concatenate scalars (use tf.stack instead) [Op:ConcatV2] name: concat"
     ]
    }
   ],
   "source": [
    "#c = np.full((10, ), fill_value=10.0)\n",
    "c1 = tf.fill((10, ), value=10.0)\n",
    "#com = np.full((10, 10), fill_value=0.0)\n",
    "com = tf.fill((10, 10), value=0.0)\n",
    "\n",
    "indices = tf.constant([[i, j] for i in range(10) for j in range(5, 7)])\n",
    "updates = tf.constant([2.0] * 20)\n",
    "com1 = tf.tensor_scatter_nd_update(com, indices, updates)\n",
    "\n",
    "h = apply_diffusion1(c1, com1, 5, 0.9, 0.1)\n",
    "h"
   ]
  },
  {
   "cell_type": "code",
   "execution_count": 61,
   "id": "d99220bf-6491-4bf1-9789-5874749dbde5",
   "metadata": {},
   "outputs": [],
   "source": [
    "def update_lower_left_corner_concentration(\n",
    "    cell_concentration,\n",
    "    upper_cell_concentration,\n",
    "    right_cell_concentration,\n",
    "    diffusion_rate,\n",
    "    time_step):\n",
    "    \"\"\"\n",
    "    Update the concentration of a species in a cell located at the lower-left corner of a 2D compartment\n",
    "    based on diffusion from neighboring cells.\n",
    "\n",
    "    Parameters:\n",
    "    - cell_concentration (1d array): Concentration of the species in the lower-left corner cell.\n",
    "    - upper_cell_concentration (1d array): Concentration of the species in the cell directly above the lower-left cell.\n",
    "    - right_cell_concentration (1d array): Concentration of the species in the cell directly to the right of the lower-left cell.\n",
    "    - diffusion_rate (float): Rate at which the species diffuses between cells.\n",
    "    - time_step (float): Discrete time step for the calculation.\n",
    "\n",
    "    Returns:\n",
    "    - 1d array: Updated concentration of the species in the lower-left corner cell.\n",
    "    \"\"\"\n",
    "    in_diffusion = (time_step * upper_cell_concentration * diffusion_rate) + \\\n",
    "                   (time_step * right_cell_concentration * diffusion_rate)\n",
    "    out_diffusion = time_step * cell_concentration * diffusion_rate * 2\n",
    "\n",
    "    updated_concentration = cell_concentration + in_diffusion - out_diffusion\n",
    "\n",
    "    return updated_concentration\n",
    "\n",
    "\n",
    "def update_lower_left_corner_concentration1(\n",
    "    cell_concentration,\n",
    "    upper_cell_concentration,\n",
    "    right_cell_concentration,\n",
    "    diffusion_rate,\n",
    "    time_step):\n",
    "    \"\"\"\n",
    "    Update the concentration of a species in a cell located at the lower-left corner of a 2D compartment\n",
    "    based on diffusion from neighboring cells.\n",
    "\n",
    "    Parameters:\n",
    "    - cell_concentration (1d array): Concentration of the species in the lower-left corner cell.\n",
    "    - upper_cell_concentration (1d array): Concentration of the species in the cell directly above the lower-left cell.\n",
    "    - right_cell_concentration (1d array): Concentration of the species in the cell directly to the right of the lower-left cell.\n",
    "    - diffusion_rate (float): Rate at which the species diffuses between cells.\n",
    "    - time_step (float): Discrete time step for the calculation.\n",
    "\n",
    "    Returns:\n",
    "    - 1d array: Updated concentration of the species in the lower-left corner cell.\n",
    "    \"\"\"\n",
    "    in_diffusion = (time_step * upper_cell_concentration * diffusion_rate) + \\\n",
    "                   (time_step * right_cell_concentration * diffusion_rate)\n",
    "    out_diffusion = time_step * cell_concentration * diffusion_rate * 2\n",
    "\n",
    "    updated_concentration = cell_concentration + in_diffusion - out_diffusion\n",
    "\n",
    "    return updated_concentration"
   ]
  },
  {
   "cell_type": "code",
   "execution_count": 62,
   "id": "58ba478d-ace7-4867-8d9d-76f0d43b9fbc",
   "metadata": {},
   "outputs": [],
   "source": [
    "c1 = tf.fill(dims=(10, ), value=10.0)\n",
    "uc1 = tf.fill(dims=(10, ), value=2.0)\n",
    "rc1 = tf.fill(dims=(10, ), value=12.0)\n",
    "\n",
    "c11 = np.full((10, ), fill_value=10.0)\n",
    "uc11 = np.full((10, ), fill_value=2.0)\n",
    "rc11 = np.full((10, ), fill_value=12.0)"
   ]
  },
  {
   "cell_type": "code",
   "execution_count": 65,
   "id": "6f75b30e-87e0-4522-941e-7991d38de6d5",
   "metadata": {},
   "outputs": [],
   "source": [
    "tf_c = update_lower_left_corner_concentration1(c1, uc1, rc1, 0.4, 0.2)\n",
    "np_c = update_lower_left_corner_concentration(c11, uc11, rc11, 0.4, 0.2)"
   ]
  },
  {
   "cell_type": "code",
   "execution_count": 66,
   "id": "02f814a8-2fc5-4335-94cb-df3f6caaec52",
   "metadata": {},
   "outputs": [
    {
     "data": {
      "text/plain": [
       "array([9.52, 9.52, 9.52, 9.52, 9.52, 9.52, 9.52, 9.52, 9.52, 9.52])"
      ]
     },
     "execution_count": 66,
     "metadata": {},
     "output_type": "execute_result"
    }
   ],
   "source": [
    "np_c"
   ]
  },
  {
   "cell_type": "code",
   "execution_count": 67,
   "id": "b6291dc5-2839-449b-b4f8-03dbcb6d6bd5",
   "metadata": {},
   "outputs": [
    {
     "data": {
      "text/plain": [
       "<tf.Tensor: shape=(10,), dtype=float32, numpy=\n",
       "array([9.5199995, 9.5199995, 9.5199995, 9.5199995, 9.5199995, 9.5199995,\n",
       "       9.5199995, 9.5199995, 9.5199995, 9.5199995], dtype=float32)>"
      ]
     },
     "execution_count": 67,
     "metadata": {},
     "output_type": "execute_result"
    }
   ],
   "source": [
    "tf_c"
   ]
  },
  {
   "cell_type": "code",
   "execution_count": 78,
   "id": "abff9d60-76b8-4e4e-9be4-021bcf0da4f9",
   "metadata": {},
   "outputs": [
    {
     "data": {
      "text/plain": [
       "<tf.Tensor: shape=(10,), dtype=float32, numpy=array([10.,  9.,  9.,  9.,  9.,  9.,  9.,  9.,  9., 10.], dtype=float32)>"
      ]
     },
     "execution_count": 78,
     "metadata": {},
     "output_type": "execute_result"
    }
   ],
   "source": [
    "c = tf.fill((10, ), 10.0)\n",
    "b = tf.fill((8,), 9.0)\n",
    "\n",
    "t = tf.tensor_scatter_nd_update(c, list([i] for i in range(1, 9)),b)\n",
    "t\n",
    "        "
   ]
  },
  {
   "cell_type": "code",
   "execution_count": 84,
   "id": "5a5816d9-115b-4895-9931-d7d28610870f",
   "metadata": {},
   "outputs": [],
   "source": [
    "j = tf.fill((10, ), -2.0)\n",
    "h = tf.maximum(j, 0.0)"
   ]
  },
  {
   "cell_type": "code",
   "execution_count": 85,
   "id": "f0439d17-e1ee-4bb1-bd66-f12fe773d58d",
   "metadata": {},
   "outputs": [
    {
     "data": {
      "text/plain": [
       "<tf.Tensor: shape=(10,), dtype=float32, numpy=array([-2., -2., -2., -2., -2., -2., -2., -2., -2., -2.], dtype=float32)>"
      ]
     },
     "execution_count": 85,
     "metadata": {},
     "output_type": "execute_result"
    }
   ],
   "source": [
    "j"
   ]
  },
  {
   "cell_type": "code",
   "execution_count": 86,
   "id": "fda597d5-9e72-4d28-b05a-5db2ed425a6c",
   "metadata": {},
   "outputs": [
    {
     "data": {
      "text/plain": [
       "<tf.Tensor: shape=(10,), dtype=float32, numpy=array([0., 0., 0., 0., 0., 0., 0., 0., 0., 0.], dtype=float32)>"
      ]
     },
     "execution_count": 86,
     "metadata": {},
     "output_type": "execute_result"
    }
   ],
   "source": [
    "h"
   ]
  },
  {
   "cell_type": "code",
   "execution_count": 90,
   "id": "b12b0497-28aa-4858-a43f-b0e322ee06ad",
   "metadata": {},
   "outputs": [
    {
     "data": {
      "text/plain": [
       "<tf.Tensor: shape=(10,), dtype=float32, numpy=\n",
       "array([11.861, 11.861, 11.861, 11.861, 11.861, 11.861, 11.861, 11.861,\n",
       "       11.861, 11.861], dtype=float32)>"
      ]
     },
     "execution_count": 90,
     "metadata": {},
     "output_type": "execute_result"
    }
   ],
   "source": [
    "def update_lower_left_corner_concentration(\n",
    "    cell_concentration,\n",
    "    upper_cell_concentration,\n",
    "    right_cell_concentration,\n",
    "    diffusion_rate,\n",
    "    time_step):\n",
    "  \n",
    "    in_diffusion = (time_step * upper_cell_concentration * diffusion_rate) + \\\n",
    "                   (time_step * right_cell_concentration * diffusion_rate)\n",
    "    out_diffusion = time_step * cell_concentration * diffusion_rate * 2\n",
    "\n",
    "    updated_concentration = cell_concentration + in_diffusion - out_diffusion\n",
    "\n",
    "    return updated_concentration\n",
    "\n",
    "h = tf.fill((10, ), 12.0)\n",
    "h1 = tf.fill((10, ), 1.1)\n",
    "h2 = tf.fill((10, ), 9.0)\n",
    "h4 = update_lower_left_corner_concentration(h, h1, h2, 0.2, .05)\n",
    "h4"
   ]
  },
  {
   "cell_type": "code",
   "execution_count": 120,
   "id": "e47294c4-5d2a-493a-892e-c9086b95a332",
   "metadata": {},
   "outputs": [
    {
     "name": "stdout",
     "output_type": "stream",
     "text": [
      "(10, 10)\n",
      "tf.Tensor([9.48], shape=(1,), dtype=float32)\n"
     ]
    },
    {
     "data": {
      "text/plain": [
       "<tf.Tensor: shape=(10,), dtype=float32, numpy=\n",
       "array([10.  , 10.  , 10.  , 10.  , 10.  , 10.  , 10.  , 10.  , 10.  ,\n",
       "        9.48], dtype=float32)>"
      ]
     },
     "execution_count": 120,
     "metadata": {},
     "output_type": "execute_result"
    }
   ],
   "source": [
    "\n",
    "def update_central_concentration_lower(\n",
    "        cell_concentration,\n",
    "        upper_cell_concentration,\n",
    "        right_cell_concentration,\n",
    "        left_cell_concentration,\n",
    "        diffusion_rate,\n",
    "        time_step\n",
    "):\n",
    " \n",
    "    upper_cell_in = time_step * upper_cell_concentration * diffusion_rate\n",
    "    right_cell_in = time_step * right_cell_concentration * diffusion_rate\n",
    "    left_cell_in = time_step * left_cell_concentration * diffusion_rate\n",
    "\n",
    "    in_diffusion = upper_cell_in + right_cell_in + left_cell_in\n",
    "    out_diffusion = time_step * cell_concentration * diffusion_rate * 3\n",
    "\n",
    "    updated_concentration = cell_concentration + in_diffusion - out_diffusion\n",
    "    updated_concentration = tf.reshape(tensor=updated_concentration, shape=(1,))\n",
    "    print(updated_concentration)\n",
    "\n",
    "    return updated_concentration\n",
    "\n",
    "\n",
    "\n",
    "\n",
    "\n",
    "\n",
    "current_concentration = tf.fill((10, ), value=10.0)\n",
    "\n",
    "com = tf.fill((10, 10), value=0.0)\n",
    "indices = tf.constant([[i, j] for i in range(10) for j in range(5, 7)])\n",
    "updates = tf.constant([2.0] * 20)\n",
    "com1 = tf.tensor_scatter_nd_update(com, indices, updates)\n",
    "print(com1.shape)\n",
    "\n",
    "\n",
    "\n",
    "d = tf.tensor_scatter_nd_update(tensor=current_concentration, indices=[[9]], updates=update_central_concentration_lower(\n",
    "    cell_concentration=current_concentration[9],\n",
    "    upper_cell_concentration=com1[-2, 5],\n",
    "    right_cell_concentration=com1[-1, 5 + 1],\n",
    "    left_cell_concentration=com1[-1, 5 - 1],\n",
    "    diffusion_rate=0.2,\n",
    "    time_step=0.1))\n",
    "d"
   ]
  },
  {
   "cell_type": "code",
   "execution_count": 110,
   "id": "4ee9ae6d-b3d3-4743-a307-64c9caa4374a",
   "metadata": {},
   "outputs": [
    {
     "name": "stdout",
     "output_type": "stream",
     "text": [
      "tf.Tensor([ 9.48 10.   10.   10.   10.   10.   10.   10.   10.   10.  ], shape=(10,), dtype=float32)\n"
     ]
    }
   ],
   "source": [
    "import tensorflow as tf\n",
    "\n",
    "def update_central_concentration_upper(\n",
    "        cell_concentration,\n",
    "        lower_cell_concentration,\n",
    "        right_cell_concentration,\n",
    "        left_cell_concentration,\n",
    "        diffusion_rate,\n",
    "        time_step\n",
    "):\n",
    "    lower_cell_in = time_step * lower_cell_concentration * diffusion_rate\n",
    "    right_cell_in = time_step * right_cell_concentration * diffusion_rate\n",
    "    left_cell_in = time_step * left_cell_concentration * diffusion_rate\n",
    "\n",
    "    in_diffusion = lower_cell_in + right_cell_in + left_cell_in\n",
    "    out_diffusion = time_step * cell_concentration * diffusion_rate * 3\n",
    "\n",
    "    updated_concentration = cell_concentration + in_diffusion - out_diffusion\n",
    "\n",
    "    return updated_concentration\n",
    "\n",
    "# Initialize tensors\n",
    "current_concentration = tf.fill((10,), value=10.0)\n",
    "com = tf.fill((10, 10), value=0.0)\n",
    "\n",
    "# Apply updates\n",
    "indices = tf.constant([[i, j] for i in range(10) for j in range(5, 7)])\n",
    "updates = tf.constant([2.0] * 20)\n",
    "com1 = tf.tensor_scatter_nd_update(com, indices, updates)\n",
    "\n",
    "# Call the update function and make sure it outputs a scalar\n",
    "new_concentration_value = update_central_concentration_upper(\n",
    "    cell_concentration=current_concentration[0].numpy(),  # Convert to numpy if needed\n",
    "    lower_cell_concentration=com1[1, 5].numpy(),\n",
    "    right_cell_concentration=com1[0, 6].numpy(),  # Correct column index\n",
    "    left_cell_concentration=com1[0, 4].numpy(),   # Correct column index\n",
    "    diffusion_rate=0.2,\n",
    "    time_step=0.1\n",
    ")\n",
    "\n",
    "# Convert the scalar value to a tensor with the correct shape for updates\n",
    "updates_tensor = tf.constant([new_concentration_value], dtype=tf.float32)\n",
    "\n",
    "# Update the tensor\n",
    "d = tf.tensor_scatter_nd_update(\n",
    "    tensor=current_concentration,\n",
    "    indices=[[0]],  # Indices for the update\n",
    "    updates=updates_tensor  # Update values\n",
    ")\n",
    "\n",
    "print(d)\n"
   ]
  },
  {
   "cell_type": "code",
   "execution_count": 121,
   "id": "28e94b84-e123-4590-bd6c-1ca1c2299c34",
   "metadata": {},
   "outputs": [
    {
     "data": {
      "text/plain": [
       "TensorShape([10])"
      ]
     },
     "execution_count": 121,
     "metadata": {},
     "output_type": "execute_result"
    }
   ],
   "source": [
    "d.shape"
   ]
  },
  {
   "cell_type": "code",
   "execution_count": 122,
   "id": "8ffc4d3c-be49-4d33-ba76-5db550e67b7f",
   "metadata": {},
   "outputs": [
    {
     "data": {
      "text/plain": [
       "10"
      ]
     },
     "execution_count": 122,
     "metadata": {},
     "output_type": "execute_result"
    }
   ],
   "source": [
    "h = tf.fill((10, 10), 45.0)\n",
    "h.shape[1]"
   ]
  },
  {
   "cell_type": "code",
   "execution_count": 9,
   "id": "c0f73924-df39-4c94-a5e6-e3df293d66f9",
   "metadata": {},
   "outputs": [
    {
     "name": "stdout",
     "output_type": "stream",
     "text": [
      "tf.Tensor(283.8, shape=(), dtype=float32)\n",
      "tf.Tensor(412.8, shape=(), dtype=float32)\n",
      "tf.Tensor(541.8, shape=(), dtype=float32)\n"
     ]
    }
   ],
   "source": [
    "params = {\"sp1\":tf.Variable([22.0, 32.0, 76.0]), \"sp2\": tf.Variable([32.0, 98.0, 34.0]), \"sp3\": tf.Variable([42.0, 1.0, 2.0])}\n",
    "\n",
    "\n",
    "for j in range(0, 3*2, 2):\n",
    "    print(params[f\"sp{int((j/2) + 1)}\"][0])"
   ]
  },
  {
   "cell_type": "code",
   "execution_count": 16,
   "id": "bf638ae3-b11f-453c-a544-a00ea079b1f4",
   "metadata": {},
   "outputs": [
    {
     "data": {
      "text/plain": [
       "6"
      ]
     },
     "execution_count": 16,
     "metadata": {},
     "output_type": "execute_result"
    }
   ],
   "source": [
    "num_sp = 3\n",
    "pair_start = int(num_sp * 2)  # Starting index for species pairs\n",
    "pair_stop = int(pair_start + (4 * 2))\n",
    "pair_start"
   ]
  },
  {
   "cell_type": "code",
   "execution_count": 17,
   "id": "6ec4b058-9f99-4c98-ac48-997039da477a",
   "metadata": {},
   "outputs": [
    {
     "data": {
      "text/plain": [
       "14"
      ]
     },
     "execution_count": 17,
     "metadata": {},
     "output_type": "execute_result"
    }
   ],
   "source": [
    "pair_stop"
   ]
  },
  {
   "cell_type": "code",
   "execution_count": 22,
   "id": "0ff0d2d3-6243-4ad8-9785-9e9393f3e336",
   "metadata": {},
   "outputs": [
    {
     "name": "stdout",
     "output_type": "stream",
     "text": [
      "<tf.Variable 'Variable:0' shape=(3,) dtype=float32, numpy=array([22., 32., 76.], dtype=float32)>\n",
      "<tf.Variable 'Variable:0' shape=(3,) dtype=float32, numpy=array([32., 98., 34.], dtype=float32)>\n",
      "<tf.Variable 'Variable:0' shape=(3,) dtype=float32, numpy=array([42.,  1.,  2.], dtype=float32)>\n"
     ]
    }
   ],
   "source": [
    "for i in range(pair_start, pair_stop-2, 2):\n",
    "    print(params[f\"sp{int(i/2 - num_sp+1)}\"])"
   ]
  },
  {
   "cell_type": "code",
   "execution_count": 24,
   "id": "e307c705-3172-417d-9b51-86bc67a96a67",
   "metadata": {},
   "outputs": [
    {
     "data": {
      "text/plain": [
       "[<tf.Variable 'Variable:0' shape=(3,) dtype=int32, numpy=array([1, 2, 3], dtype=int32)>,\n",
       " <tf.Variable 'Variable:0' shape=(4,) dtype=int32, numpy=array([3, 5, 6, 7], dtype=int32)>]"
      ]
     },
     "execution_count": 24,
     "metadata": {},
     "output_type": "execute_result"
    }
   ],
   "source": [
    "p = {\"q\": tf.Variable([1,2,3]), \"w\": tf.Variable([3,5,6,7])}\n",
    "h = list(p.values())\n",
    "h"
   ]
  },
  {
   "cell_type": "code",
   "execution_count": null,
   "id": "371c6573-4f2b-4eaf-9067-352298e3bec3",
   "metadata": {},
   "outputs": [],
   "source": []
  }
 ],
 "metadata": {
  "kernelspec": {
   "display_name": "Python 3 (ipykernel)",
   "language": "python",
   "name": "python3"
  },
  "language_info": {
   "codemirror_mode": {
    "name": "ipython",
    "version": 3
   },
   "file_extension": ".py",
   "mimetype": "text/x-python",
   "name": "python",
   "nbconvert_exporter": "python",
   "pygments_lexer": "ipython3",
   "version": "3.10.12"
  }
 },
 "nbformat": 4,
 "nbformat_minor": 5
}
