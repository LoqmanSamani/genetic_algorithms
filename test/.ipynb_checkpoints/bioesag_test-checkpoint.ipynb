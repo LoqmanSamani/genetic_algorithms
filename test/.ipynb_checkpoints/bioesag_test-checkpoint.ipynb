{
 "cells": [
  {
   "cell_type": "code",
   "execution_count": null,
   "id": "43c490e3-41d7-414f-acd1-26d1de61c0b0",
   "metadata": {},
   "outputs": [],
   "source": [
    "t = np.zeros((60, 60), dtype=float)\n",
    "t[20:40, 20:40] = 1.5\n",
    "t[25:45, 25:45] = 2.7\n",
    "\n",
    "ind_params = {\"species_parameters\":[(.36, .12, .6), (.2, .1, .4)],\n",
    "              \"pair_parameters\":[(1.6, .3, .1, .17)]}\n",
    "sim_params = {\"max_simulation_epoch\":200,\n",
    "              \"simulation_stop_time\":20,\n",
    "              \"time_step\": .2}\n",
    "\n",
    "\n",
    "\n",
    "model = BioEsAg(target=t, population_size=50, individual_shape=(3, 120, 120), individual_parameters=ind_params,\n",
    "                simulation_parameters=sim_params, store_path=\"/home/samani/Documents/sim/test/\",\n",
    "                 optimization_epochs=2, evolution_one_epochs=2, evolution_two_epochs=2,\n",
    "                 cost_method=\"MSE\", learning_rate=0.01, weight_decay=None,\n",
    "                 sim_mutation_rate=0.05, compartment_mutation_rate=0.05, parameter_mutation_rate=0.05,\n",
    "                 insertion_mutation_rate=0.05, deletion_mutation_rate=0.1, crossover_alpha=0.5,\n",
    "                 gradient_optimization=True, parameter_optimization=True, condition_optimization=True,\n",
    "                 sim_mutation=True, compartment_mutation=True, param_mutation=True, species_insertion_mutation_one=True,\n",
    "                 species_deletion_mutation_one=True, species_insertion_mutation_two=False, species_deletion_mutation_two=False,\n",
    "                 compartment_crossover=True, param_crossover=True, sim_crossover=True,\n",
    "                 individual_fix_shape=False, cost_alpha=0.6, cost_beta=0.4, cost_max_val=1000, cost_kernel_size=3,\n",
    "                 num_gradient_optimization=1, num_saved_individuals=1,\n",
    "                 evolution_two_ratio=.8, zoom_=True, zoom_in_factor=0.5, zoom_out_factor=2, zoom_order=1, zoom_mode=\"constant\",\n",
    "                 zoom_cval=0.0, zoom_grid_mode=False, num_elite_individuals=2,  sim_means=(5.0, 0.5),\n",
    "                 sim_std_devs=(100.0, 2.0), sim_min_vals=(5.0, 0.1), sim_max_vals=(100.0, 1.0), compartment_mean=0.0,\n",
    "                 compartment_std=100.0, compartment_min_val=-100.0, compartment_max_val=100.0, species_param_means=(0.0, 0.0, 0.0),\n",
    "                 species_param_stds=(10.0, 5.0, 10.0), species_param_min_vals=(-5, -2, -10), species_param_max_vals=(5.0, 2.0, 10.0),\n",
    "                 complex_param_means=(0.0, 0.0, 0.0, 0.0), complex_param_stds=(100.0, 10.0, 5.0, 10.0),\n",
    "                 complex_param_min_vals=(-100, -10, -10, -10), complex_param_max_vals=(100, 10, 10, 10),\n",
    "                 param_distribution=\"uniform\",  compartment_distribution=\"normal\", sim_distribution=\"uniform\"\n",
    "                )\n",
    "\n",
    "j = model.fit()\n"
   ]
  }
 ],
 "metadata": {
  "kernelspec": {
   "display_name": "Python 3 (ipykernel)",
   "language": "python",
   "name": "python3"
  },
  "language_info": {
   "codemirror_mode": {
    "name": "ipython",
    "version": 3
   },
   "file_extension": ".py",
   "mimetype": "text/x-python",
   "name": "python",
   "nbconvert_exporter": "python",
   "pygments_lexer": "ipython3",
   "version": "3.10.12"
  }
 },
 "nbformat": 4,
 "nbformat_minor": 5
}
