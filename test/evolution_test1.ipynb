{
 "cells": [
  {
   "cell_type": "code",
   "execution_count": 1,
   "id": "429e2a61-8ee8-4d0c-bb7b-db647fb3d33d",
   "metadata": {},
   "outputs": [],
   "source": [
    "import numpy as np\n",
    "import torch\n",
    "import copy"
   ]
  },
  {
   "cell_type": "code",
   "execution_count": 71,
   "id": "fff26fb1-d2e3-4e46-be80-d8cf44127add",
   "metadata": {},
   "outputs": [],
   "source": [
    "def apply_species_collision(species1, species2, complex_, collision_rate, time_step):\n",
    "    \n",
    "    collision_effect = collision_rate * time_step\n",
    "    complex_formed = (np.minimum(species1.T * collision_effect, species2.T * collision_effect)).T\n",
    "    complex_formed = np.maximum(complex_formed, 0)\n",
    "\n",
    "    updated_species1 = np.maximum(species1 - complex_formed, 0)\n",
    "    updated_species2 = np.maximum(species2 - complex_formed, 0)\n",
    "\n",
    "    updated_complex = complex_ + complex_formed\n",
    "\n",
    "    return updated_species1, updated_species2, updated_complex"
   ]
  },
  {
   "cell_type": "code",
   "execution_count": 72,
   "id": "e1e96d07-fbcb-4a12-94c6-d65b242a5ae3",
   "metadata": {},
   "outputs": [],
   "source": [
    "g = np.ones((5, 7, 10, 10)) # (m, z, y, x)"
   ]
  },
  {
   "cell_type": "code",
   "execution_count": 73,
   "id": "22897ba7-8561-4450-806b-5f535f10f337",
   "metadata": {},
   "outputs": [],
   "source": [
    "g[:, 0, :, 1] = 30\n",
    "g[:, 1, :, 1] = 50\n",
    "g[:, 2, :, 1] = 100\n",
    "g[:, -1, -1, -1] = np.array([0.5,.4,.6,.8,.10])"
   ]
  },
  {
   "cell_type": "code",
   "execution_count": 74,
   "id": "a52f98c7-b2bf-4c99-9f96-a94c3ad3207f",
   "metadata": {},
   "outputs": [],
   "source": [
    "s1, s2, x = apply_species_collision(g[:, 0, :, 1], g[:, 1, :, 1], g[:, 2, :, 1], g[:, -1, -1, -1], 0.2)"
   ]
  },
  {
   "cell_type": "code",
   "execution_count": 75,
   "id": "acb8efdd-1d6b-427e-8bbe-42bade7bb255",
   "metadata": {},
   "outputs": [
    {
     "data": {
      "text/plain": [
       "array([[27. , 27. , 27. , 27. , 27. , 27. , 27. , 27. , 27. , 27. ],\n",
       "       [27.6, 27.6, 27.6, 27.6, 27.6, 27.6, 27.6, 27.6, 27.6, 27.6],\n",
       "       [26.4, 26.4, 26.4, 26.4, 26.4, 26.4, 26.4, 26.4, 26.4, 26.4],\n",
       "       [25.2, 25.2, 25.2, 25.2, 25.2, 25.2, 25.2, 25.2, 25.2, 25.2],\n",
       "       [29.4, 29.4, 29.4, 29.4, 29.4, 29.4, 29.4, 29.4, 29.4, 29.4]])"
      ]
     },
     "execution_count": 75,
     "metadata": {},
     "output_type": "execute_result"
    }
   ],
   "source": [
    "s1"
   ]
  },
  {
   "cell_type": "code",
   "execution_count": 76,
   "id": "45f26511-2630-4fd7-a8fc-27bb2a1132a9",
   "metadata": {},
   "outputs": [
    {
     "data": {
      "text/plain": [
       "array([[47. , 47. , 47. , 47. , 47. , 47. , 47. , 47. , 47. , 47. ],\n",
       "       [47.6, 47.6, 47.6, 47.6, 47.6, 47.6, 47.6, 47.6, 47.6, 47.6],\n",
       "       [46.4, 46.4, 46.4, 46.4, 46.4, 46.4, 46.4, 46.4, 46.4, 46.4],\n",
       "       [45.2, 45.2, 45.2, 45.2, 45.2, 45.2, 45.2, 45.2, 45.2, 45.2],\n",
       "       [49.4, 49.4, 49.4, 49.4, 49.4, 49.4, 49.4, 49.4, 49.4, 49.4]])"
      ]
     },
     "execution_count": 76,
     "metadata": {},
     "output_type": "execute_result"
    }
   ],
   "source": [
    "s2"
   ]
  },
  {
   "cell_type": "code",
   "execution_count": 77,
   "id": "a0d69015-4bc6-4976-bbb0-381a51201350",
   "metadata": {},
   "outputs": [
    {
     "data": {
      "text/plain": [
       "array([[103. , 103. , 103. , 103. , 103. , 103. , 103. , 103. , 103. ,\n",
       "        103. ],\n",
       "       [102.4, 102.4, 102.4, 102.4, 102.4, 102.4, 102.4, 102.4, 102.4,\n",
       "        102.4],\n",
       "       [103.6, 103.6, 103.6, 103.6, 103.6, 103.6, 103.6, 103.6, 103.6,\n",
       "        103.6],\n",
       "       [104.8, 104.8, 104.8, 104.8, 104.8, 104.8, 104.8, 104.8, 104.8,\n",
       "        104.8],\n",
       "       [100.6, 100.6, 100.6, 100.6, 100.6, 100.6, 100.6, 100.6, 100.6,\n",
       "        100.6]])"
      ]
     },
     "execution_count": 77,
     "metadata": {},
     "output_type": "execute_result"
    }
   ],
   "source": [
    "x"
   ]
  },
  {
   "cell_type": "code",
   "execution_count": 115,
   "id": "cb6c2285-6f90-4437-bcc7-27599c0e9d4b",
   "metadata": {},
   "outputs": [],
   "source": [
    "def update_lower_right_corner_concentration(\n",
    "    cell_concentration,\n",
    "    upper_cell_concentration,\n",
    "    left_cell_concentration,\n",
    "    diffusion_rate,\n",
    "    time_step):\n",
    "   \n",
    "    in_diffusion = (time_step * upper_cell_concentration * diffusion_rate) + \\\n",
    "                   (time_step * left_cell_concentration * diffusion_rate)\n",
    "    out_diffusion = time_step * cell_concentration * diffusion_rate * 2\n",
    "\n",
    "    updated_concentration = cell_concentration + in_diffusion - out_diffusion\n",
    "\n",
    "    return updated_concentration\n"
   ]
  },
  {
   "cell_type": "code",
   "execution_count": 116,
   "id": "1cecdd37-8af5-40c1-ae52-f17a304dd798",
   "metadata": {},
   "outputs": [],
   "source": [
    "g = np.ones((5, 7, 10, 10)) # (m, z, y, x)"
   ]
  },
  {
   "cell_type": "code",
   "execution_count": 117,
   "id": "11f5fd1e-df52-48b5-b8df-3bab02c3ba74",
   "metadata": {},
   "outputs": [],
   "source": [
    "g[:, 0, -1, -1] = 10\n",
    "g[:, 0, -2, -1] = 20\n",
    "g[:, 0, -1, -2] = 30\n"
   ]
  },
  {
   "cell_type": "code",
   "execution_count": 118,
   "id": "fa8cbce8-6ce4-4a6e-83e6-d5fb4f71678e",
   "metadata": {},
   "outputs": [],
   "source": [
    "g[:, 0, -1, -1] = update_lower_right_corner_concentration(g[:, 0, -1, -1], g[:, 0, -2, -1], g[:, 0, -1, -2], np.array([2, 3, 1, 5, 1.2]), .2)"
   ]
  },
  {
   "cell_type": "code",
   "execution_count": 121,
   "id": "5b47a730-959f-4682-9b6d-6e7a082193e4",
   "metadata": {},
   "outputs": [
    {
     "data": {
      "text/plain": [
       "array([22. , 28. , 16. , 40. , 17.2])"
      ]
     },
     "execution_count": 121,
     "metadata": {},
     "output_type": "execute_result"
    }
   ],
   "source": [
    "g[:, 0, -1, -1]"
   ]
  },
  {
   "cell_type": "code",
   "execution_count": 128,
   "id": "d3dc4363-c55c-4c5e-88a7-39a19733cf2d",
   "metadata": {},
   "outputs": [],
   "source": [
    "def update_upper_left_corner_concentration(\n",
    "    cell_concentration,\n",
    "    lower_cell_concentration,\n",
    "    right_cell_concentration,\n",
    "    diffusion_rate,\n",
    "    time_step):\n",
    "  \n",
    "    in_diffusion = (time_step * lower_cell_concentration * diffusion_rate) + \\\n",
    "                   (time_step * right_cell_concentration * diffusion_rate)\n",
    "    out_diffusion = time_step * cell_concentration * diffusion_rate * 2\n",
    "\n",
    "    updated_concentration = cell_concentration + in_diffusion - out_diffusion\n",
    "\n",
    "    return updated_concentration"
   ]
  },
  {
   "cell_type": "code",
   "execution_count": 129,
   "id": "7e7a5b59-7ab0-442b-af0d-8cc1508d5600",
   "metadata": {},
   "outputs": [],
   "source": [
    "g = np.ones((5, 7, 10, 10)) # (m, z, y, x)"
   ]
  },
  {
   "cell_type": "code",
   "execution_count": 130,
   "id": "525170f5-cca8-492a-a19a-95e1fb12521f",
   "metadata": {},
   "outputs": [],
   "source": [
    "g[:, 0, 0, 0] = 10\n",
    "g[:, 0, 1, 0] = 20\n",
    "g[:, 0, 0, 1] = 30"
   ]
  },
  {
   "cell_type": "code",
   "execution_count": 131,
   "id": "9ed75dce-3e24-4ef9-ae2d-9b7fabb90801",
   "metadata": {},
   "outputs": [],
   "source": [
    "g[:, 0, 0, 0] = update_upper_left_corner_concentration(g[:, 0, 0, 0], g[:, 0, 1, 0], g[:, 0, 0, 1], np.array([2, 3, 1, 5, 1.2]), .2)"
   ]
  },
  {
   "cell_type": "code",
   "execution_count": 135,
   "id": "ca75211d-8f8f-4743-8a35-a621296d54ee",
   "metadata": {},
   "outputs": [],
   "source": [
    "def update_upper_right_corner_concentration(\n",
    "    cell_concentration,\n",
    "    lower_cell_concentration,\n",
    "    left_cell_concentration,\n",
    "    diffusion_rate,\n",
    "    time_step):\n",
    "  \n",
    "    in_diffusion = (time_step * lower_cell_concentration * diffusion_rate) + \\\n",
    "                   (time_step * left_cell_concentration * diffusion_rate)\n",
    "    out_diffusion = time_step * cell_concentration * diffusion_rate * 2\n",
    "\n",
    "    updated_concentration = cell_concentration + in_diffusion - out_diffusion\n",
    "\n",
    "    return updated_concentration"
   ]
  },
  {
   "cell_type": "code",
   "execution_count": 136,
   "id": "8da10e5f-6ebc-42f5-9aac-c8ad4a51fc41",
   "metadata": {},
   "outputs": [],
   "source": [
    "g = np.ones((5, 7, 10, 10)) # (m, z, y, x)"
   ]
  },
  {
   "cell_type": "code",
   "execution_count": 137,
   "id": "d67180d3-d3de-4142-a84e-a50ae9bc3cd5",
   "metadata": {},
   "outputs": [],
   "source": [
    "g[:, 0, 0, -1] = 10\n",
    "g[:, 0, 1, -1] = 20\n",
    "g[:, 0, 0, -2] = 30"
   ]
  },
  {
   "cell_type": "code",
   "execution_count": 139,
   "id": "87b48dcf-31a4-4762-86ef-9d93b7155ded",
   "metadata": {},
   "outputs": [],
   "source": [
    "g[:, 0, 0, -1] = update_upper_right_corner_concentration(g[:, 0, 0, -1], g[:, 0, 1, -1], g[:, 0, 0, -2], np.array([2, 3, 1, 5, 1.2]), .2)"
   ]
  },
  {
   "cell_type": "code",
   "execution_count": 155,
   "id": "c3993500-79fb-41dd-a9e9-929c5ccff1d2",
   "metadata": {},
   "outputs": [],
   "source": [
    "def update_left_side_concentration(\n",
    "    cell_concentration,\n",
    "    upper_cell_concentration,\n",
    "    lower_cell_concentration,\n",
    "    right_cell_concentration,\n",
    "    diffusion_rate,\n",
    "    time_step):\n",
    "    \n",
    "    upper_cell_in = (time_step * upper_cell_concentration.T * diffusion_rate).T\n",
    "    lower_cell_in = (time_step * lower_cell_concentration.T * diffusion_rate).T\n",
    "    right_cell_in = (time_step * right_cell_concentration.T * diffusion_rate).T\n",
    "    in_diffusion = upper_cell_in + lower_cell_in + right_cell_in\n",
    "\n",
    "    out_diffusion = (time_step * cell_concentration.T * diffusion_rate * 3).T\n",
    "\n",
    "    updated_concentration = cell_concentration + in_diffusion - out_diffusion\n",
    "\n",
    "    return updated_concentration"
   ]
  },
  {
   "cell_type": "code",
   "execution_count": 156,
   "id": "3a07611f-b23d-4132-85d3-d79fcd8f9102",
   "metadata": {},
   "outputs": [],
   "source": [
    "g = np.ones((5, 7, 10, 10)) # (m, z, y, x)"
   ]
  },
  {
   "cell_type": "code",
   "execution_count": 157,
   "id": "09292d9c-6b6b-4e43-8edd-ea6bd5d5b89e",
   "metadata": {},
   "outputs": [],
   "source": [
    "g[:, 0, :, 0] = 1.9\n",
    "g[:, 0, :, 1] = 2.7"
   ]
  },
  {
   "cell_type": "code",
   "execution_count": 158,
   "id": "f105f8c3-8db6-433f-b3ba-74c52fec43a2",
   "metadata": {},
   "outputs": [],
   "source": [
    "g[:, 0, 1:-1, 0] = update_left_side_concentration(g[:, 0, 1:-1, 0], g[:, 0, :-2, 0] , g[:, 0, 2: , 0] , g[:, 0, 1:-1, 1], np.array([1,2,3,4,5]), 0.4)"
   ]
  },
  {
   "cell_type": "code",
   "execution_count": 160,
   "id": "17d9c864-9b78-460c-b1b4-c0a50caa4484",
   "metadata": {},
   "outputs": [
    {
     "data": {
      "text/plain": [
       "(5, 8)"
      ]
     },
     "execution_count": 160,
     "metadata": {},
     "output_type": "execute_result"
    }
   ],
   "source": [
    "g[:, 0, 1:-1, 0].shape"
   ]
  },
  {
   "cell_type": "code",
   "execution_count": 165,
   "id": "463a76d6-7718-476d-b71b-d59cd249ed84",
   "metadata": {},
   "outputs": [],
   "source": [
    "def update_right_side_concentration(\n",
    "        cell_concentration,\n",
    "        upper_cell_concentration,\n",
    "        lower_cell_concentration,\n",
    "        left_cell_concentration,\n",
    "        diffusion_rate,\n",
    "        time_step):\n",
    "  \n",
    "    upper_cell_in = (time_step * upper_cell_concentration.T * diffusion_rate).T\n",
    "    lower_cell_in = (time_step * lower_cell_concentration.T * diffusion_rate).T\n",
    "    right_cell_in = (time_step * left_cell_concentration.T * diffusion_rate).T\n",
    "    in_diffusion = upper_cell_in + lower_cell_in + right_cell_in\n",
    "\n",
    "    out_diffusion = (time_step * cell_concentration.T * diffusion_rate * 3).T\n",
    "\n",
    "    updated_concentration = cell_concentration + in_diffusion - out_diffusion\n",
    "\n",
    "    return updated_concentration"
   ]
  },
  {
   "cell_type": "code",
   "execution_count": 166,
   "id": "f3930487-4535-43bb-8ba5-71b5163c2517",
   "metadata": {},
   "outputs": [],
   "source": [
    "g = np.ones((5, 7, 10, 10)) # (m, z, y, x)"
   ]
  },
  {
   "cell_type": "code",
   "execution_count": 167,
   "id": "907beb4a-b537-48e5-b1c1-11d1e3c9fc9a",
   "metadata": {},
   "outputs": [],
   "source": [
    "g[:, 0, :, -1] = 1.9\n",
    "g[:, 0, :, -2] = 2.7"
   ]
  },
  {
   "cell_type": "code",
   "execution_count": 168,
   "id": "21b1d913-ea2a-4d6b-9aeb-1f88a1cb9a83",
   "metadata": {},
   "outputs": [],
   "source": [
    "g[:, 0, 1:-1, -1] = update_right_side_concentration(g[:, 0, 1:-1, -1], g[:, 0, :-2, -1] , g[:, 0, 2: , -1] , g[:, 0, 1:-1, -2], np.array([1,2,3,4,5]), 0.4)"
   ]
  },
  {
   "cell_type": "code",
   "execution_count": 200,
   "id": "2e99dbaf-bb22-4739-83fc-7a63e637f321",
   "metadata": {},
   "outputs": [],
   "source": [
    "def update_central_concentration_upper(\n",
    "        cell_concentration,\n",
    "        lower_cell_concentration,\n",
    "        right_cell_concentration,\n",
    "        left_cell_concentration,\n",
    "        diffusion_rate,\n",
    "        time_step):\n",
    "\n",
    "    lower_cell_in = time_step * lower_cell_concentration * diffusion_rate\n",
    "    right_cell_in = time_step * right_cell_concentration * diffusion_rate\n",
    "    left_cell_in = time_step * left_cell_concentration * diffusion_rate\n",
    "\n",
    "    in_diffusion = lower_cell_in + right_cell_in + left_cell_in\n",
    "    out_diffusion = time_step * cell_concentration * diffusion_rate * 3\n",
    "\n",
    "    updated_concentration = cell_concentration + in_diffusion - out_diffusion\n",
    "\n",
    "    return updated_concentration"
   ]
  },
  {
   "cell_type": "code",
   "execution_count": 201,
   "id": "38dce045-a380-48e7-80fe-79b7793c7752",
   "metadata": {},
   "outputs": [],
   "source": [
    "g = np.ones((5, 7, 10, 10)) # (m, z, y, x)"
   ]
  },
  {
   "cell_type": "code",
   "execution_count": 202,
   "id": "ed0d90f7-f4d5-46c9-85a8-63251485d21e",
   "metadata": {},
   "outputs": [],
   "source": [
    "g[:, 0, :, 2] = 5\n",
    "g[:, 0, 1, 3] = 15\n",
    "g[:, 0, 1, 3] = 67\n",
    "g[:, 0, :, 4] = 25"
   ]
  },
  {
   "cell_type": "code",
   "execution_count": 203,
   "id": "8175f02f-b577-49ac-a2cd-229cc66d2d1e",
   "metadata": {},
   "outputs": [],
   "source": [
    "g[:, 0, 0, 3] = update_central_concentration_upper(g[:, 0, 0, 3], g[:, 0, 1, 3], g[:, 0, 0, 4], g[:, 0, 0, 2], np.array([1,2,3,4,5]), 0.3)"
   ]
  },
  {
   "cell_type": "code",
   "execution_count": 207,
   "id": "9966012e-0032-444c-905d-d3d5b0ec1ce6",
   "metadata": {},
   "outputs": [],
   "source": [
    "def update_central_concentration_lower(\n",
    "        cell_concentration,\n",
    "        upper_cell_concentration,\n",
    "        right_cell_concentration,\n",
    "        left_cell_concentration,\n",
    "        diffusion_rate,\n",
    "        time_step):\n",
    "  \n",
    "    upper_cell_in = time_step * upper_cell_concentration * diffusion_rate\n",
    "    right_cell_in = time_step * right_cell_concentration * diffusion_rate\n",
    "    left_cell_in = time_step * left_cell_concentration * diffusion_rate\n",
    "\n",
    "    in_diffusion = upper_cell_in + right_cell_in + left_cell_in\n",
    "    out_diffusion = time_step * cell_concentration * diffusion_rate * 3\n",
    "\n",
    "    updated_concentration = cell_concentration + in_diffusion - out_diffusion\n",
    "\n",
    "    return updated_concentration"
   ]
  },
  {
   "cell_type": "code",
   "execution_count": 208,
   "id": "5243284f-ed72-4970-b035-c80975ac9cdb",
   "metadata": {},
   "outputs": [],
   "source": [
    "g = np.ones((5, 7, 10, 10)) # (m, z, y, x)"
   ]
  },
  {
   "cell_type": "code",
   "execution_count": 209,
   "id": "7c7598c4-06c9-43ec-8123-9deb88794cfc",
   "metadata": {},
   "outputs": [],
   "source": [
    "g[:, 0, :, 2] = 5\n",
    "g[:, 0, :, 3] = 15\n",
    "g[:, 0, -2, 3] = 67\n",
    "g[:, 0, :, 4] = 25"
   ]
  },
  {
   "cell_type": "code",
   "execution_count": 210,
   "id": "49d25836-4b6e-4163-a30b-5dbdc61d0298",
   "metadata": {},
   "outputs": [
    {
     "data": {
      "text/plain": [
       "array([[ 1.,  1.,  5., 15., 25.,  1.,  1.,  1.,  1.,  1.],\n",
       "       [ 1.,  1.,  5., 15., 25.,  1.,  1.,  1.,  1.,  1.],\n",
       "       [ 1.,  1.,  5., 15., 25.,  1.,  1.,  1.,  1.,  1.],\n",
       "       [ 1.,  1.,  5., 15., 25.,  1.,  1.,  1.,  1.,  1.],\n",
       "       [ 1.,  1.,  5., 15., 25.,  1.,  1.,  1.,  1.,  1.],\n",
       "       [ 1.,  1.,  5., 15., 25.,  1.,  1.,  1.,  1.,  1.],\n",
       "       [ 1.,  1.,  5., 15., 25.,  1.,  1.,  1.,  1.,  1.],\n",
       "       [ 1.,  1.,  5., 15., 25.,  1.,  1.,  1.,  1.,  1.],\n",
       "       [ 1.,  1.,  5., 67., 25.,  1.,  1.,  1.,  1.,  1.],\n",
       "       [ 1.,  1.,  5., 15., 25.,  1.,  1.,  1.,  1.,  1.]])"
      ]
     },
     "execution_count": 210,
     "metadata": {},
     "output_type": "execute_result"
    }
   ],
   "source": [
    "g[0, 0, :, :]"
   ]
  },
  {
   "cell_type": "code",
   "execution_count": 211,
   "id": "557c05f1-6578-4cfc-8797-45495e9b0162",
   "metadata": {},
   "outputs": [],
   "source": [
    "g[:, 0, -1, 3] = update_central_concentration_lower(g[:, 0, -1, 3], g[:, 0, -2, 3], g[:, 0, -1, 4], g[:, 0, -1, 2], np.array([1,2,3,4,5]), 0.3)"
   ]
  },
  {
   "cell_type": "code",
   "execution_count": 212,
   "id": "a6c9ed72-4e7f-484b-bf49-c6446d43cf01",
   "metadata": {},
   "outputs": [
    {
     "data": {
      "text/plain": [
       "array([[ 1. ,  1. ,  5. , 15. , 25. ,  1. ,  1. ,  1. ,  1. ,  1. ],\n",
       "       [ 1. ,  1. ,  5. , 15. , 25. ,  1. ,  1. ,  1. ,  1. ,  1. ],\n",
       "       [ 1. ,  1. ,  5. , 15. , 25. ,  1. ,  1. ,  1. ,  1. ,  1. ],\n",
       "       [ 1. ,  1. ,  5. , 15. , 25. ,  1. ,  1. ,  1. ,  1. ,  1. ],\n",
       "       [ 1. ,  1. ,  5. , 15. , 25. ,  1. ,  1. ,  1. ,  1. ,  1. ],\n",
       "       [ 1. ,  1. ,  5. , 15. , 25. ,  1. ,  1. ,  1. ,  1. ,  1. ],\n",
       "       [ 1. ,  1. ,  5. , 15. , 25. ,  1. ,  1. ,  1. ,  1. ,  1. ],\n",
       "       [ 1. ,  1. ,  5. , 15. , 25. ,  1. ,  1. ,  1. ,  1. ,  1. ],\n",
       "       [ 1. ,  1. ,  5. , 67. , 25. ,  1. ,  1. ,  1. ,  1. ,  1. ],\n",
       "       [ 1. ,  1. ,  5. , 30.6, 25. ,  1. ,  1. ,  1. ,  1. ,  1. ]])"
      ]
     },
     "execution_count": 212,
     "metadata": {},
     "output_type": "execute_result"
    }
   ],
   "source": [
    "g[0, 0, :, :]"
   ]
  },
  {
   "cell_type": "code",
   "execution_count": 232,
   "id": "efd3d8fa-342a-4be5-b6a4-d3ade570f46c",
   "metadata": {},
   "outputs": [],
   "source": [
    "def update_central_concentration_middle(\n",
    "        cell_concentration,\n",
    "        upper_cell_concentration,\n",
    "        lower_cell_concentration,\n",
    "        right_cell_concentration,\n",
    "        left_cell_concentration,\n",
    "        diffusion_rate,\n",
    "        time_step):\n",
    "\n",
    "    upper_cell_in = (time_step * upper_cell_concentration.T * diffusion_rate).T\n",
    "    lower_cell_in = (time_step * lower_cell_concentration.T * diffusion_rate).T\n",
    "    right_cell_in = (time_step * right_cell_concentration.T * diffusion_rate).T\n",
    "    left_cell_in = (time_step * left_cell_concentration.T * diffusion_rate).T\n",
    "\n",
    "    in_diffusion = upper_cell_in + lower_cell_in + right_cell_in + left_cell_in\n",
    "    out_diffusion = (time_step * cell_concentration.T * diffusion_rate).T * 4\n",
    "\n",
    "    updated_concentration = cell_concentration + in_diffusion - out_diffusion\n",
    "\n",
    "    return updated_concentration"
   ]
  },
  {
   "cell_type": "code",
   "execution_count": 233,
   "id": "977c5de8-884d-4617-ae57-f795693f2b05",
   "metadata": {},
   "outputs": [],
   "source": [
    "g = np.ones((5, 7, 10, 10)) # (m, z, y, x)"
   ]
  },
  {
   "cell_type": "code",
   "execution_count": 234,
   "id": "6aa1d3eb-a6a9-4895-9dc9-db1c66e26c5f",
   "metadata": {},
   "outputs": [],
   "source": [
    "g[:, 0, :, 2] = 5\n",
    "g[:, 0, :, 3] = 15\n",
    "g[:, 0, -5, 3] = 67\n",
    "g[:, 0, :, 4] = 25"
   ]
  },
  {
   "cell_type": "code",
   "execution_count": 235,
   "id": "32952692-58a8-44d9-b5f1-9f7406f797d8",
   "metadata": {},
   "outputs": [
    {
     "data": {
      "text/plain": [
       "array([[ 1.,  1.,  5., 15., 25.,  1.,  1.,  1.,  1.,  1.],\n",
       "       [ 1.,  1.,  5., 15., 25.,  1.,  1.,  1.,  1.,  1.],\n",
       "       [ 1.,  1.,  5., 15., 25.,  1.,  1.,  1.,  1.,  1.],\n",
       "       [ 1.,  1.,  5., 15., 25.,  1.,  1.,  1.,  1.,  1.],\n",
       "       [ 1.,  1.,  5., 15., 25.,  1.,  1.,  1.,  1.,  1.],\n",
       "       [ 1.,  1.,  5., 67., 25.,  1.,  1.,  1.,  1.,  1.],\n",
       "       [ 1.,  1.,  5., 15., 25.,  1.,  1.,  1.,  1.,  1.],\n",
       "       [ 1.,  1.,  5., 15., 25.,  1.,  1.,  1.,  1.,  1.],\n",
       "       [ 1.,  1.,  5., 15., 25.,  1.,  1.,  1.,  1.,  1.],\n",
       "       [ 1.,  1.,  5., 15., 25.,  1.,  1.,  1.,  1.,  1.]])"
      ]
     },
     "execution_count": 235,
     "metadata": {},
     "output_type": "execute_result"
    }
   ],
   "source": [
    "g[0, 0, :, :]"
   ]
  },
  {
   "cell_type": "code",
   "execution_count": 230,
   "id": "18a37962-b19c-414d-b09b-30de8e114200",
   "metadata": {},
   "outputs": [],
   "source": [
    "g[:, 0, -5, 3] = update_central_concentration_middle(g[:, 0, -5, 3], g[:, 0, -6, 3], g[:, 0, -4, 3], g[:, 0, -5, 4], g[:, 0, -5, 2], np.array([1,2,3,4,5]), 0.3)"
   ]
  },
  {
   "cell_type": "code",
   "execution_count": 231,
   "id": "067a18bb-5b38-4bcd-9944-cfe0f992fd21",
   "metadata": {},
   "outputs": [
    {
     "data": {
      "text/plain": [
       "array([[ 1. ,  1. ,  5. , 15. , 25. ,  1. ,  1. ,  1. ,  1. ,  1. ],\n",
       "       [ 1. ,  1. ,  5. , 15. , 25. ,  1. ,  1. ,  1. ,  1. ,  1. ],\n",
       "       [ 1. ,  1. ,  5. , 15. , 25. ,  1. ,  1. ,  1. ,  1. ,  1. ],\n",
       "       [ 1. ,  1. ,  5. , 15. , 25. ,  1. ,  1. ,  1. ,  1. ,  1. ],\n",
       "       [ 1. ,  1. ,  5. , 15. , 25. ,  1. ,  1. ,  1. ,  1. ,  1. ],\n",
       "       [ 1. ,  1. ,  5. ,  4.6, 25. ,  1. ,  1. ,  1. ,  1. ,  1. ],\n",
       "       [ 1. ,  1. ,  5. , 15. , 25. ,  1. ,  1. ,  1. ,  1. ,  1. ],\n",
       "       [ 1. ,  1. ,  5. , 15. , 25. ,  1. ,  1. ,  1. ,  1. ,  1. ],\n",
       "       [ 1. ,  1. ,  5. , 15. , 25. ,  1. ,  1. ,  1. ,  1. ,  1. ],\n",
       "       [ 1. ,  1. ,  5. , 15. , 25. ,  1. ,  1. ,  1. ,  1. ,  1. ]])"
      ]
     },
     "execution_count": 231,
     "metadata": {},
     "output_type": "execute_result"
    }
   ],
   "source": [
    "g[0, 0, :, :]"
   ]
  },
  {
   "cell_type": "code",
   "execution_count": 244,
   "id": "a31b0c14-4c8e-483d-aacf-f75a1437af8e",
   "metadata": {},
   "outputs": [
    {
     "data": {
      "text/plain": [
       "(10, 20)"
      ]
     },
     "execution_count": 244,
     "metadata": {},
     "output_type": "execute_result"
    }
   ],
   "source": [
    "g = np.ones((10, 20, 30))\n",
    "g[:, :, 0].shape"
   ]
  },
  {
   "cell_type": "code",
   "execution_count": 245,
   "id": "16c764ec-5810-46d6-89b8-ec6b5ede36f0",
   "metadata": {},
   "outputs": [],
   "source": [
    "v = g[:, :, 0]"
   ]
  },
  {
   "cell_type": "code",
   "execution_count": 246,
   "id": "928514d6-6ffd-4c81-926f-301336f9bfb4",
   "metadata": {},
   "outputs": [],
   "source": [
    "m = v[:, 0]"
   ]
  },
  {
   "cell_type": "code",
   "execution_count": null,
   "id": "c7f66700-8483-42f2-9c2f-44ff2ea6532b",
   "metadata": {},
   "outputs": [],
   "source": [
    "\"\"\"\n",
    "Compartment size times:  [10.832071781158447, 0.11558675765991211, 0.36243414878845215, 2.0385539531707764, 16.384703159332275, 107.51107883453369]\n",
    "Simulation time for different epochs and time steps:  [0.0251920223236084, 0.11624932289123535, 0.2307727336883545, 2.3095428943634033, 11.656088590621948, 23.539443016052246]\n",
    "\"\"\""
   ]
  },
  {
   "cell_type": "code",
   "execution_count": 4,
   "id": "71ff4db3-fb34-4251-bb8d-658a2b7a3dfe",
   "metadata": {},
   "outputs": [],
   "source": [
    "import time\n",
    "\n",
    "def population_simulation(individual):\n",
    "    \"\"\"\n",
    "    Simulate the dynamics of a population of individuals within a specified compartmental system.\n",
    "\n",
    "    Parameters:\n",
    "    - population (np.ndarray or list):\n",
    "        - If a numpy array, it should have a shape of (m, z, y, x), where:\n",
    "            - m: number of individuals\n",
    "            - z: number of species in the system\n",
    "            - y: number of compartment rows\n",
    "            - x: number of compartment columns\n",
    "        - If a list, it represents a list of individual populations (to be implemented).\n",
    "\n",
    "    - sim_params (bool, optional):\n",
    "        - If False, all individuals use the same simulation parameters.\n",
    "        - If True , each individual has specific simulation parameters.\n",
    "\n",
    "    Returns:\n",
    "    - np.ndarray: An array of shape (m, y, x) containing the final results for each individual,\n",
    "      where m is the number of individuals, y and x are the compartment shape.\n",
    "    \"\"\"\n",
    "\n",
    "    z, y, x = individual.shape  # z: species, (y, x): compartment's shape\n",
    "    num_iters = int(x)  # Number of iterations in each epoch (equal to x)\n",
    "    # it is equal to x because system will iterate from left to right of the compartment in each epoch\n",
    "    num_species = int(individual[-1, -1, 0])  # number os species present in the system\n",
    "    num_pairs = int(individual[-1, -1, 1])  # number of pairs present in the system\n",
    "    max_epoch = int(individual[-1, -1, 2])  # maximum number of epochs\n",
    "    stop = int(individual[-1, -1, 3])  # simulation duration\n",
    "    time_step = individual[-1, -1, 4]  # time step\n",
    "    num_epochs = int(stop / time_step)  # Total number of epochs\n",
    "    pair_start = int(num_species * 2)  # Starting index for species pairs\n",
    "    pair_stop = int(pair_start + (num_pairs * 2))  # Ending index for species pairs\n",
    "\n",
    "    epoch = 0\n",
    "    while epoch < max_epoch or epoch < num_epochs:\n",
    "\n",
    "        for i in range(num_iters):\n",
    "\n",
    "            # Update species production\n",
    "            for j in range(0, num_species*2, 2):\n",
    "                individual[j, :, i] = apply_component_production(\n",
    "                    initial_concentration=individual[j, :, i],\n",
    "                    production_pattern=individual[j+1, :, i],\n",
    "                    production_rate=individual[-1, j, 0],\n",
    "                    time_step=time_step\n",
    "                )\n",
    "\n",
    "            # Handle species collision\n",
    "            for j in range(pair_start, pair_stop, 2):\n",
    "                (individual[int(individual[j+1, 0, 0]), :, i],\n",
    "                 individual[int(individual[j+1, 0, 1]), :, i],\n",
    "                 individual[j, :, i]) = apply_species_collision(\n",
    "                    species1=individual[int(individual[j+1, 0, 0]), :, i],\n",
    "                    species2=individual[int(individual[j+1, 0, 1]), :, i],\n",
    "                    complex_=individual[j, :, i],\n",
    "                    collision_rate=individual[j+1, 1, 0],\n",
    "                    time_step=time_step\n",
    "                )\n",
    "\n",
    "            # Update species degradation\n",
    "            for j in range(0, num_species*2, 2):\n",
    "                individual[j, :, i] = apply_component_degradation(\n",
    "                    initial_concentration=individual[j, :, i],\n",
    "                    degradation_rate=individual[-1, j, 1],\n",
    "                    time_step=time_step\n",
    "                )\n",
    "\n",
    "            # Handle complex degradation\n",
    "            for j in range(pair_start, num_pairs, 2):\n",
    "                individual[j, :, i] = apply_component_degradation(\n",
    "                    initial_concentration=individual[j, :, i],\n",
    "                    degradation_rate=individual[j+1, 1, 2],\n",
    "                    time_step=time_step\n",
    "                )\n",
    "\n",
    "            # Handle complex dissociation\n",
    "            for j in range(pair_start, pair_stop, 2):\n",
    "                (individual[int(individual[j+1, 0, 0]), :, i],\n",
    "                 individual[int(individual[j+1, 0, 1]), :, i],\n",
    "                 individual[j, :, i]) = apply_complex_dissociation(\n",
    "                    species1=individual[int(individual[j+1, 0, 0]), :, i],\n",
    "                    species2=individual[int(individual[j+1, 0, 1]), :, i],\n",
    "                    complex_=individual[j, :, i],\n",
    "                    dissociation_rate=individual[j+1, 1, 1],\n",
    "                    time_step=time_step\n",
    "                )\n",
    "\n",
    "            # Update species diffusion\n",
    "            for j in range(0, num_species*2, 2):\n",
    "                individual[j, :, i] = apply_diffusion(\n",
    "                    current_concentration=individual[j, :, i],\n",
    "                    compartment=individual[j, :, :],\n",
    "                    column_position=i,\n",
    "                    diffusion_rate=individual[-1, j, 2],\n",
    "                    time_step=time_step\n",
    "                )\n",
    "\n",
    "            # Handle complex diffusion\n",
    "            for j in range(pair_start, num_pairs, 2):\n",
    "                individual[j, :, i] = apply_diffusion(\n",
    "                    current_concentration=individual[j, :, i],\n",
    "                    compartment=individual[j, :, :],\n",
    "                    column_position=i,\n",
    "                    diffusion_rate=individual[j+1, 1, 3],\n",
    "                    time_step=time_step\n",
    "                )\n",
    "\n",
    "        epoch += 1\n",
    "\n",
    "    return individual[4, :, :]\n",
    "\n",
    "def apply_diffusion(current_concentration, compartment, column_position, diffusion_rate, time_step):\n",
    "    \"\"\"\n",
    "    Apply diffusion to update the concentration of species in a specific column of a 2D compartment for all individual in population.\n",
    "\n",
    "    Parameters:\n",
    "    - current_concentration (2d array): Array of current concentrations for each cell.\n",
    "    - compartment (3d array): Array representing the 2D compartment where diffusion takes place for all individual in population.\n",
    "    - column_position (int): Column position of the cells being updated (0-based index).\n",
    "    - diffusion_rates (1d array): Rates at which the species diffuses between cells.\n",
    "    - time_step (float/1d array): Discrete time step/s for the calculation.\n",
    "\n",
    "    Returns:\n",
    "    - 2d array: updated current_concentration array.\n",
    "    \"\"\"\n",
    "    compartment_size = compartment.shape[1]\n",
    "    temporary_concentration = np.copy(current_concentration)\n",
    "\n",
    "    if column_position == 0:\n",
    "\n",
    "        # Update concentration for the upper-left corner cell\n",
    "        temporary_concentration[0] = update_upper_left_corner_concentration(\n",
    "            cell_concentration=current_concentration[0],\n",
    "            lower_cell_concentration=compartment[1, 0],\n",
    "            right_cell_concentration=compartment[0, 1],\n",
    "            diffusion_rate=diffusion_rate,\n",
    "            time_step=time_step\n",
    "        )\n",
    "\n",
    "        # Update concentration for the lower-left corner cell\n",
    "        temporary_concentration[-1] = update_lower_left_corner_concentration(\n",
    "            cell_concentration=current_concentration[-1],\n",
    "            upper_cell_concentration=compartment[-2, 0],\n",
    "            right_cell_concentration=compartment[-1, 1],\n",
    "            diffusion_rate=diffusion_rate,\n",
    "            time_step=time_step\n",
    "        )\n",
    "\n",
    "        # Update concentrations for the left-side cells (excluding corners)\n",
    "        temporary_concentration[1:-1] = update_left_side_concentration(\n",
    "            cell_concentration=current_concentration[1:-1],\n",
    "            upper_cell_concentration=compartment[:-2, 0],\n",
    "            lower_cell_concentration=compartment[2:, 0],\n",
    "            right_cell_concentration=compartment[1:-1, 1],\n",
    "            diffusion_rate=diffusion_rate,\n",
    "            time_step=time_step\n",
    "        )\n",
    "\n",
    "    elif column_position == compartment_size - 1:\n",
    "\n",
    "        # Update concentration for the upper-right corner cell\n",
    "        temporary_concentration[0] = update_upper_right_corner_concentration(\n",
    "            cell_concentration=current_concentration[0],\n",
    "            lower_cell_concentration=compartment[1, -1],\n",
    "            left_cell_concentration=compartment[0, -2],\n",
    "            diffusion_rate=diffusion_rate,\n",
    "            time_step=time_step\n",
    "        )\n",
    "\n",
    "        # Update concentration for the lower-right corner cell\n",
    "        temporary_concentration[-1] = update_lower_right_corner_concentration(\n",
    "            cell_concentration=current_concentration[-1],\n",
    "            upper_cell_concentration=compartment[-2, -1],\n",
    "            left_cell_concentration=compartment[-1, -2],\n",
    "            diffusion_rate=diffusion_rate,\n",
    "            time_step=time_step\n",
    "        )\n",
    "\n",
    "        # Update concentrations for the left-side cells (excluding corners)\n",
    "        temporary_concentration[1:-1] = update_right_side_concentration(\n",
    "            cell_concentration=current_concentration[1:-1],\n",
    "            upper_cell_concentration=compartment[0:-2, -1],\n",
    "            lower_cell_concentration=compartment[2:, -1],\n",
    "            left_cell_concentration=compartment[1:-1, -2],\n",
    "            diffusion_rate=diffusion_rate,\n",
    "            time_step=time_step\n",
    "        )\n",
    "\n",
    "\n",
    "    else:\n",
    "\n",
    "        temporary_concentration[0] = update_central_concentration_upper(\n",
    "            cell_concentration=current_concentration[0],\n",
    "            lower_cell_concentration=compartment[1, column_position],\n",
    "            right_cell_concentration=compartment[0, column_position + 1],\n",
    "            left_cell_concentration=compartment[0, column_position - 1],\n",
    "            diffusion_rate=diffusion_rate,\n",
    "            time_step=time_step)\n",
    "\n",
    "        temporary_concentration[-1] = update_central_concentration_lower(\n",
    "            cell_concentration=current_concentration[-1],\n",
    "            upper_cell_concentration=compartment[-2, column_position],\n",
    "            right_cell_concentration=compartment[-1, column_position + 1],\n",
    "            left_cell_concentration=compartment[-1, column_position - 1],\n",
    "            diffusion_rate=diffusion_rate,\n",
    "            time_step=time_step)\n",
    "\n",
    "        temporary_concentration[1:-1] = update_central_concentration_middle(\n",
    "            cell_concentration=current_concentration[1:-1],\n",
    "            upper_cell_concentration=compartment[0:-2, column_position],\n",
    "            lower_cell_concentration=compartment[2:, column_position],\n",
    "            right_cell_concentration=compartment[1:-1, column_position+1],\n",
    "            left_cell_concentration=compartment[1:-1, column_position-1],\n",
    "            diffusion_rate=diffusion_rate,\n",
    "            time_step=time_step\n",
    "        )\n",
    "\n",
    "    updated_concentration = np.maximum(temporary_concentration, 0)\n",
    "\n",
    "    return updated_concentration\n",
    "\n",
    "\n",
    "\n",
    "\n",
    "def update_lower_left_corner_concentration(\n",
    "    cell_concentration,\n",
    "    upper_cell_concentration,\n",
    "    right_cell_concentration,\n",
    "    diffusion_rate,\n",
    "    time_step):\n",
    "    \"\"\"\n",
    "    Update the concentration of a species in a cell located at the lower-left corner of a 2D compartment\n",
    "    based on diffusion from neighboring cells.\n",
    "\n",
    "    Parameters:\n",
    "    - cell_concentration (1d array): Concentration of the species in the lower-left corner cell.\n",
    "    - upper_cell_concentration (1d array): Concentration of the species in the cell directly above the lower-left cell.\n",
    "    - right_cell_concentration (1d array): Concentration of the species in the cell directly to the right of the lower-left cell.\n",
    "    - diffusion_rate (float): Rate at which the species diffuses between cells.\n",
    "    - time_step (float): Discrete time step for the calculation.\n",
    "\n",
    "    Returns:\n",
    "    - 1d array: Updated concentration of the species in the lower-left corner cell.\n",
    "    \"\"\"\n",
    "    in_diffusion = (time_step * upper_cell_concentration * diffusion_rate) + \\\n",
    "                   (time_step * right_cell_concentration * diffusion_rate)\n",
    "    out_diffusion = time_step * cell_concentration * diffusion_rate * 2\n",
    "\n",
    "    updated_concentration = cell_concentration + in_diffusion - out_diffusion\n",
    "\n",
    "    return updated_concentration\n",
    "\n",
    "\n",
    "def update_lower_right_corner_concentration(\n",
    "    cell_concentration,\n",
    "    upper_cell_concentration,\n",
    "    left_cell_concentration,\n",
    "    diffusion_rate,\n",
    "    time_step):\n",
    "    \"\"\"\n",
    "        Update the concentration of a species in a cell located at the lower-right corner of a 2D compartment\n",
    "        based on diffusion from neighboring cells.\n",
    "\n",
    "        Parameters:\n",
    "        - cell_concentration (1d array): Concentration of the species in the lower-left corner cell.\n",
    "        - upper_cell_concentration (1d array): Concentration of the species in the cell directly above the lower-right cell.\n",
    "        - left_cell_concentration (1d array): Concentration of the species in the cell directly to the left of the lower-right cell.\n",
    "        - diffusion_rate (float): Rate at which the species diffuses between cells.\n",
    "        - time_step (float): Discrete time step for the calculation.\n",
    "\n",
    "        Returns:\n",
    "        - 1d array: Updated concentration of the species in the lower-left corner cell.\n",
    "        \"\"\"\n",
    "    in_diffusion = (time_step * upper_cell_concentration * diffusion_rate) + \\\n",
    "                   (time_step * left_cell_concentration * diffusion_rate)\n",
    "    out_diffusion = time_step * cell_concentration * diffusion_rate * 2\n",
    "\n",
    "    updated_concentration = cell_concentration + in_diffusion - out_diffusion\n",
    "\n",
    "    return updated_concentration\n",
    "\n",
    "\n",
    "\n",
    "def update_upper_left_corner_concentration(\n",
    "    cell_concentration,\n",
    "    lower_cell_concentration,\n",
    "    right_cell_concentration,\n",
    "    diffusion_rate,\n",
    "    time_step):\n",
    "    \"\"\"\n",
    "    Update the concentration of a species in a cell located at the upper-left corner of a 2D compartment\n",
    "    based on diffusion from neighboring cells for each individual in population.\n",
    "\n",
    "    Parameters:\n",
    "    - cell_concentration (1d array): Concentration of the species in the upper-left corner cell.\n",
    "    - lower_cell_concentration (1d array): Concentration of the species in the cell directly below the upper-left cell.\n",
    "    - right_cell_concentration (1d array): Concentration of the species in the cell directly to the right of the upper-left cell.\n",
    "    - diffusion_rate (float): Rates at which the species diffuses between cells.\n",
    "    - time_step (float): Discrete time step for the calculation.\n",
    "\n",
    "    Returns:\n",
    "    - 1d array: Updated concentration of the species in the upper-left corner cell.\n",
    "    \"\"\"\n",
    "    in_diffusion = (time_step * lower_cell_concentration * diffusion_rate) + \\\n",
    "                   (time_step * right_cell_concentration * diffusion_rate)\n",
    "    out_diffusion = time_step * cell_concentration * diffusion_rate * 2\n",
    "\n",
    "    updated_concentration = cell_concentration + in_diffusion - out_diffusion\n",
    "\n",
    "    return updated_concentration\n",
    "\n",
    "\n",
    "def update_upper_right_corner_concentration(\n",
    "    cell_concentration,\n",
    "    lower_cell_concentration,\n",
    "    left_cell_concentration,\n",
    "    diffusion_rate,\n",
    "    time_step):\n",
    "    \"\"\"\n",
    "        Update the concentration of a species in a cell located at the upper-right corner of a 2D compartment\n",
    "        based on diffusion from neighboring cells.\n",
    "\n",
    "        Parameters:\n",
    "        - cell_concentration (1d array): Concentration of the species in the upper-right corner cell.\n",
    "        - lower_cell_concentration (1d array): Concentration of the species in the cell directly below the upper-left cell.\n",
    "        - left_cell_concentration (1d array): Concentration of the species in the cell directly to the left of the upper-right cell.\n",
    "        - diffusion_rate (float): Rate at which the species diffuses between cells.\n",
    "        - time_step (float/1d array): Discrete time step/s for the calculation.\n",
    "\n",
    "        Returns:\n",
    "        - 1d array: Updated concentration of the species in the upper-left corner cell.\n",
    "        \"\"\"\n",
    "    in_diffusion = (time_step * lower_cell_concentration * diffusion_rate) + \\\n",
    "                   (time_step * left_cell_concentration * diffusion_rate)\n",
    "    out_diffusion = time_step * cell_concentration * diffusion_rate * 2\n",
    "\n",
    "    updated_concentration = cell_concentration + in_diffusion - out_diffusion\n",
    "\n",
    "    return updated_concentration\n",
    "\n",
    "\n",
    "\n",
    "def update_left_side_concentration(\n",
    "    cell_concentration,\n",
    "    upper_cell_concentration,\n",
    "    lower_cell_concentration,\n",
    "    right_cell_concentration,\n",
    "    diffusion_rate,\n",
    "    time_step):\n",
    "    \"\"\"\n",
    "    Update the concentration of a species in cells located along the left side of a 2D compartment\n",
    "    (excluding the corners) based on diffusion from neighboring cells for each individual in population.\n",
    "\n",
    "    Parameters:\n",
    "    - cell_concentration (2d array): Array of concentrations for cells in the leftmost column (excluding corners).\n",
    "    - upper_cell_concentration (2d array): Array of concentrations for cells directly above the current cells.\n",
    "    - lower_cell_concentration (2d array): Array of concentrations for cells directly below the current cells.\n",
    "    - right_cell_concentration (2d array): Array of concentrations for cells directly to the right of the current cells.\n",
    "    - diffusion_rate (float): Rate at which the species diffuses between cells.\n",
    "    - time_step (float): Discrete time step for the calculation.\n",
    "\n",
    "    Returns:\n",
    "    - numpy.ndarray: Updated concentrations of the species in the current cells.\n",
    "    \"\"\"\n",
    "    upper_cell_in = time_step * upper_cell_concentration * diffusion_rate\n",
    "    lower_cell_in = time_step * lower_cell_concentration * diffusion_rate\n",
    "    right_cell_in = time_step * right_cell_concentration * diffusion_rate\n",
    "\n",
    "    in_diffusion = upper_cell_in + lower_cell_in + right_cell_in\n",
    "    out_diffusion = time_step * cell_concentration * diffusion_rate * 3\n",
    "\n",
    "    updated_concentration = cell_concentration + in_diffusion - out_diffusion\n",
    "\n",
    "    return updated_concentration\n",
    "\n",
    "\n",
    "def update_right_side_concentration(\n",
    "        cell_concentration,\n",
    "        upper_cell_concentration,\n",
    "        lower_cell_concentration,\n",
    "        left_cell_concentration,\n",
    "        diffusion_rate,\n",
    "        time_step):\n",
    "    \"\"\"\n",
    "        Update the concentration of a species in cells located along the right side of a 2D compartment\n",
    "        (excluding the corners) based on diffusion from neighboring cells for each individual in population.\n",
    "\n",
    "        Parameters:\n",
    "        - cell_concentration (2d array): Array of concentrations for cells in the leftmost column (excluding corners).\n",
    "        - upper_cell_concentration (2d array): Array of concentrations for cells directly above the current cells.\n",
    "        - lower_cell_concentration (2d array): Array of concentrations for cells directly below the current cells.\n",
    "        - left_cell_concentration (2d array): Array of concentrations for cells directly to the left of the current cells.\n",
    "        - diffusion_rate (float): Rate at which the species diffuses between cells.\n",
    "        - time_step (float): Discrete time step for the calculation.\n",
    "\n",
    "        Returns:\n",
    "        - numpy.ndarray: Updated concentrations of the species in the current cells.\n",
    "        \"\"\"\n",
    "    upper_cell_in = time_step * upper_cell_concentration * diffusion_rate\n",
    "    lower_cell_in = time_step * lower_cell_concentration * diffusion_rate\n",
    "    right_cell_in = time_step * left_cell_concentration * diffusion_rate\n",
    "\n",
    "    in_diffusion = upper_cell_in + lower_cell_in + right_cell_in\n",
    "    out_diffusion = time_step * cell_concentration.T * diffusion_rate * 3\n",
    "\n",
    "    updated_concentration = cell_concentration + in_diffusion - out_diffusion\n",
    "\n",
    "    return updated_concentration\n",
    "\n",
    "\n",
    "def update_central_concentration_middle(\n",
    "        cell_concentration,\n",
    "        upper_cell_concentration,\n",
    "        lower_cell_concentration,\n",
    "        right_cell_concentration,\n",
    "        left_cell_concentration,\n",
    "        diffusion_rate,\n",
    "        time_step):\n",
    "    \"\"\"\n",
    "    Update the concentration of species in multiple interior cells of a 2D compartment based on diffusion\n",
    "    from neighboring cells for each individual in population.\n",
    "\n",
    "    Parameters:\n",
    "    - cell_concentration (2d array): Array of concentrations for multiple interior cells.\n",
    "    - upper_cell_concentration (2d array): Array of concentrations for the cells directly above the current cells.\n",
    "    - lower_cell_concentration (2d array): Array of concentrations for the cells directly below the current cells.\n",
    "    - right_cell_concentration (2d array): Array of concentrations for the cells directly to the right of the current cells.\n",
    "    - left_cell_concentration (2d array): Array of concentrations for the cells directly to the left of the current cells.\n",
    "    - diffusion_rate (float): Rate at which the species diffuses between cells.\n",
    "    - time_step (float): Discrete time step for the calculation.\n",
    "\n",
    "    Returns:\n",
    "    - ndarray: Updated concentrations of the species in the current interior cells.\n",
    "    \"\"\"\n",
    "    upper_cell_in = time_step * upper_cell_concentration * diffusion_rate\n",
    "    lower_cell_in = time_step * lower_cell_concentration * diffusion_rate\n",
    "    right_cell_in = time_step * right_cell_concentration * diffusion_rate\n",
    "    left_cell_in = time_step * left_cell_concentration * diffusion_rate\n",
    "\n",
    "    in_diffusion = upper_cell_in + lower_cell_in + right_cell_in + left_cell_in\n",
    "    out_diffusion = time_step * cell_concentration * diffusion_rate * 4\n",
    "\n",
    "    updated_concentration = cell_concentration + in_diffusion - out_diffusion\n",
    "\n",
    "    return updated_concentration\n",
    "\n",
    "\n",
    "def update_central_concentration_upper(\n",
    "        cell_concentration,\n",
    "        lower_cell_concentration,\n",
    "        right_cell_concentration,\n",
    "        left_cell_concentration,\n",
    "        diffusion_rate,\n",
    "        time_step):\n",
    "    \"\"\"\n",
    "    Update the concentration of a species in a cell located in the upper interior of a 2D compartment\n",
    "    based on diffusion from neighboring cells for each individual in population.\n",
    "\n",
    "    Parameters:\n",
    "    - cell_concentration (1d array): Concentration of the species in the current upper interior cell.\n",
    "    - lower_cell_concentration (1d array): Concentration of the species in the cell directly below the current cell.\n",
    "    - right_cell_concentration (1d array): Concentration of the species in the cell directly to the right of the current cell.\n",
    "    - left_cell_concentration (1d array): Concentration of the species in the cell directly to the left of the current cell.\n",
    "    - diffusion_rate (float): Rate at which the species diffuses between cells.\n",
    "    - time_step (float): Discrete time step for the calculation.\n",
    "\n",
    "    Returns:\n",
    "    - 1d array: Updated concentration of the species in the current upper interior cell.\n",
    "    \"\"\"\n",
    "    lower_cell_in = time_step * lower_cell_concentration * diffusion_rate\n",
    "    right_cell_in = time_step * right_cell_concentration * diffusion_rate\n",
    "    left_cell_in = time_step * left_cell_concentration * diffusion_rate\n",
    "\n",
    "    in_diffusion = lower_cell_in + right_cell_in + left_cell_in\n",
    "    out_diffusion = time_step * cell_concentration * diffusion_rate * 3\n",
    "\n",
    "    updated_concentration = cell_concentration + in_diffusion - out_diffusion\n",
    "\n",
    "    return updated_concentration\n",
    "\n",
    "\n",
    "def update_central_concentration_lower(\n",
    "        cell_concentration,\n",
    "        upper_cell_concentration,\n",
    "        right_cell_concentration,\n",
    "        left_cell_concentration,\n",
    "        diffusion_rate,\n",
    "        time_step):\n",
    "    \"\"\"\n",
    "    Update the concentration of a species in a cell located in the lower interior of a 2D compartment\n",
    "    based on diffusion from neighboring cells.\n",
    "\n",
    "    Parameters:\n",
    "    - cell_concentration (1d array): Concentration of the species in the current lower interior cell.\n",
    "    - upper_cell_concentration (1d array): Concentration of the species in the cell directly above the current cell.\n",
    "    - right_cell_concentration (1d array): Concentration of the species in the cell directly to the right of the current cell.\n",
    "    - left_cell_concentration (1d array): Concentration of the species in the cell directly to the left of the current cell.\n",
    "    - diffusion_rate (float): Rate at which the species diffuses between cells.\n",
    "    - time_step (float): Discrete time step for the calculation.\n",
    "\n",
    "    Returns:\n",
    "    - 1d array: Updated concentration of the species in the current lower interior cell.\n",
    "    \"\"\"\n",
    "    upper_cell_in = time_step * upper_cell_concentration * diffusion_rate\n",
    "    right_cell_in = time_step * right_cell_concentration * diffusion_rate\n",
    "    left_cell_in = time_step * left_cell_concentration * diffusion_rate\n",
    "\n",
    "    in_diffusion = upper_cell_in + right_cell_in + left_cell_in\n",
    "    out_diffusion = time_step * cell_concentration * diffusion_rate * 3\n",
    "\n",
    "    updated_concentration = cell_concentration + in_diffusion - out_diffusion\n",
    "\n",
    "    return updated_concentration\n",
    "\n",
    "\n",
    "\n",
    "def apply_component_production(initial_concentration, production_pattern, production_rate, time_step):\n",
    "    \"\"\"\n",
    "    Update the concentration of a species in each cell of a compartment.\n",
    "\n",
    "    Parameters:\n",
    "    - initial_concentration(1d array): Array of initial concentrations for each cell.\n",
    "    - production_pattern(1d array): Array indicating which cells can produce the species.\n",
    "    - production_rate(float): Rate at which the species are produced.\n",
    "    - time_step(float): Discrete time step for the calculation.\n",
    "\n",
    "    Returns:\n",
    "    - Updated concentration array.\n",
    "    \"\"\"\n",
    "    updated_concentration = np.maximum(initial_concentration + (production_pattern * production_rate * time_step), 0)\n",
    "\n",
    "    return updated_concentration\n",
    "\n",
    "\n",
    "def apply_component_degradation(initial_concentration, degradation_rate, time_step):\n",
    "    \"\"\"\n",
    "    Apply degradation to the concentration of a species over time.\n",
    "\n",
    "    Parameters:\n",
    "    - initial_concentration (1d array): Array of initial concentrations for each cell.\n",
    "    - degradation_rate (float): Rate at which the species degrades.\n",
    "    - time_step (float): Discrete time step for the calculation.\n",
    "\n",
    "    Returns:\n",
    "    - Updated concentrations after applying degradation.\n",
    "    \"\"\"\n",
    "    updated_concentration = np.maximum(initial_concentration - (initial_concentration * degradation_rate * time_step), 0)\n",
    "\n",
    "    return updated_concentration\n",
    "\n",
    "\n",
    "def apply_species_collision(species1, species2, complex_, collision_rate, time_step):\n",
    "    \"\"\"\n",
    "    Apply the effect of species collision to form a complex and update the concentrations of the species.\n",
    "\n",
    "    Parameters:\n",
    "    - species1 (1d array): Array of concentrations of the first species.\n",
    "    - species2 (1d array): Array of concentrations of the second species.\n",
    "    - complex_ (1d array): Array of current concentrations of the complex.\n",
    "    - collision_rate (float): Rate at which collisions occur between the two species.\n",
    "    - time_step (float): Discrete time step  for the calculation.\n",
    "\n",
    "    Returns:\n",
    "    - tuple of numpy.ndarray: Updated concentrations of both species and the total amount of complex formed.\n",
    "    \"\"\"\n",
    "    collision_effect = collision_rate * time_step\n",
    "    complex_formed = np.minimum(species1 * collision_effect, species2 * collision_effect)\n",
    "    complex_formed = np.maximum(complex_formed, 0)\n",
    "\n",
    "    updated_species1 = np.maximum(species1 - complex_formed, 0)\n",
    "    updated_species2 = np.maximum(species2 - complex_formed, 0)\n",
    "\n",
    "    updated_complex = complex_ + complex_formed\n",
    "\n",
    "    return updated_species1, updated_species2, updated_complex\n",
    "\n",
    "\n",
    "\n",
    "def apply_complex_dissociation(species1, species2, complex_, dissociation_rate, time_step):\n",
    "    \"\"\"\n",
    "    Apply the effect of complex dissociation to update the concentrations of the two species and the complex of them.\n",
    "\n",
    "    Parameters:\n",
    "    - species1 (1d array): Array of concentrations of the first species.\n",
    "    - species2 (1d array): Array of concentrations of the second species.\n",
    "    - complex_ (1d array): Array of current concentrations of the complex.\n",
    "    - dissociation_rate (float): Rate at which the complex dissociates into the two species.\n",
    "    - time_step (float): Discrete time step for the calculation.\n",
    "\n",
    "    Returns:\n",
    "    - tuple of numpy.ndarray: Updated concentrations of both species and the remaining amount of the complex.\n",
    "    \"\"\"\n",
    "    dissociation_effect = dissociation_rate * time_step\n",
    "    dissociated_amount = complex_ * dissociation_effect\n",
    "    dissociated_amount = np.maximum(dissociated_amount, 0)\n",
    "\n",
    "    updated_complex = np.maximum(complex_ - dissociated_amount, 0)\n",
    "    updated_species1 = np.maximum(species1 + dissociated_amount, 0)\n",
    "    updated_species2 = np.maximum(species2 + dissociated_amount, 0)\n",
    "\n",
    "    return updated_species1, updated_species2, updated_complex\n",
    "\n"
   ]
  },
  {
   "cell_type": "code",
   "execution_count": 50,
   "id": "edda736b-a361-45c9-9bf1-69ced9dfbd96",
   "metadata": {},
   "outputs": [],
   "source": [
    "pop = np.zeros((7, 20, 20))\n",
    "pop[1, :, 0] = 1000\n",
    "pop[3, :, -1] = 1000\n",
    "\n",
    "pop[-1, 0, :3] = [.09, .007, 1.1]\n",
    "pop[-1, 2, :3] = [0.09, 0.006, 1.2]\n",
    "pop[-1, -1, :5] = [2, 1, 1000, 5, .01]\n",
    "pop[-2, 0, 0:2] = [0, 2]\n",
    "pop[-2, 1, 0:4] = [6, .01, 0.001, 1.3]\n",
    "result = population_simulation(pop)\n"
   ]
  },
  {
   "cell_type": "code",
   "execution_count": 51,
   "id": "f5cb6b05-20a8-4d51-b019-9fe24e655579",
   "metadata": {},
   "outputs": [
    {
     "data": {
      "text/plain": [
       "array([2.38278008e-07, 2.38278008e-07, 2.38278008e-07, 2.38278008e-07,\n",
       "       2.38278008e-07, 2.38278008e-07, 2.38278008e-07, 2.38278008e-07,\n",
       "       2.38278008e-07, 2.38278008e-07, 2.38278008e-07, 2.38278008e-07,\n",
       "       2.38278008e-07, 2.38278008e-07, 2.38278008e-07, 2.38278008e-07,\n",
       "       2.38278008e-07, 2.38278008e-07, 2.38278008e-07, 2.38278008e-07])"
      ]
     },
     "execution_count": 51,
     "metadata": {},
     "output_type": "execute_result"
    }
   ],
   "source": [
    "result[:, 0]"
   ]
  },
  {
   "cell_type": "code",
   "execution_count": 52,
   "id": "463bbf33-ba75-4163-a762-27e77c05a26a",
   "metadata": {},
   "outputs": [
    {
     "data": {
      "text/plain": [
       "array([1.49763668e-06, 1.49763668e-06, 1.49763668e-06, 1.49763668e-06,\n",
       "       1.49763668e-06, 1.49763668e-06, 1.49763668e-06, 1.49763668e-06,\n",
       "       1.49763668e-06, 1.49763668e-06, 1.49763668e-06, 1.49763668e-06,\n",
       "       1.49763668e-06, 1.49763668e-06, 1.49763668e-06, 1.49763668e-06,\n",
       "       1.49763668e-06, 1.49763668e-06, 1.49763668e-06, 1.49763668e-06])"
      ]
     },
     "execution_count": 52,
     "metadata": {},
     "output_type": "execute_result"
    }
   ],
   "source": [
    "result[:, 1]"
   ]
  },
  {
   "cell_type": "code",
   "execution_count": 53,
   "id": "bc9c7b5c-04c1-4cf4-8f85-c0064f86ae30",
   "metadata": {},
   "outputs": [
    {
     "data": {
      "text/plain": [
       "array([1.05641838e-05, 1.05641838e-05, 1.05641838e-05, 1.05641838e-05,\n",
       "       1.05641838e-05, 1.05641838e-05, 1.05641838e-05, 1.05641838e-05,\n",
       "       1.05641838e-05, 1.05641838e-05, 1.05641838e-05, 1.05641838e-05,\n",
       "       1.05641838e-05, 1.05641838e-05, 1.05641838e-05, 1.05641838e-05,\n",
       "       1.05641838e-05, 1.05641838e-05, 1.05641838e-05, 1.05641838e-05])"
      ]
     },
     "execution_count": 53,
     "metadata": {},
     "output_type": "execute_result"
    }
   ],
   "source": [
    "result[:, 2]"
   ]
  },
  {
   "cell_type": "code",
   "execution_count": 54,
   "id": "2e502bb4-1c6c-4098-b133-8f37f18b6ace",
   "metadata": {},
   "outputs": [
    {
     "data": {
      "text/plain": [
       "array([0.00052583, 0.00052583, 0.00052583, 0.00052583, 0.00052583,\n",
       "       0.00052583, 0.00052583, 0.00052583, 0.00052583, 0.00052583,\n",
       "       0.00052583, 0.00052583, 0.00052583, 0.00052583, 0.00052583,\n",
       "       0.00052583, 0.00052583, 0.00052583, 0.00052583, 0.00052583])"
      ]
     },
     "execution_count": 54,
     "metadata": {},
     "output_type": "execute_result"
    }
   ],
   "source": [
    "result[:, 4]"
   ]
  },
  {
   "cell_type": "code",
   "execution_count": 55,
   "id": "036e0f04-ec90-4c6f-8b3f-551312255db4",
   "metadata": {},
   "outputs": [
    {
     "data": {
      "text/plain": [
       "array([0.02601603, 0.02601603, 0.02601603, 0.02601603, 0.02601603,\n",
       "       0.02601603, 0.02601603, 0.02601603, 0.02601603, 0.02601603,\n",
       "       0.02601603, 0.02601603, 0.02601603, 0.02601603, 0.02601603,\n",
       "       0.02601603, 0.02601603, 0.02601603, 0.02601603, 0.02601603])"
      ]
     },
     "execution_count": 55,
     "metadata": {},
     "output_type": "execute_result"
    }
   ],
   "source": [
    "result[:, 6]"
   ]
  },
  {
   "cell_type": "code",
   "execution_count": 56,
   "id": "c2e88aa9-1919-424c-b5a3-16dfcb4689a1",
   "metadata": {},
   "outputs": [
    {
     "data": {
      "text/plain": [
       "array([1.27962476, 1.27962476, 1.27962476, 1.27962476, 1.27962476,\n",
       "       1.27962476, 1.27962476, 1.27962476, 1.27962476, 1.27962476,\n",
       "       1.27962476, 1.27962476, 1.27962476, 1.27962476, 1.27962476,\n",
       "       1.27962476, 1.27962476, 1.27962476, 1.27962476, 1.27962476])"
      ]
     },
     "execution_count": 56,
     "metadata": {},
     "output_type": "execute_result"
    }
   ],
   "source": [
    "result[:, 8]"
   ]
  },
  {
   "cell_type": "code",
   "execution_count": 57,
   "id": "72c19e6a-b517-48d8-a5f7-f31cbe888424",
   "metadata": {},
   "outputs": [
    {
     "data": {
      "text/plain": [
       "array([5.07203555, 5.07203555, 5.07203555, 5.07203555, 5.07203555,\n",
       "       5.07203555, 5.07203555, 5.07203555, 5.07203555, 5.07203555,\n",
       "       5.07203555, 5.07203555, 5.07203555, 5.07203555, 5.07203555,\n",
       "       5.07203555, 5.07203555, 5.07203555, 5.07203555, 5.07203555])"
      ]
     },
     "execution_count": 57,
     "metadata": {},
     "output_type": "execute_result"
    }
   ],
   "source": [
    "result[:, 10]"
   ]
  },
  {
   "cell_type": "code",
   "execution_count": 58,
   "id": "f199bd93-1e28-4e15-90c8-0f4a12276177",
   "metadata": {},
   "outputs": [
    {
     "data": {
      "text/plain": [
       "array([7.71575101e-08, 7.71575101e-08, 7.71575101e-08, 7.71575101e-08,\n",
       "       7.71575101e-08, 7.71575101e-08, 7.71575101e-08, 7.71575101e-08,\n",
       "       7.71575101e-08, 7.71575101e-08, 7.71575101e-08, 7.71575101e-08,\n",
       "       7.71575101e-08, 7.71575101e-08, 7.71575101e-08, 7.71575101e-08,\n",
       "       7.71575101e-08, 7.71575101e-08, 7.71575101e-08, 7.71575101e-08])"
      ]
     },
     "execution_count": 58,
     "metadata": {},
     "output_type": "execute_result"
    }
   ],
   "source": [
    "result[:, 19]"
   ]
  },
  {
   "cell_type": "code",
   "execution_count": 116,
   "id": "f1ef9149-35cc-45a8-8855-fe2ab102da6d",
   "metadata": {},
   "outputs": [
    {
     "name": "stdout",
     "output_type": "stream",
     "text": [
      "Compartment size times:  [0.7420475482940674, 3.518643617630005, 7.3738672733306885, 18.19509768486023, 64.69217228889465, 231.44163966178894]\n",
      "Simulation time for different epochs and time steps:  [0.6864268779754639, 3.468745470046997, 6.919107675552368, 69.68381881713867, 351.5794668197632, 711.421303987503]\n"
     ]
    }
   ],
   "source": [
    "\n",
    "def run_simulation_with_timing():\n",
    "    try:\n",
    "        com_size = [10, 50, 100, 200, 500, 1000]\n",
    "        com_time = []\n",
    "        for c in com_size:\n",
    "            tic = time.time()\n",
    "            pop = np.zeros((7, c, c))\n",
    "            pop[1, :, 0] = 10\n",
    "            pop[3, :, -1] = 10\n",
    "\n",
    "            pop[-1, 0, :3] = [.09, .007, 1.1]\n",
    "            pop[-1, 2, :3] = [0.09, 0.006, 1.2]\n",
    "            pop[-1, -1, :5] = [2, 1, 500, 5, .01]\n",
    "            pop[-2, 0, 0:2] = [0, 2]\n",
    "            pop[-2, 1, 0:4] = [6, .01, 0.001, 1.3]\n",
    "\n",
    "            result = population_simulation(pop)\n",
    "            toc = time.time()\n",
    "            d = toc - tic\n",
    "            com_time.append(d)\n",
    "        \n",
    "        max_s = [100, 500, 1000, 10000, 50000, 100000]\n",
    "        dts = [.1, .02, .01, .001, 0.0002, 0.0001]\n",
    "        sim_time = []\n",
    "        for i in range(len(max_s)):\n",
    "            tic = time.time()\n",
    "            pop = np.zeros((7, 50, 50))\n",
    "            pop[1, :, 0] = 10\n",
    "            pop[3, :, -1] = 10\n",
    "\n",
    "            pop[-1, 0, :3] = [.09, .007, 1.1]\n",
    "            pop[-1, 2, :3] = [0.09, 0.006, 1.2]\n",
    "            pop[-1, -1, :5] = [2, 1, max_s[i], 10, dts[i]]\n",
    "            pop[-2, 0, 0:2] = [0, 2]\n",
    "            pop[-2, 1, 0:4] = [6, .01, 0.001, 1.3]\n",
    "\n",
    "            result = population_simulation(pop)\n",
    "            toc = time.time()\n",
    "            d = toc - tic\n",
    "            sim_time.append(d)\n",
    "        \n",
    "        print(\"Compartment size times: \", com_time)\n",
    "        print(\"Simulation time for different epochs and time steps: \", sim_time)\n",
    "    \n",
    "    except Exception as e:\n",
    "        print(f\"An error occurred: {e}\")\n",
    "\n",
    "run_simulation_with_timing()\n"
   ]
  },
  {
   "cell_type": "code",
   "execution_count": 117,
   "id": "1c384416-df32-4cf6-b5fb-cadbefc39bfb",
   "metadata": {},
   "outputs": [
    {
     "name": "stdout",
     "output_type": "stream",
     "text": [
      "[150.99141120910645, 378.38582491874695, 752.4636449813843, 1492.9554994106293, 3762.6383543014526]\n"
     ]
    }
   ],
   "source": [
    "times = []\n",
    "pop_size = [20, 50, 100, 200, 500]\n",
    "for p in pop_size:\n",
    "    tic = time.time()\n",
    "    for i in range(p):\n",
    "        pop = np.zeros((7, 100, 100))\n",
    "        pop[1, :, 0] = 10\n",
    "        pop[3, :, -1] = 10\n",
    "\n",
    "        pop[-1, 0, :3] = [.09, .007, 1.1]\n",
    "        pop[-1, 2, :3] = [0.09, 0.006, 1.2]\n",
    "        pop[-1, -1, :5] = [2, 1, 500, 5, .01]\n",
    "        pop[-2, 0, 0:2] = [0, 2]\n",
    "        pop[-2, 1, 0:4] = [6, .01, 0.001, 1.3]\n",
    "        result = population_simulation(pop)\n",
    "    toc = time.time()\n",
    "    d = toc - tic\n",
    "    times.append(d)\n",
    "\n",
    "print(times)      "
   ]
  },
  {
   "cell_type": "code",
   "execution_count": 2,
   "id": "33e28cdf-b062-4c1b-be20-ef8dfc359680",
   "metadata": {},
   "outputs": [
    {
     "name": "stdout",
     "output_type": "stream",
     "text": [
      "Benchmarking data and guide successfully saved to 'benchmarking_data.json'.\n"
     ]
    }
   ],
   "source": [
    "import json\n",
    "\n",
    "\n",
    "\n",
    "\n",
    "# Define the benchmarking data\n",
    "benchmarking_data = {\n",
    "    \"numba_ind_com_size\": {\n",
    "        10: 10.832071781158447,\n",
    "        50: 0.11558675765991211,\n",
    "        100: 0.36243414878845215,\n",
    "        200: 2.0385539531707764,\n",
    "        500: 16.384703159332275,\n",
    "        1000: 107.51107883453369,\n",
    "        \"max-epoch\": 500\n",
    "    },\n",
    "    \"numba_ind_sim_epochs\": {\n",
    "        100: 0.0251920223236084,\n",
    "        500: 0.11624932289123535,\n",
    "        1000: 0.2307727336883545,\n",
    "        10000: 2.3095428943634033,\n",
    "        50000: 11.656088590621948,\n",
    "        100000: 23.539443016052246,\n",
    "        \"com-size\": (50, 50),\n",
    "    },\n",
    "    \"numba_ind_pop_size\": {\n",
    "        20: 18.735677242279053,\n",
    "        50: 18.983787536621094,\n",
    "        100: 38.32541823387146,\n",
    "        200: 76.57288527488708,\n",
    "        500: 191.06534576416016,\n",
    "        \"com-size\": (100, 100),\n",
    "        \"max-epoch\": 500,\n",
    "        \"population-size: 500; compartment-size:(30, 30)\": 40.275675773620605\n",
    "    },\n",
    "\n",
    "    \"numba_pop_com_size\": {\n",
    "        10: 26.76466679573059,\n",
    "        50: 0.35320067405700684,\n",
    "        100: 1.3790197372436523,\n",
    "        200: 5.35337233543396,\n",
    "        500: 35.19749212265015,\n",
    "        1000: 159.29870414733887,\n",
    "        \"max-epoch\": 500        \n",
    "    },\n",
    "\n",
    "    \"numba_pop_sim_epochs\": {\n",
    "        100: 0.11437368392944336,\n",
    "        500: 0.4038560390472412,\n",
    "        1000: 0.6781086921691895,\n",
    "        10000: 7.273306131362915,\n",
    "        50000: 37.85251188278198,\n",
    "        100000: 75.1127541065216,\n",
    "        \"com-size\": (50, 50),\n",
    "        \n",
    "    },\n",
    "    \n",
    "    \"numba_pop_pop_size\":{\n",
    "        20: 35.294729471206665,\n",
    "        50: 32.22624230384827,\n",
    "        100: 79.2218770980835,\n",
    "        200: 222.69041323661804,\n",
    "        500: 1065.2381467819214,\n",
    "        \"com-size\": (100, 100),\n",
    "        \"max-epoch\": 500,\n",
    "        \"population-size: 500; compartment-size:(30, 30)\": 39.30253887176514\n",
    "        \n",
    "    },\n",
    "    \"ind_com_size\": {\n",
    "        10: 0.7420475482940674,\n",
    "        50: 3.518643617630005,\n",
    "        100: 7.3738672733306885,\n",
    "        200: 18.19509768486023,\n",
    "        500: 64.69217228889465,\n",
    "        1000: 231.44163966178894,\n",
    "        \"max-epoch\": 500\n",
    "    },\n",
    "    \"ind_sim_epochs\": {\n",
    "        100: 0.6864268779754639,\n",
    "        500: 3.468745470046997,\n",
    "        1000: 6.919107675552368,\n",
    "        10000: 69.68381881713867,\n",
    "        50000: 351.5794668197632,\n",
    "        100000: 711.421303987503,\n",
    "        \"com-size\": (100, 100),\n",
    "        \"max-epoch\": 500\n",
    "    },\n",
    "    \"ind_pop_size\": {\n",
    "        20: 150.99141120910645,\n",
    "        50: 378.38582491874695,\n",
    "        100: 752.4636449813843,\n",
    "        200: 1492.9554994106293,\n",
    "        500: 3762.6383543014526\n",
    "    },\n",
    "    \n",
    "    \"pop_com_size\": {\n",
    "        10: 0.9397096633911133,\n",
    "        50: 4.6353771686553955,\n",
    "        100: 10.665963411331177,\n",
    "        200: 24.520857572555542,\n",
    "        500: 78.5129234790802,\n",
    "        1000: 237.52796268463135,\n",
    "        \"max-epoch\": 500\n",
    "    },\n",
    "    \n",
    "    \"pop_sim_epochs\": {\n",
    "        100: 0.9293687343597412,\n",
    "        500: 5.341303586959839,\n",
    "        1000: 10.59108567237854,\n",
    "        10000: 107.30202984809875,\n",
    "        50000: 532.3031232357025,\n",
    "        100000: 1083.5127437114716,\n",
    "        \"com-size\": (100, 100),\n",
    "        \"max-epoch\": 500\n",
    "    },\n",
    "\n",
    "    \"pop_pop_size\": {\n",
    "        20: 29.11799931526184,\n",
    "        50: 58.71723914146423,\n",
    "        100: 144.36324095726013,\n",
    "        200: 432.2431707382202,\n",
    "        500: 1658.7862005233765\n",
    "    }\n",
    "}\n",
    "\n",
    "# Define the guide\n",
    "guide = {\n",
    "    \"description\": \"This file contains benchmarking data for simulation algorithms tested with and without Numba optimization.\",\n",
    "    \"variables\": {\n",
    "        \"compartment_size\": \"The size of the 2D squared compartment where species spread out. Examples include (20, 20), (50, 50), etc.\",\n",
    "        \"simulation_epochs\": \"Number of simulation epochs, indicating the duration of the simulation.\",\n",
    "        \"population_size\": \"The size of the population being simulated, impacting the complexity and runtime of the simulation.\"\n",
    "    },\n",
    "    \"note\": \"The data includes performance metrics for different configurations, comparing execution times with and without Numba optimizations.\"\n",
    "}\n",
    "\n",
    "# Save data to a JSON file\n",
    "with open('benchmarking_data.json', 'w') as f:\n",
    "    json.dump(benchmarking_data, f, indent=4)\n",
    "    json.dump({\"guide\": guide}, f, indent=4)\n",
    "\n",
    "print(\"Benchmarking data and guide successfully saved to 'benchmarking_data.json'.\")\n",
    "\n"
   ]
  },
  {
   "cell_type": "code",
   "execution_count": 7,
   "id": "3b3560c5-25c7-427c-b5dc-26e65e2b93da",
   "metadata": {},
   "outputs": [
    {
     "data": {
      "image/png": "[encoded data removed]",
      "text/plain": [
       "<Figure size 1800x600 with 3 Axes>"
      ]
     },
     "metadata": {},
     "output_type": "display_data"
    }
   ],
   "source": [
    "import matplotlib.pyplot as plt\n",
    "\n",
    "# Benchmarking data\n",
    "benchmarking_data = {\n",
    "    \"numba_com_size\": {\n",
    "        10: 10.832071781158447,\n",
    "        50: 0.11558675765991211,\n",
    "        100: 0.36243414878845215,\n",
    "        200: 2.0385539531707764,\n",
    "        500: 16.384703159332275,\n",
    "        1000: 107.51107883453369,\n",
    "    },\n",
    "    \"numba_sim_epochs\": {\n",
    "        100: 0.0251920223236084,\n",
    "        500: 0.11624932289123535,\n",
    "        1000: 0.2307727336883545,\n",
    "        10000: 2.3095428943634033,\n",
    "        50000: 11.656088590621948,\n",
    "        100000: 23.539443016052246,\n",
    "    },\n",
    "    \"numba_pop_size\": {\n",
    "        20: 18.735677242279053,\n",
    "        50: 18.983787536621094,\n",
    "        100: 38.32541823387146,\n",
    "        200: 76.57288527488708,\n",
    "        500: 191.06534576416016,\n",
    "    },\n",
    "    \"com_size\": {\n",
    "        10: 0.7420475482940674,\n",
    "        50: 3.518643617630005,\n",
    "        100: 7.3738672733306885,\n",
    "        200: 18.19509768486023,\n",
    "        500: 64.69217228889465,\n",
    "        1000: 231.44163966178894,\n",
    "    },\n",
    "    \"sim_epochs\": {\n",
    "        100: 0.6864268779754639,\n",
    "        500: 3.468745470046997,\n",
    "        1000: 6.919107675552368,\n",
    "        10000: 69.68381881713867,\n",
    "        50000: 351.5794668197632,\n",
    "        100000: 711.421303987503,\n",
    "    },\n",
    "    \"pop_size\": {\n",
    "        20: 150.99141120910645,\n",
    "        50: 378.38582491874695,\n",
    "        100: 752.4636449813843,\n",
    "        200: 1492.9554994106293,\n",
    "        500: 3762.6383543014526\n",
    "    }\n",
    "}\n",
    "\n",
    "# Extract data for plotting\n",
    "x_com_size = sorted(benchmarking_data['com_size'].values())\n",
    "y_com_size = [key for key in sorted(benchmarking_data['com_size'].keys())]\n",
    "\n",
    "x_sim_epochs = sorted(benchmarking_data['sim_epochs'].values())\n",
    "y_sim_epochs = [key for key in sorted(benchmarking_data['sim_epochs'].keys())]\n",
    "\n",
    "x_pop_size = sorted(benchmarking_data['pop_size'].values())\n",
    "y_pop_size = [key for key in sorted(benchmarking_data['pop_size'].keys())]\n",
    "\n",
    "x_numba_com_size = sorted(benchmarking_data['numba_com_size'].values())\n",
    "y_numba_com_size = [key for key in sorted(benchmarking_data['numba_com_size'].keys())]\n",
    "\n",
    "x_numba_sim_epochs = sorted(benchmarking_data['numba_sim_epochs'].values())\n",
    "y_numba_sim_epochs = [key for key in sorted(benchmarking_data['numba_sim_epochs'].keys())]\n",
    "\n",
    "x_numba_pop_size = sorted(benchmarking_data['numba_pop_size'].values())\n",
    "y_numba_pop_size = [key for key in sorted(benchmarking_data['numba_pop_size'].keys())]\n",
    "\n",
    "# Create subplots\n",
    "fig, axs = plt.subplots(1, 3, figsize=(18, 6), sharey=True)\n",
    "\n",
    "# Plot Com Size\n",
    "axs[0].plot(y_com_size, x_com_size, label='Without Numba', marker='o', color='b')\n",
    "axs[0].plot(y_numba_com_size, x_numba_com_size, label='With Numba', marker='o', color='r')\n",
    "axs[0].set_title('Performance vs. Compartment Size')\n",
    "axs[0].set_xlabel('Compartment Size')\n",
    "axs[0].set_ylabel('Time (seconds)')\n",
    "axs[0].legend()\n",
    "axs[0].grid(True)\n",
    "\n",
    "# Plot Sim Epochs\n",
    "axs[1].plot(y_sim_epochs, x_sim_epochs, label='Without Numba', marker='o', color='b')\n",
    "axs[1].plot(y_numba_sim_epochs, x_numba_sim_epochs, label='With Numba', marker='o', color='r')\n",
    "axs[1].set_title('Performance vs. Maximum Number of Simulation Epoch')\n",
    "axs[1].set_xlabel('Simulation Epochs')\n",
    "axs[1].set_ylabel('Time (seconds)')\n",
    "axs[1].legend()\n",
    "axs[1].grid(True)\n",
    "\n",
    "# Plot Pop Size\n",
    "axs[2].plot(y_pop_size, x_pop_size, label='Without Numba', marker='o', color='b')\n",
    "axs[2].plot(y_numba_pop_size, x_numba_pop_size, label='With Numba', marker='o', color='r')\n",
    "axs[2].set_title('Performance vs. Population Size')\n",
    "axs[2].set_xlabel('Population Size')\n",
    "axs[2].set_ylabel('Time (seconds)')\n",
    "axs[2].legend()\n",
    "axs[2].grid(True)\n",
    "\n",
    "# Show the plot\n",
    "plt.tight_layout()\n",
    "plt.show()\n"
   ]
  },
  {
   "cell_type": "code",
   "execution_count": 16,
   "id": "3d6434f3-4569-4797-829b-7ebedd54a377",
   "metadata": {},
   "outputs": [],
   "source": [
    "g = np.ones((5, 7, 10, 10))"
   ]
  },
  {
   "cell_type": "code",
   "execution_count": 17,
   "id": "4355221b-22c5-4581-bb24-9f970d2e1520",
   "metadata": {},
   "outputs": [
    {
     "data": {
      "text/plain": [
       "(5, 7, 10, 10)"
      ]
     },
     "execution_count": 17,
     "metadata": {},
     "output_type": "execute_result"
    }
   ],
   "source": [
    "g.shape"
   ]
  },
  {
   "cell_type": "code",
   "execution_count": 18,
   "id": "329c7ad8-419c-4a83-95c3-e7a10e03cefe",
   "metadata": {},
   "outputs": [],
   "source": [
    "g[0, -1, 1, 1] = 19\n",
    "g[1, -1, 1, 1] = 20\n",
    "g[2, -1, 1, 1] = 21\n",
    "g[3, -1, 1, 1] = 22\n",
    "g[4, -1, 1, 1] = 23\n"
   ]
  },
  {
   "cell_type": "code",
   "execution_count": 19,
   "id": "31928beb-d43c-4e9d-8f00-8b819a131556",
   "metadata": {},
   "outputs": [
    {
     "data": {
      "text/plain": [
       "array([[ 1.,  1.,  1.,  1.,  1.,  1.,  1.,  1.,  1.,  1.],\n",
       "       [ 1., 19.,  1.,  1.,  1.,  1.,  1.,  1.,  1.,  1.],\n",
       "       [ 1.,  1.,  1.,  1.,  1.,  1.,  1.,  1.,  1.,  1.],\n",
       "       [ 1.,  1.,  1.,  1.,  1.,  1.,  1.,  1.,  1.,  1.],\n",
       "       [ 1.,  1.,  1.,  1.,  1.,  1.,  1.,  1.,  1.,  1.],\n",
       "       [ 1.,  1.,  1.,  1.,  1.,  1.,  1.,  1.,  1.,  1.],\n",
       "       [ 1.,  1.,  1.,  1.,  1.,  1.,  1.,  1.,  1.,  1.],\n",
       "       [ 1.,  1.,  1.,  1.,  1.,  1.,  1.,  1.,  1.,  1.],\n",
       "       [ 1.,  1.,  1.,  1.,  1.,  1.,  1.,  1.,  1.,  1.],\n",
       "       [ 1.,  1.,  1.,  1.,  1.,  1.,  1.,  1.,  1.,  1.]])"
      ]
     },
     "execution_count": 19,
     "metadata": {},
     "output_type": "execute_result"
    }
   ],
   "source": [
    "g[0, -1, :, :]"
   ]
  },
  {
   "cell_type": "code",
   "execution_count": 20,
   "id": "423bd943-5583-4453-b828-916c3771f479",
   "metadata": {},
   "outputs": [],
   "source": [
    "h = g[:, -1, 1, 1]"
   ]
  },
  {
   "cell_type": "code",
   "execution_count": 21,
   "id": "8e4c7c70-dde7-4cad-a7e5-b9f19b2f76a2",
   "metadata": {},
   "outputs": [
    {
     "data": {
      "text/plain": [
       "array([19., 20., 21., 22., 23.])"
      ]
     },
     "execution_count": 21,
     "metadata": {},
     "output_type": "execute_result"
    }
   ],
   "source": [
    "h"
   ]
  },
  {
   "cell_type": "code",
   "execution_count": 22,
   "id": "be58b8fe-02a6-4bd2-afdc-31ad54dfcaaa",
   "metadata": {},
   "outputs": [
    {
     "data": {
      "text/plain": [
       "(5,)"
      ]
     },
     "execution_count": 22,
     "metadata": {},
     "output_type": "execute_result"
    }
   ],
   "source": [
    "h.shape"
   ]
  },
  {
   "cell_type": "code",
   "execution_count": 23,
   "id": "86b9bab4-0ddc-4c4a-9b6e-fb9d81e89ab1",
   "metadata": {},
   "outputs": [
    {
     "data": {
      "text/plain": [
       "(5, 10)"
      ]
     },
     "execution_count": 23,
     "metadata": {},
     "output_type": "execute_result"
    }
   ],
   "source": [
    "k = g[:, 0, :, 0]\n",
    "k.shape"
   ]
  },
  {
   "cell_type": "code",
   "execution_count": 25,
   "id": "758c7f81-cbf3-49a2-b961-47b27256c301",
   "metadata": {},
   "outputs": [
    {
     "name": "stdout",
     "output_type": "stream",
     "text": [
      "[[19. 19. 19. 19. 19. 19. 19. 19. 19. 19.]\n",
      " [20. 20. 20. 20. 20. 20. 20. 20. 20. 20.]\n",
      " [21. 21. 21. 21. 21. 21. 21. 21. 21. 21.]\n",
      " [22. 22. 22. 22. 22. 22. 22. 22. 22. 22.]\n",
      " [23. 23. 23. 23. 23. 23. 23. 23. 23. 23.]]\n"
     ]
    }
   ],
   "source": [
    "print((k.T * h).T)"
   ]
  },
  {
   "cell_type": "code",
   "execution_count": 23,
   "id": "b261a7d6-0cca-494a-8eff-5792bfc59c95",
   "metadata": {},
   "outputs": [],
   "source": [
    "import numpy as np\n",
    "\n",
    "def compute_cost(predicted, target, model=\"MSE\"):\n",
    "    m, n, p = predicted.shape\n",
    "    costs = np.zeros(m)\n",
    "\n",
    "    if model == \"MSE\":\n",
    "        # Mean Squared Error (MSE)\n",
    "        for i in range(m):\n",
    "            costs[i] = np.mean((target - predicted[i, :, :]) ** 2)\n",
    "    \n",
    "    elif model == \"NCC\":\n",
    "        # Normalized Cross-Correlation (NCC)\n",
    "        for i in range(m):\n",
    "            target_mean = np.mean(target)\n",
    "            pred_mean = np.mean(predicted[i, :, :])\n",
    "            target_std = np.std(target)\n",
    "            pred_std = np.std(predicted[i, :, :])\n",
    "            \n",
    "            # Calculate normalized cross-correlation\n",
    "            if target_std > 0 and pred_std > 0:\n",
    "                ncc = np.sum((target - target_mean) * (predicted[i, :, :] - pred_mean)) / (target_std * pred_std)\n",
    "                ncc /= (n * p)  # Normalize by number of elements\n",
    "            else:\n",
    "                ncc = 0  # Handle cases where standard deviation is zero\n",
    "            \n",
    "            costs[i] = ncc\n",
    "    \n",
    "    return costs\n",
    "\n"
   ]
  },
  {
   "cell_type": "code",
   "execution_count": 25,
   "id": "c808a645-baec-404b-9669-32315e55ba6f",
   "metadata": {},
   "outputs": [
    {
     "name": "stdout",
     "output_type": "stream",
     "text": [
      "\n",
      "MSE Costs:\n",
      "[0.28027748 0.22546851 0.25612361 0.12019708 0.24343893]\n",
      "\n",
      "NCC Costs:\n",
      "[-0.14153667 -0.12983694 -0.32230035  0.25053812 -0.30159352]\n"
     ]
    }
   ],
   "source": [
    "m = 5  # Number of matrices\n",
    "n, p = 4, 4  # Dimensions of each matrix\n",
    "\n",
    "target = np.random.rand(n, p)\n",
    "\n",
    "predicted = np.random.rand(m, n, p)\n",
    "\n",
    "mse_costs = compute_cost(predicted, target, model=\"MSE\")\n",
    "ncc_costs = compute_cost(predicted, target, model=\"NCC\")\n",
    "\n",
    "print(\"\\nMSE Costs:\")\n",
    "print(mse_costs)\n",
    "\n",
    "print(\"\\nNCC Costs:\")\n",
    "print(ncc_costs)\n"
   ]
  },
  {
   "cell_type": "code",
   "execution_count": 4,
   "id": "1c18d151-3f75-4666-a11b-335433fb9a41",
   "metadata": {},
   "outputs": [
    {
     "data": {
      "text/plain": [
       "array([[[1., 1., 1., 1., 1., 1., 1., 1., 1., 1.],\n",
       "        [1., 1., 1., 1., 1., 1., 1., 1., 1., 1.],\n",
       "        [1., 1., 1., 1., 1., 1., 1., 1., 1., 1.],\n",
       "        [1., 1., 1., 1., 1., 1., 1., 1., 1., 1.],\n",
       "        [1., 1., 1., 1., 1., 1., 1., 1., 1., 1.],\n",
       "        [1., 1., 1., 1., 1., 1., 1., 1., 1., 1.],\n",
       "        [1., 1., 1., 1., 1., 1., 1., 1., 1., 1.],\n",
       "        [1., 1., 1., 1., 1., 1., 1., 1., 1., 1.],\n",
       "        [1., 1., 1., 1., 1., 1., 1., 1., 1., 1.],\n",
       "        [1., 1., 1., 1., 1., 1., 1., 1., 1., 1.]],\n",
       "\n",
       "       [[1., 1., 1., 1., 1., 1., 1., 1., 1., 1.],\n",
       "        [1., 1., 1., 1., 1., 1., 1., 1., 1., 1.],\n",
       "        [1., 1., 1., 1., 1., 1., 1., 1., 1., 1.],\n",
       "        [1., 1., 1., 1., 1., 1., 1., 1., 1., 1.],\n",
       "        [1., 1., 1., 1., 1., 1., 1., 1., 1., 1.],\n",
       "        [1., 1., 1., 1., 1., 1., 1., 1., 1., 1.],\n",
       "        [1., 1., 1., 1., 1., 1., 1., 1., 1., 1.],\n",
       "        [1., 1., 1., 1., 1., 1., 1., 1., 1., 1.],\n",
       "        [1., 1., 1., 1., 1., 1., 1., 1., 1., 1.],\n",
       "        [1., 1., 1., 1., 1., 1., 1., 1., 1., 1.]],\n",
       "\n",
       "       [[1., 1., 1., 1., 1., 1., 1., 1., 1., 1.],\n",
       "        [1., 1., 1., 1., 1., 1., 1., 1., 1., 1.],\n",
       "        [1., 1., 1., 1., 1., 1., 1., 1., 1., 1.],\n",
       "        [1., 1., 1., 1., 1., 1., 1., 1., 1., 1.],\n",
       "        [1., 1., 1., 1., 1., 1., 1., 1., 1., 1.],\n",
       "        [1., 1., 1., 1., 1., 1., 1., 1., 1., 1.],\n",
       "        [1., 1., 1., 1., 1., 1., 1., 1., 1., 1.],\n",
       "        [1., 1., 1., 1., 1., 1., 1., 1., 1., 1.],\n",
       "        [1., 1., 1., 1., 1., 1., 1., 1., 1., 1.],\n",
       "        [1., 1., 1., 1., 1., 1., 1., 1., 1., 1.]],\n",
       "\n",
       "       [[1., 1., 1., 1., 1., 1., 1., 1., 1., 1.],\n",
       "        [1., 1., 1., 1., 1., 1., 1., 1., 1., 1.],\n",
       "        [1., 1., 1., 1., 1., 1., 1., 1., 1., 1.],\n",
       "        [1., 1., 1., 1., 1., 1., 1., 1., 1., 1.],\n",
       "        [1., 1., 1., 1., 1., 1., 1., 1., 1., 1.],\n",
       "        [1., 1., 1., 1., 1., 1., 1., 1., 1., 1.],\n",
       "        [1., 1., 1., 1., 1., 1., 1., 1., 1., 1.],\n",
       "        [1., 1., 1., 1., 1., 1., 1., 1., 1., 1.],\n",
       "        [1., 1., 1., 1., 1., 1., 1., 1., 1., 1.],\n",
       "        [1., 1., 1., 1., 1., 1., 1., 1., 1., 1.]],\n",
       "\n",
       "       [[1., 1., 1., 1., 1., 1., 1., 1., 1., 1.],\n",
       "        [1., 1., 1., 1., 1., 1., 1., 1., 1., 1.],\n",
       "        [1., 1., 1., 1., 1., 1., 1., 1., 1., 1.],\n",
       "        [1., 1., 1., 1., 1., 1., 1., 1., 1., 1.],\n",
       "        [1., 1., 1., 1., 1., 1., 1., 1., 1., 1.],\n",
       "        [1., 1., 1., 1., 1., 1., 1., 1., 1., 1.],\n",
       "        [1., 1., 1., 1., 1., 1., 1., 1., 1., 1.],\n",
       "        [1., 1., 1., 1., 1., 1., 1., 1., 1., 1.],\n",
       "        [1., 1., 1., 1., 1., 1., 1., 1., 1., 1.],\n",
       "        [1., 1., 1., 1., 1., 1., 1., 1., 1., 1.]],\n",
       "\n",
       "       [[1., 1., 1., 1., 1., 1., 1., 1., 1., 1.],\n",
       "        [1., 1., 1., 1., 1., 1., 1., 1., 1., 1.],\n",
       "        [1., 1., 1., 1., 1., 1., 1., 1., 1., 1.],\n",
       "        [1., 1., 1., 1., 1., 1., 1., 1., 1., 1.],\n",
       "        [1., 1., 1., 1., 1., 1., 1., 1., 1., 1.],\n",
       "        [1., 1., 1., 1., 1., 1., 1., 1., 1., 1.],\n",
       "        [1., 1., 1., 1., 1., 1., 1., 1., 1., 1.],\n",
       "        [1., 1., 1., 1., 1., 1., 1., 1., 1., 1.],\n",
       "        [1., 1., 1., 1., 1., 1., 1., 1., 1., 1.],\n",
       "        [1., 1., 1., 1., 1., 1., 1., 1., 1., 1.]],\n",
       "\n",
       "       [[1., 1., 1., 1., 1., 1., 1., 1., 1., 1.],\n",
       "        [1., 1., 1., 1., 1., 1., 1., 1., 1., 1.],\n",
       "        [1., 1., 1., 1., 1., 1., 1., 1., 1., 1.],\n",
       "        [1., 1., 1., 1., 1., 1., 1., 1., 1., 1.],\n",
       "        [1., 1., 1., 1., 1., 1., 1., 1., 1., 1.],\n",
       "        [1., 1., 1., 1., 1., 1., 1., 1., 1., 1.],\n",
       "        [1., 1., 1., 1., 1., 1., 1., 1., 1., 1.],\n",
       "        [1., 1., 1., 1., 1., 1., 1., 1., 1., 1.],\n",
       "        [1., 1., 1., 1., 1., 1., 1., 1., 1., 1.],\n",
       "        [1., 1., 1., 1., 1., 1., 1., 1., 1., 1.]],\n",
       "\n",
       "       [[1., 1., 1., 1., 1., 1., 1., 1., 1., 1.],\n",
       "        [1., 1., 1., 1., 1., 1., 1., 1., 1., 1.],\n",
       "        [1., 1., 1., 1., 1., 1., 1., 1., 1., 1.],\n",
       "        [1., 1., 1., 1., 1., 1., 1., 1., 1., 1.],\n",
       "        [1., 1., 1., 1., 1., 1., 1., 1., 1., 1.],\n",
       "        [1., 1., 1., 1., 1., 1., 1., 1., 1., 1.],\n",
       "        [1., 1., 1., 1., 1., 1., 1., 1., 1., 1.],\n",
       "        [1., 1., 1., 1., 1., 1., 1., 1., 1., 1.],\n",
       "        [1., 1., 1., 1., 1., 1., 1., 1., 1., 1.],\n",
       "        [1., 1., 1., 1., 1., 1., 1., 1., 1., 1.]],\n",
       "\n",
       "       [[1., 1., 1., 1., 1., 1., 1., 1., 1., 1.],\n",
       "        [1., 1., 1., 1., 1., 1., 1., 1., 1., 1.],\n",
       "        [1., 1., 1., 1., 1., 1., 1., 1., 1., 1.],\n",
       "        [1., 1., 1., 1., 1., 1., 1., 1., 1., 1.],\n",
       "        [1., 1., 1., 1., 1., 1., 1., 1., 1., 1.],\n",
       "        [1., 1., 1., 1., 1., 1., 1., 1., 1., 1.],\n",
       "        [1., 1., 1., 1., 1., 1., 1., 1., 1., 1.],\n",
       "        [1., 1., 1., 1., 1., 1., 1., 1., 1., 1.],\n",
       "        [1., 1., 1., 1., 1., 1., 1., 1., 1., 1.],\n",
       "        [1., 1., 1., 1., 1., 1., 1., 1., 1., 1.]],\n",
       "\n",
       "       [[1., 1., 1., 1., 1., 1., 1., 1., 1., 1.],\n",
       "        [1., 1., 1., 1., 1., 1., 1., 1., 1., 1.],\n",
       "        [1., 1., 1., 1., 1., 1., 1., 1., 1., 1.],\n",
       "        [1., 1., 1., 1., 1., 1., 1., 1., 1., 1.],\n",
       "        [1., 1., 1., 1., 1., 1., 1., 1., 1., 1.],\n",
       "        [1., 1., 1., 1., 1., 1., 1., 1., 1., 1.],\n",
       "        [1., 1., 1., 1., 1., 1., 1., 1., 1., 1.],\n",
       "        [1., 1., 1., 1., 1., 1., 1., 1., 1., 1.],\n",
       "        [1., 1., 1., 1., 1., 1., 1., 1., 1., 1.],\n",
       "        [1., 1., 1., 1., 1., 1., 1., 1., 1., 1.]]])"
      ]
     },
     "execution_count": 4,
     "metadata": {},
     "output_type": "execute_result"
    }
   ],
   "source": [
    "h = np.ones((10, 10, 10))\n",
    "h"
   ]
  },
  {
   "cell_type": "code",
   "execution_count": 27,
   "id": "3f7de384-4cb2-4e91-b5b8-e884da565329",
   "metadata": {},
   "outputs": [
    {
     "name": "stdout",
     "output_type": "stream",
     "text": [
      "Cost for each pattern:\n",
      "[0.06375722 0.05257884 0.09874338 0.08572616 0.05643089]\n"
     ]
    }
   ],
   "source": [
    "import numpy as np\n",
    "from scipy.ndimage import convolve\n",
    "\n",
    "def box_blur_kernel(k):\n",
    "    \"\"\"\n",
    "    Create a box blur kernel of size k x k.\n",
    "    \"\"\"\n",
    "    return np.ones((k, k)) / (k * k)\n",
    "\n",
    "def compute_cost(predicted, target, k, alpha, beta, delta_D):\n",
    "    \"\"\"\n",
    "    Compute the fitness error between the developed patterns and the target pattern.\n",
    "    \n",
    "    Parameters:\n",
    "    - predicted: Array of shape (m, w, h) containing developed patterns\n",
    "    - target: 2D array of shape (w, h) containing the target pattern\n",
    "    - k: Size of the box blur kernel\n",
    "    - alpha: Error concentration threshold\n",
    "    - beta: Equilibrium penalty threshold\n",
    "    - delta_D: Maximum concentration change in D at the last time step\n",
    "    \n",
    "    Returns:\n",
    "    - costs: Array of shape (m,) containing the cost for each pattern\n",
    "    \"\"\"\n",
    "    m, w, h = predicted.shape\n",
    "    kernel = box_blur_kernel(k)\n",
    "    costs = np.zeros(m)\n",
    "    \n",
    "    # Convolve the target with the blur kernel\n",
    "    blurred_target = convolve(target, kernel, mode='constant', cval=0.0)\n",
    "    \n",
    "    for i in range(m):\n",
    "        # Convolve each predicted pattern with the blur kernel\n",
    "        blurred_pred = convolve(predicted[i, :, :], kernel, mode='constant', cval=0.0)\n",
    "        \n",
    "        # Calculate the log difference error\n",
    "        diff = np.abs(blurred_pred - blurred_target)\n",
    "        log_diff = np.log1p(np.maximum(diff - alpha, 0))\n",
    "        log_diff_error = np.mean(log_diff)\n",
    "        \n",
    "        # Calculate the equilibrium penalty\n",
    "        equilibrium_penalty = np.maximum(delta_D - beta, 0)\n",
    "        \n",
    "        # Compute the total cost\n",
    "        costs[i] = log_diff_error + equilibrium_penalty\n",
    "    \n",
    "    return costs\n",
    "\n",
    "# Example usage\n",
    "m, w, h = 5, 4, 4  # Number of matrices and dimensions\n",
    "k = 3  # Kernel size\n",
    "alpha = 0.1  # Threshold for log difference\n",
    "beta = 0.05  # Threshold for equilibrium penalty\n",
    "delta_D = 0.1  # Maximum concentration change\n",
    "\n",
    "# Generate random target and predicted matrices\n",
    "target = np.random.rand(w, h)\n",
    "predicted = np.random.rand(m, w, h)\n",
    "\n",
    "# Compute the cost\n",
    "costs = compute_cost(predicted, target, k, alpha, beta, delta_D)\n",
    "\n",
    "print(\"Cost for each pattern:\")\n",
    "print(costs)\n"
   ]
  },
  {
   "cell_type": "code",
   "execution_count": 28,
   "id": "f17522d7-d98a-4763-a1a8-1689544a215a",
   "metadata": {},
   "outputs": [
    {
     "name": "stdout",
     "output_type": "stream",
     "text": [
      "Randomized Integer Array: [ 8 13]\n",
      "Randomized Float Array: [ 6.91371415 16.36858876]\n"
     ]
    }
   ],
   "source": [
    "import numpy as np\n",
    "\n",
    "def randomize_array_elements(g, min_vals, max_vals, dtype='float'):\n",
    "    \"\"\"\n",
    "    Randomly change the elements of an array `g` based on specific min and max values.\n",
    "\n",
    "    Parameters:\n",
    "    - g (np.ndarray): The array to be modified.\n",
    "    - min_vals (list or np.ndarray): Minimum values for each element.\n",
    "    - max_vals (list or np.ndarray): Maximum values for each element.\n",
    "    - dtype (str): Type of random values to generate ('int' or 'float').\n",
    "\n",
    "    Returns:\n",
    "    - np.ndarray: The modified array with random values.\n",
    "    \"\"\"\n",
    "    if len(min_vals) != len(max_vals) or len(min_vals) != len(g):\n",
    "        raise ValueError(\"Length of min_vals, max_vals must match length of g.\")\n",
    "\n",
    "    # Ensure min_vals and max_vals are numpy arrays for broadcasting\n",
    "    min_vals = np.array(min_vals)\n",
    "    max_vals = np.array(max_vals)\n",
    "    \n",
    "    if dtype == 'int':\n",
    "        # Generate random integers within specified ranges\n",
    "        random_values = np.random.randint(min_vals, max_vals + 1, size=g.shape)\n",
    "    elif dtype == 'float':\n",
    "        # Generate random floats within specified ranges\n",
    "        random_values = min_vals + (max_vals - min_vals) * np.random.random(size=g.shape)\n",
    "    else:\n",
    "        raise ValueError(\"dtype must be 'int' or 'float'.\")\n",
    "\n",
    "    return random_values\n",
    "\n",
    "# Example usage\n",
    "g = np.array([2, 5])\n",
    "min_vals = [1, 3]\n",
    "max_vals = [10, 20]\n",
    "\n",
    "# Randomize with integer values\n",
    "new_g_int = randomize_array_elements(g, min_vals, max_vals, dtype='int')\n",
    "print(\"Randomized Integer Array:\", new_g_int)\n",
    "\n",
    "# Randomize with float values\n",
    "new_g_float = randomize_array_elements(g, min_vals, max_vals, dtype='float')\n",
    "print(\"Randomized Float Array:\", new_g_float)\n",
    "\n"
   ]
  },
  {
   "cell_type": "code",
   "execution_count": 32,
   "id": "502005fc-a3c1-4c0a-94a3-8c63600fd2dc",
   "metadata": {},
   "outputs": [
    {
     "name": "stdout",
     "output_type": "stream",
     "text": [
      "0.20865816839894347\n"
     ]
    }
   ],
   "source": [
    "print(np.random.rand())"
   ]
  },
  {
   "cell_type": "code",
   "execution_count": 4,
   "id": "466f7eb4-b0c1-40d9-bd01-f3c644d829fa",
   "metadata": {},
   "outputs": [
    {
     "data": {
      "text/plain": [
       "array([[0.88770356, 0.25823372, 0.45387527, 0.35714816, 0.77219659],\n",
       "       [0.16269476, 0.46209521, 0.6169808 , 0.56318545, 0.80150168],\n",
       "       [0.39150041, 0.48352353, 0.6432193 , 0.46843505, 0.95322576],\n",
       "       [0.80234752, 0.03422849, 0.44802184, 0.60336315, 0.35079517],\n",
       "       [0.07109062, 0.25149138, 0.50934929, 0.293038  , 0.11195059]])"
      ]
     },
     "execution_count": 4,
     "metadata": {},
     "output_type": "execute_result"
    }
   ],
   "source": [
    "h = np.zeros((5, 5))\n",
    "\n",
    "k = np.random.rand(h.shape[0], h.shape[1])\n",
    "k"
   ]
  },
  {
   "cell_type": "code",
   "execution_count": 5,
   "id": "0d9554b7-9960-4789-b55d-c2c79427bbfa",
   "metadata": {},
   "outputs": [],
   "source": [
    "mean = 2\n",
    "std = 1\n",
    "g = np.random.normal(loc=mean, scale=std, size=h.shape)"
   ]
  },
  {
   "cell_type": "code",
   "execution_count": 6,
   "id": "35923bf8-c6ac-44e0-9b39-fd3d9f75b761",
   "metadata": {},
   "outputs": [
    {
     "data": {
      "text/plain": [
       "array([[3.29883089, 3.72217585, 2.15992216, 2.6026229 , 0.86707073],\n",
       "       [2.35433945, 3.29063484, 1.25174258, 2.00160462, 2.75454925],\n",
       "       [1.04613475, 0.4857813 , 2.22139635, 1.40315881, 2.09066288],\n",
       "       [1.95120639, 2.5754006 , 0.43729611, 0.94525244, 1.28818329],\n",
       "       [2.15980816, 3.85894526, 2.33098786, 2.86381871, 3.52529445]])"
      ]
     },
     "execution_count": 6,
     "metadata": {},
     "output_type": "execute_result"
    }
   ],
   "source": [
    "g"
   ]
  },
  {
   "cell_type": "code",
   "execution_count": 14,
   "id": "0d7c5284-fed1-44b6-a096-2a2429da32e6",
   "metadata": {},
   "outputs": [],
   "source": [
    "def apply_compartment_mutation(individual, mutation_rate, mean, std_dev):\n",
    "    \"\"\"\n",
    "    Apply Gaussian mutation to the compartments of the individual.\n",
    "\n",
    "    Parameters:\n",
    "    - individual (np.ndarray): The array representing the individual with shape (z, y, x).\n",
    "    - mutation_rate (float): The probability of mutation for each cell in the compartment.\n",
    "    - mean (float): Mean of the Gaussian distribution used for mutation.\n",
    "    - std_dev (float): Standard deviation of the Gaussian distribution used for mutation.\n",
    "\n",
    "    Returns:\n",
    "    - np.ndarray: The mutated individual array.\n",
    "    \"\"\"\n",
    "    num_species = int(individual[-1, -1, 0])  # Number of species\n",
    "    compartment_size = individual[0, :, :].shape  # Shape of the compartments\n",
    "\n",
    "    for i in range(1, num_species * 2, 2):\n",
    "        # Create random mask where mutation will happen\n",
    "        mut_mask = np.random.rand(compartment_size[0], compartment_size[1]) < mutation_rate\n",
    "        # Generate Gaussian noise\n",
    "        noise = np.random.normal(loc=mean, scale=std_dev, size=compartment_size)\n",
    "        # Apply noise where mutation mask is true\n",
    "        individual[i, :, :] += np.where(mut_mask, noise, 0)\n",
    "        individual[i, :, :] = np.maximum(individual[i, :, :], 0)\n",
    "\n",
    "    return individual\n"
   ]
  },
  {
   "cell_type": "code",
   "execution_count": 15,
   "id": "2bc6bdd9-f9bc-4e36-8295-0e6dcbeb8cb9",
   "metadata": {},
   "outputs": [
    {
     "name": "stdout",
     "output_type": "stream",
     "text": [
      "Original Individual:\n",
      "[[[1.         1.         1.         1.         1.        ]\n",
      "  [1.         1.         1.         1.         1.        ]\n",
      "  [1.         1.         1.         1.         1.        ]\n",
      "  [1.         1.         1.         1.         1.        ]\n",
      "  [1.         1.         1.         1.         1.        ]]\n",
      "\n",
      " [[0.         1.         1.         1.         1.        ]\n",
      "  [1.         1.         1.         1.         1.        ]\n",
      "  [0.         1.         0.         1.         1.        ]\n",
      "  [1.         1.         1.         1.         1.        ]\n",
      "  [1.         1.5715114  1.         1.43289337 1.        ]]\n",
      "\n",
      " [[1.         1.         1.         1.         1.        ]\n",
      "  [1.         1.         1.         1.         1.        ]\n",
      "  [1.         1.         1.         1.         1.        ]\n",
      "  [1.         1.         1.         1.         1.        ]\n",
      "  [1.         1.         1.         1.         1.        ]]\n",
      "\n",
      " [[1.         1.         1.         0.74440089 1.        ]\n",
      "  [1.         1.         1.         1.         1.        ]\n",
      "  [1.         1.         1.         1.         1.        ]\n",
      "  [1.         1.         1.         1.16296486 1.        ]\n",
      "  [2.         1.         1.         1.         0.53554833]]]\n",
      "Mutated Individual:\n",
      "[[[1.         1.         1.         1.         1.        ]\n",
      "  [1.         1.         1.         1.         1.        ]\n",
      "  [1.         1.         1.         1.         1.        ]\n",
      "  [1.         1.         1.         1.         1.        ]\n",
      "  [1.         1.         1.         1.         1.        ]]\n",
      "\n",
      " [[0.         1.         1.         1.         1.        ]\n",
      "  [1.         1.         1.         1.         1.        ]\n",
      "  [0.         1.         0.         1.         1.        ]\n",
      "  [1.         1.         1.         1.         1.        ]\n",
      "  [1.         1.5715114  1.         1.43289337 1.        ]]\n",
      "\n",
      " [[1.         1.         1.         1.         1.        ]\n",
      "  [1.         1.         1.         1.         1.        ]\n",
      "  [1.         1.         1.         1.         1.        ]\n",
      "  [1.         1.         1.         1.         1.        ]\n",
      "  [1.         1.         1.         1.         1.        ]]\n",
      "\n",
      " [[1.         1.         1.         0.74440089 1.        ]\n",
      "  [1.         1.         1.         1.         1.        ]\n",
      "  [1.         1.         1.         1.         1.        ]\n",
      "  [1.         1.         1.         1.16296486 1.        ]\n",
      "  [2.         1.         1.         1.         0.53554833]]]\n"
     ]
    }
   ],
   "source": [
    "# Example individual array\n",
    "individual = np.ones((4, 5, 5))  # (z, y, x) shape with dummy values\n",
    "\n",
    "# Set some example values\n",
    "individual[-1, -1, 0] = 2  # Number of species\n",
    "\n",
    "# Mutation parameters\n",
    "mutation_rate = 0.1  # 10% mutation probability\n",
    "mean = 0.0\n",
    "std_dev = 1.0\n",
    "\n",
    "# Apply mutation\n",
    "mutated_individual = apply_compartment_mutation(individual, mutation_rate, mean, std_dev)\n",
    "\n",
    "print(\"Original Individual:\")\n",
    "print(individual)\n",
    "\n",
    "print(\"Mutated Individual:\")\n",
    "print(mutated_individual)\n"
   ]
  },
  {
   "cell_type": "code",
   "execution_count": 16,
   "id": "f396cc00-262e-46a3-aa16-fb749f6241d0",
   "metadata": {},
   "outputs": [],
   "source": [
    "m = np.random.rand(5, 5) < .2"
   ]
  },
  {
   "cell_type": "code",
   "execution_count": 17,
   "id": "e359fa1d-0c05-462c-a681-473c0c882d80",
   "metadata": {},
   "outputs": [
    {
     "data": {
      "text/plain": [
       "array([[False, False, False,  True, False],\n",
       "       [False, False,  True,  True,  True],\n",
       "       [False, False, False,  True, False],\n",
       "       [False, False, False, False,  True],\n",
       "       [ True, False, False, False, False]])"
      ]
     },
     "execution_count": 17,
     "metadata": {},
     "output_type": "execute_result"
    }
   ],
   "source": [
    "m"
   ]
  },
  {
   "cell_type": "code",
   "execution_count": 23,
   "id": "0080ecb9-0f43-49cf-8c48-1fde08aedd1f",
   "metadata": {},
   "outputs": [],
   "source": [
    "v = np.ones((5, 5, 5))"
   ]
  },
  {
   "cell_type": "code",
   "execution_count": 24,
   "id": "7b180be7-eae7-4fd2-8404-b25663908fae",
   "metadata": {},
   "outputs": [
    {
     "data": {
      "text/plain": [
       "(4,)"
      ]
     },
     "execution_count": 24,
     "metadata": {},
     "output_type": "execute_result"
    }
   ],
   "source": [
    "v[-1, 0, :4].shape"
   ]
  },
  {
   "cell_type": "code",
   "execution_count": 25,
   "id": "d6237070-7b80-4622-b1d0-8802a842d067",
   "metadata": {},
   "outputs": [],
   "source": [
    "h = np.zeros(3)"
   ]
  },
  {
   "cell_type": "code",
   "execution_count": 26,
   "id": "39340fb4-7aee-4817-a1db-1401fc27cdaa",
   "metadata": {},
   "outputs": [
    {
     "data": {
      "text/plain": [
       "(3,)"
      ]
     },
     "execution_count": 26,
     "metadata": {},
     "output_type": "execute_result"
    }
   ],
   "source": [
    "h.shape"
   ]
  },
  {
   "cell_type": "code",
   "execution_count": 27,
   "id": "306a694b-4008-4fa0-a2ee-63a8f4af6947",
   "metadata": {},
   "outputs": [
    {
     "name": "stdout",
     "output_type": "stream",
     "text": [
      "[0.71041241 0.90139512]\n"
     ]
    }
   ],
   "source": [
    "print(np.random.rand(2))"
   ]
  },
  {
   "cell_type": "code",
   "execution_count": 28,
   "id": "5888e37c-f5f2-4693-84ab-e9c69f611247",
   "metadata": {},
   "outputs": [],
   "source": [
    "import numpy as np\n",
    "\n",
    "def apply_compartment_mutation(individual, mutation_rate, mean, std_dev, min_val=None, max_val=None, distribution=\"normal\"):\n",
    "    \"\"\"\n",
    "    Apply mutation to the compartments of the individual based on the specified distribution.\n",
    "    This mutation function is specific for pattern matrices of the species.\n",
    "\n",
    "    Parameters:\n",
    "    - individual (np.ndarray): The array representing the individual with shape (z, y, x).\n",
    "    - mutation_rate (float): The probability of mutation for each cell in the compartment.\n",
    "    - mean (float): Mean of the Gaussian distribution used for mutation (ignored if uniform distribution).\n",
    "    - std_dev (float): Standard deviation of the Gaussian distribution used for mutation (ignored if uniform distribution).\n",
    "    - min_val (float, optional): Minimum value for uniform distribution (required if distribution is uniform).\n",
    "    - max_val (float, optional): Maximum value for uniform distribution (required if distribution is uniform).\n",
    "    - distribution (str): Type of distribution to use for mutation (\"normal\" or \"uniform\").\n",
    "\n",
    "    Returns:\n",
    "    - np.ndarray: The mutated individual array.\n",
    "    \"\"\"\n",
    "    num_species = int(individual[-1, -1, 0])  # Number of species\n",
    "    compartment_size = individual[0, :, :].shape  # Shape of the compartments\n",
    "\n",
    "    if distribution not in [\"normal\", \"uniform\"]:\n",
    "        raise ValueError(\"Distribution must be either 'normal' or 'uniform'\")\n",
    "\n",
    "    for i in range(1, num_species * 2, 2):\n",
    "        # Create random mask where mutation will happen (False or True)\n",
    "        mut_mask = np.random.rand(compartment_size[0], compartment_size[1]) < mutation_rate\n",
    "        \n",
    "        if distribution == \"normal\":\n",
    "            noise = np.random.normal(loc=mean, scale=std_dev, size=compartment_size)\n",
    "        elif distribution == \"uniform\":\n",
    "            if min_val is None or max_val is None:\n",
    "                raise ValueError(\"Both min_val and max_val must be provided for uniform distribution\")\n",
    "            noise = np.random.uniform(low=min_val, high=max_val, size=compartment_size)\n",
    "\n",
    "        # Apply noise where mutation mask is true\n",
    "        individual[i, :, :] += np.where(mut_mask, noise, 0)\n",
    "        # Ensure non-negative values\n",
    "        individual[i, :, :] = np.maximum(individual[i, :, :], 0)\n",
    "\n",
    "    return individual\n"
   ]
  },
  {
   "cell_type": "code",
   "execution_count": 29,
   "id": "9e4c9654-1561-4a52-9a0d-cda2f20bd3ab",
   "metadata": {},
   "outputs": [
    {
     "name": "stdout",
     "output_type": "stream",
     "text": [
      "Original Individual:\n",
      "[[[0.         0.         0.         0.         0.        ]\n",
      "  [0.         0.         0.         0.         0.        ]\n",
      "  [0.         0.         0.         0.         0.        ]\n",
      "  [0.         0.         0.         0.         0.        ]\n",
      "  [0.         0.         0.         0.         0.        ]]\n",
      "\n",
      " [[0.         0.         0.         0.06362508 0.3565655 ]\n",
      "  [0.         0.         0.         0.         0.        ]\n",
      "  [0.         0.         0.         0.         0.0513885 ]\n",
      "  [0.         0.         0.         0.         0.45871863]\n",
      "  [0.         0.         0.         0.         0.        ]]\n",
      "\n",
      " [[0.         0.         0.         0.         0.        ]\n",
      "  [0.         0.         0.         0.         0.        ]\n",
      "  [0.         0.         0.         0.         0.        ]\n",
      "  [0.         0.         0.         0.         0.        ]\n",
      "  [0.         0.         0.         0.         0.        ]]\n",
      "\n",
      " [[0.5153132  0.         0.         0.75563769 0.        ]\n",
      "  [0.85855519 0.         0.         0.3814324  0.        ]\n",
      "  [0.         1.36279532 0.         0.32451996 0.        ]\n",
      "  [1.03810299 0.55362342 0.         0.         0.        ]\n",
      "  [2.         0.         0.         0.50174626 0.        ]]]\n",
      "Mutated Individual (Gaussian):\n",
      "[[[0.         0.         0.         0.         0.        ]\n",
      "  [0.         0.         0.         0.         0.        ]\n",
      "  [0.         0.         0.         0.         0.        ]\n",
      "  [0.         0.         0.         0.         0.        ]\n",
      "  [0.         0.         0.         0.         0.        ]]\n",
      "\n",
      " [[0.         0.         0.         0.06362508 0.3565655 ]\n",
      "  [0.         0.         0.         0.         0.        ]\n",
      "  [0.         0.         0.         0.         0.0513885 ]\n",
      "  [0.         0.         0.         0.         0.45871863]\n",
      "  [0.         0.         0.         0.         0.        ]]\n",
      "\n",
      " [[0.         0.         0.         0.         0.        ]\n",
      "  [0.         0.         0.         0.         0.        ]\n",
      "  [0.         0.         0.         0.         0.        ]\n",
      "  [0.         0.         0.         0.         0.        ]\n",
      "  [0.         0.         0.         0.         0.        ]]\n",
      "\n",
      " [[0.5153132  0.         0.         0.75563769 0.        ]\n",
      "  [0.85855519 0.         0.         0.3814324  0.        ]\n",
      "  [0.         1.36279532 0.         0.32451996 0.        ]\n",
      "  [1.03810299 0.55362342 0.         0.         0.        ]\n",
      "  [2.         0.         0.         0.50174626 0.        ]]]\n",
      "Mutated Individual (Uniform):\n",
      "[[[0.         0.         0.         0.         0.        ]\n",
      "  [0.         0.         0.         0.         0.        ]\n",
      "  [0.         0.         0.         0.         0.        ]\n",
      "  [0.         0.         0.         0.         0.        ]\n",
      "  [0.         0.         0.         0.         0.        ]]\n",
      "\n",
      " [[0.         0.         0.         0.06362508 0.3565655 ]\n",
      "  [0.         0.         0.         0.         0.        ]\n",
      "  [0.         0.         0.         0.         0.0513885 ]\n",
      "  [0.         0.         0.         0.         0.45871863]\n",
      "  [0.         0.         0.         0.         0.        ]]\n",
      "\n",
      " [[0.         0.         0.         0.         0.        ]\n",
      "  [0.         0.         0.         0.         0.        ]\n",
      "  [0.         0.         0.         0.         0.        ]\n",
      "  [0.         0.         0.         0.         0.        ]\n",
      "  [0.         0.         0.         0.         0.        ]]\n",
      "\n",
      " [[0.5153132  0.         0.         0.75563769 0.        ]\n",
      "  [0.85855519 0.         0.         0.3814324  0.        ]\n",
      "  [0.         1.36279532 0.         0.32451996 0.        ]\n",
      "  [1.03810299 0.55362342 0.         0.         0.        ]\n",
      "  [2.         0.         0.         0.50174626 0.        ]]]\n"
     ]
    }
   ],
   "source": [
    "# Example individual array\n",
    "individual = np.zeros((4, 5, 5))  # (z, y, x) shape with dummy values\n",
    "\n",
    "# Set some example values\n",
    "individual[-1, -1, 0] = 2  # Number of species\n",
    "\n",
    "# Mutation parameters\n",
    "mutation_rate = 0.1  # 10% mutation probability\n",
    "mean = 0.0\n",
    "std_dev = 1.0\n",
    "min_val = 0.0\n",
    "max_val = 1.0\n",
    "\n",
    "# Apply Gaussian mutation\n",
    "mutated_individual_gaussian = apply_compartment_mutation(individual, mutation_rate, mean, std_dev, distribution=\"normal\")\n",
    "\n",
    "# Apply Uniform mutation\n",
    "mutated_individual_uniform = apply_compartment_mutation(individual, mutation_rate, mean, std_dev, min_val, max_val, distribution=\"uniform\")\n",
    "\n",
    "print(\"Original Individual:\")\n",
    "print(individual)\n",
    "\n",
    "print(\"Mutated Individual (Gaussian):\")\n",
    "print(mutated_individual_gaussian)\n",
    "\n",
    "print(\"Mutated Individual (Uniform):\")\n",
    "print(mutated_individual_uniform)\n"
   ]
  },
  {
   "cell_type": "code",
   "execution_count": 41,
   "id": "3ac78107-0b6a-4be4-a48c-360e154c870a",
   "metadata": {},
   "outputs": [
    {
     "name": "stdout",
     "output_type": "stream",
     "text": [
      "Original Individual:\n",
      "[[[0. 0. 0. 0. 0.]\n",
      "  [0. 0. 0. 0. 0.]\n",
      "  [0. 0. 0. 0. 0.]\n",
      "  [0. 0. 0. 0. 0.]\n",
      "  [0. 0. 0. 0. 0.]]\n",
      "\n",
      " [[0. 0. 0. 0. 0.]\n",
      "  [0. 0. 0. 0. 0.]\n",
      "  [0. 0. 0. 0. 0.]\n",
      "  [0. 0. 0. 0. 0.]\n",
      "  [0. 0. 0. 0. 0.]]\n",
      "\n",
      " [[0. 0. 0. 0. 0.]\n",
      "  [0. 0. 0. 0. 0.]\n",
      "  [0. 0. 0. 0. 0.]\n",
      "  [0. 0. 0. 0. 0.]\n",
      "  [0. 0. 0. 0. 0.]]\n",
      "\n",
      " [[0. 0. 0. 0. 0.]\n",
      "  [0. 0. 0. 0. 0.]\n",
      "  [0. 0. 0. 0. 0.]\n",
      "  [0. 0. 0. 0. 0.]\n",
      "  [0. 0. 0. 0. 0.]]]\n",
      "Mutated Individual:\n",
      "[[[0. 0. 0. 0. 0.]\n",
      "  [0. 0. 0. 0. 0.]\n",
      "  [0. 0. 0. 0. 0.]\n",
      "  [0. 0. 0. 0. 0.]\n",
      "  [0. 0. 0. 0. 0.]]\n",
      "\n",
      " [[0. 0. 0. 0. 0.]\n",
      "  [0. 0. 0. 0. 0.]\n",
      "  [0. 0. 0. 0. 0.]\n",
      "  [0. 0. 0. 0. 0.]\n",
      "  [0. 0. 0. 0. 0.]]\n",
      "\n",
      " [[0. 0. 0. 0. 0.]\n",
      "  [0. 0. 0. 0. 0.]\n",
      "  [0. 0. 0. 0. 0.]\n",
      "  [0. 0. 0. 0. 0.]\n",
      "  [0. 0. 0. 0. 0.]]\n",
      "\n",
      " [[0. 0. 0. 0. 0.]\n",
      "  [0. 0. 0. 0. 0.]\n",
      "  [0. 0. 0. 0. 0.]\n",
      "  [0. 0. 0. 0. 0.]\n",
      "  [0. 0. 0. 0. 0.]]]\n"
     ]
    }
   ],
   "source": [
    "import numpy as np\n",
    "\n",
    "def apply_parameter_mutation(individual, mutation_rate, means, std_devs, min_vals, max_vals, distribution):\n",
    "    \"\"\"\n",
    "    Apply mutation to specific regions of the individual based on the provided mutation rate and distribution.\n",
    "\n",
    "    Parameters:\n",
    "    - individual (np.ndarray): The array representing the individual with shape (z, y, x).\n",
    "    - mutation_rate (float): The probability of mutation for each parameter.\n",
    "    - means (list or np.ndarray): Means for the normal distribution.\n",
    "    - std_devs (list or np.ndarray): Standard deviations for the normal distribution.\n",
    "    - min_vals (list or np.ndarray): Minimum values for the uniform distribution.\n",
    "    - max_vals (list or np.ndarray): Maximum values for the uniform distribution.\n",
    "    - distribution (str): Type of distribution for mutation (\"normal\" or \"uniform\").\n",
    "\n",
    "    Returns:\n",
    "    - np.ndarray: The mutated individual array.\n",
    "    \"\"\"\n",
    "    num_species = int(individual[-1, -1, 0])\n",
    "    num_pairs = int(individual[-1, -1, 1])\n",
    "    pair_start = num_species * 2\n",
    "    pair_stop = pair_start + (num_pairs * 2)\n",
    "\n",
    "    # Ensure means, std_devs, min_vals, and max_vals are numpy arrays for easy indexing\n",
    "    means = np.array(means)\n",
    "    std_devs = np.array(std_devs)\n",
    "    min_vals = np.array(min_vals)\n",
    "    max_vals = np.array(max_vals)\n",
    "\n",
    "    # Apply mutation to species parameters\n",
    "    for i in range(0, num_species * 2, 2):\n",
    "        mut_mask = np.random.rand(3) < mutation_rate\n",
    "        if distribution == \"normal\":\n",
    "            species_noise = np.random.normal(loc=means[i//2*3:(i//2+1)*3], scale=std_devs[i//2*3:(i//2+1)*3])\n",
    "        elif distribution == \"uniform\":\n",
    "            species_noise = np.random.uniform(low=min_vals[i//2*3:(i//2+1)*3], high=max_vals[i//2*3:(i//2+1)*3])\n",
    "        \n",
    "        # Apply mutation noise to the individual array\n",
    "        individual[-1, i, :3] += np.where(mut_mask, species_noise, 0)\n",
    "\n",
    "    # Apply mutation to pairs of parameters\n",
    "    for i in range(pair_start, pair_stop, 2):\n",
    "        mut_mask = np.random.rand(4) < mutation_rate\n",
    "        if distribution == \"normal\":\n",
    "            pair_noise = np.random.normal(loc=means[num_species*3 + (i-pair_start)//2*4:num_species*3 + (i-pair_start)//2*4 + 4],\n",
    "                                          scale=std_devs[num_species*3 + (i-pair_start)//2*4:num_species*3 + (i-pair_start)//2*4 + 4])\n",
    "        elif distribution == \"uniform\":\n",
    "            pair_noise = np.random.uniform(low=min_vals[num_species*3 + (i-pair_start)//2*4:num_species*3 + (i-pair_start)//2*4 + 4],\n",
    "                                            high=max_vals[num_species*3 + (i-pair_start)//2*4:num_species*3 + (i-pair_start)//2*4 + 4])\n",
    "        \n",
    "        # Apply mutation noise to the individual array\n",
    "        individual[i, 1, :4] += np.where(mut_mask, pair_noise, 0)\n",
    "\n",
    "    return individual\n",
    "\n",
    "# Example individual array\n",
    "individual = np.zeros((4, 5, 5))  # (z, y, x) shape with dummy values\n",
    "\n",
    "# Set example parameters\n",
    "mutation_rate = 0.9  # 90% mutation probability\n",
    "means = [0.0, 1.0, -1.0, 0.5, 1.5, 2.0]  # Example means\n",
    "std_devs = [1.0, 0.5, 0.2, 0.3, 1.0, 0.7]  # Example standard deviations\n",
    "min_vals = [0.0, 0.0, 0.0, 0.1, 0.1, 0.1]  # Example min values\n",
    "max_vals = [1.0, 1.0, 1.0, 1.0, 1.0, 1.0]  # Example max values\n",
    "\n",
    "# Apply mutation\n",
    "mutated_individual = apply_parameter_mutation(individual, mutation_rate, means, std_devs, min_vals, max_vals, distribution=\"normal\")\n",
    "\n",
    "print(\"Original Individual:\")\n",
    "print(individual)\n",
    "\n",
    "print(\"Mutated Individual:\")\n",
    "print(mutated_individual)\n",
    "\n"
   ]
  },
  {
   "cell_type": "code",
   "execution_count": 39,
   "id": "55a5fc5a-7bdb-4b39-b69d-d5dfe69bc5d3",
   "metadata": {},
   "outputs": [
    {
     "name": "stdout",
     "output_type": "stream",
     "text": [
      "Original Individual:\n",
      "[[[0. 0. 0. 0. 0.]\n",
      "  [0. 0. 0. 0. 0.]\n",
      "  [0. 0. 0. 0. 0.]\n",
      "  [0. 0. 0. 0. 0.]\n",
      "  [0. 0. 0. 0. 0.]]\n",
      "\n",
      " [[0. 0. 0. 0. 0.]\n",
      "  [0. 0. 0. 0. 0.]\n",
      "  [0. 0. 0. 0. 0.]\n",
      "  [0. 0. 0. 0. 0.]\n",
      "  [0. 0. 0. 0. 0.]]\n",
      "\n",
      " [[0. 0. 0. 0. 0.]\n",
      "  [0. 0. 0. 0. 0.]\n",
      "  [0. 0. 0. 0. 0.]\n",
      "  [0. 0. 0. 0. 0.]\n",
      "  [0. 0. 0. 0. 0.]]\n",
      "\n",
      " [[0. 0. 0. 0. 0.]\n",
      "  [0. 0. 0. 0. 0.]\n",
      "  [0. 0. 0. 0. 0.]\n",
      "  [0. 0. 0. 0. 0.]\n",
      "  [0. 0. 0. 0. 0.]]]\n",
      "Mutated Individual:\n",
      "[[[0. 0. 0. 0. 0.]\n",
      "  [0. 0. 0. 0. 0.]\n",
      "  [0. 0. 0. 0. 0.]\n",
      "  [0. 0. 0. 0. 0.]\n",
      "  [0. 0. 0. 0. 0.]]\n",
      "\n",
      " [[0. 0. 0. 0. 0.]\n",
      "  [0. 0. 0. 0. 0.]\n",
      "  [0. 0. 0. 0. 0.]\n",
      "  [0. 0. 0. 0. 0.]\n",
      "  [0. 0. 0. 0. 0.]]\n",
      "\n",
      " [[0. 0. 0. 0. 0.]\n",
      "  [0. 0. 0. 0. 0.]\n",
      "  [0. 0. 0. 0. 0.]\n",
      "  [0. 0. 0. 0. 0.]\n",
      "  [0. 0. 0. 0. 0.]]\n",
      "\n",
      " [[0. 0. 0. 0. 0.]\n",
      "  [0. 0. 0. 0. 0.]\n",
      "  [0. 0. 0. 0. 0.]\n",
      "  [0. 0. 0. 0. 0.]\n",
      "  [0. 0. 0. 0. 0.]]]\n"
     ]
    }
   ],
   "source": [
    "# Example individual array\n",
    "individual = np.zeros((4, 5, 5))  # (z, y, x) shape with dummy values\n",
    "\n",
    "# Set example parameters\n",
    "mutation_rate = 0.9  # 10% mutation probability\n",
    "means = [0.0, 1.0, -1.0, 0.5, 1.5, 2.0]  # Example means\n",
    "std_devs = [1.0, 0.5, 0.2, 0.3, 1.0, 0.7]  # Example standard deviations\n",
    "min_vals = [0.0, 0.0, 0.0, 0.1, 0.1, 0.1]  # Example min values\n",
    "max_vals = [1.0, 1.0, 1.0, 1.0, 1.0, 1.0]  # Example max values\n",
    "\n",
    "# Apply mutation\n",
    "mutated_individual = apply_parameter_mutation(individual, mutation_rate, means, std_devs, min_vals, max_vals, distribution=\"normal\")\n",
    "\n",
    "print(\"Original Individual:\")\n",
    "print(individual)\n",
    "\n",
    "print(\"Mutated Individual:\")\n",
    "print(mutated_individual)\n"
   ]
  },
  {
   "cell_type": "code",
   "execution_count": 50,
   "id": "3fd9d001-38f9-4764-8731-ee4cfe5b3390",
   "metadata": {},
   "outputs": [],
   "source": [
    "def apply_parameter_mutation(individual, mutation_rate, means, std_devs, min_vals, max_vals, distribution):\n",
    "    \"\"\"\n",
    "    Apply mutation to specific regions of the individual based on the provided mutation rate and distribution.\n",
    "\n",
    "    Parameters:\n",
    "    - individual (np.ndarray): The array representing the individual with shape (z, y, x).\n",
    "    - mutation_rate (float): The probability of mutation for each parameter.\n",
    "    - means (list or np.ndarray): Means for the normal distribution.\n",
    "    - std_devs (list or np.ndarray): Standard deviations for the normal distribution.\n",
    "    - min_vals (list or np.ndarray): Minimum values for the uniform distribution.\n",
    "    - max_vals (list or np.ndarray): Maximum values for the uniform distribution.\n",
    "    - distribution (str): Type of distribution for mutation (\"normal\" or \"uniform\").\n",
    "\n",
    "    Returns:\n",
    "    - np.ndarray: The mutated individual array.\n",
    "    \"\"\"\n",
    "    num_species = int(individual[-1, -1, 0])  # Number of species\n",
    "    compartment_size = individual[0, :, :].shape  # Shape of the compartments\n",
    "    num_pairs = int(individual[-1, -1, 1])  # Number of pairs\n",
    "    pair_start = int(num_species * 2)  # Start index for pairs\n",
    "    pair_stop = int(pair_start + (num_pairs * 2))  # End index for pairs\n",
    "\n",
    "    # Ensure means, std_devs, min_vals, and max_vals are numpy arrays for easy indexing\n",
    "    means = np.array(means)\n",
    "    std_devs = np.array(std_devs)\n",
    "    min_vals = np.array(min_vals)\n",
    "    max_vals = np.array(max_vals)\n",
    "\n",
    "    count = 0\n",
    "    \n",
    "    # Apply mutation to species parameters\n",
    "    for i in range(0, num_species * 2, 2):\n",
    "        mut_mask = np.random.rand(3) < mutation_rate\n",
    "        if distribution == \"normal\":\n",
    "            species_noise = np.random.normal(loc=means[count:count+3], scale=std_devs[count:count+3])\n",
    "        elif distribution == \"uniform\":\n",
    "            species_noise = np.random.uniform(low=min_vals[count:count+3], high=max_vals[count:count+3])\n",
    "        \n",
    "        individual[-1, i, :3] += np.where(mut_mask, species_noise, 0)\n",
    "        count += 3\n",
    "\n",
    "    # Apply mutation to pairs of parameters\n",
    "    for i in range(pair_start, pair_stop, 2):\n",
    "        mut_mask = np.random.rand(4) < mutation_rate\n",
    "        if distribution == \"normal\":\n",
    "            pair_noise = np.random.normal(loc=means[count:count+4], scale=std_devs[count:count+4])\n",
    "        elif distribution == \"uniform\":\n",
    "            pair_noise = np.random.uniform(low=min_vals[count:count+4], high=max_vals[count:count+4])\n",
    "        \n",
    "        individual[i, 1, :4] += np.where(mut_mask, pair_noise, 0)\n",
    "        count += 4\n",
    "\n",
    "    return individual\n",
    "\n"
   ]
  },
  {
   "cell_type": "code",
   "execution_count": 52,
   "id": "bca4dba8-00b0-4b14-976b-6ce54e5e4f04",
   "metadata": {},
   "outputs": [
    {
     "ename": "ValueError",
     "evalue": "operands could not be broadcast together with shapes (4,) (3,) () ",
     "output_type": "error",
     "traceback": [
      "\u001b[0;31m---------------------------------------------------------------------------\u001b[0m",
      "\u001b[0;31mValueError\u001b[0m                                Traceback (most recent call last)",
      "Cell \u001b[0;32mIn[52], line 12\u001b[0m\n\u001b[1;32m      9\u001b[0m max_vals \u001b[38;5;241m=\u001b[39m [\u001b[38;5;241m1.0\u001b[39m, \u001b[38;5;241m1.0\u001b[39m, \u001b[38;5;241m1.0\u001b[39m, \u001b[38;5;241m1.0\u001b[39m, \u001b[38;5;241m1.0\u001b[39m, \u001b[38;5;241m1.0\u001b[39m]  \u001b[38;5;66;03m# Example max values\u001b[39;00m\n\u001b[1;32m     11\u001b[0m \u001b[38;5;66;03m# Apply mutation\u001b[39;00m\n\u001b[0;32m---> 12\u001b[0m mutated_individual \u001b[38;5;241m=\u001b[39m \u001b[43mapply_parameter_mutation\u001b[49m\u001b[43m(\u001b[49m\u001b[43mindividual\u001b[49m\u001b[43m,\u001b[49m\u001b[43m \u001b[49m\u001b[43mmutation_rate\u001b[49m\u001b[43m,\u001b[49m\u001b[43m \u001b[49m\u001b[43mmeans\u001b[49m\u001b[43m,\u001b[49m\u001b[43m \u001b[49m\u001b[43mstd_devs\u001b[49m\u001b[43m,\u001b[49m\u001b[43m \u001b[49m\u001b[43mmin_vals\u001b[49m\u001b[43m,\u001b[49m\u001b[43m \u001b[49m\u001b[43mmax_vals\u001b[49m\u001b[43m,\u001b[49m\u001b[43m \u001b[49m\u001b[43mdistribution\u001b[49m\u001b[38;5;241;43m=\u001b[39;49m\u001b[38;5;124;43m\"\u001b[39;49m\u001b[38;5;124;43mnormal\u001b[39;49m\u001b[38;5;124;43m\"\u001b[39;49m\u001b[43m)\u001b[49m\n\u001b[1;32m     14\u001b[0m \u001b[38;5;28mprint\u001b[39m(\u001b[38;5;124m\"\u001b[39m\u001b[38;5;124mOriginal Individual:\u001b[39m\u001b[38;5;124m\"\u001b[39m)\n\u001b[1;32m     15\u001b[0m \u001b[38;5;28mprint\u001b[39m(individual)\n",
      "Cell \u001b[0;32mIn[50], line 50\u001b[0m, in \u001b[0;36mapply_parameter_mutation\u001b[0;34m(individual, mutation_rate, means, std_devs, min_vals, max_vals, distribution)\u001b[0m\n\u001b[1;32m     47\u001b[0m     \u001b[38;5;28;01melif\u001b[39;00m distribution \u001b[38;5;241m==\u001b[39m \u001b[38;5;124m\"\u001b[39m\u001b[38;5;124muniform\u001b[39m\u001b[38;5;124m\"\u001b[39m:\n\u001b[1;32m     48\u001b[0m         pair_noise \u001b[38;5;241m=\u001b[39m np\u001b[38;5;241m.\u001b[39mrandom\u001b[38;5;241m.\u001b[39muniform(low\u001b[38;5;241m=\u001b[39mmin_vals[count:count\u001b[38;5;241m+\u001b[39m\u001b[38;5;241m4\u001b[39m], high\u001b[38;5;241m=\u001b[39mmax_vals[count:count\u001b[38;5;241m+\u001b[39m\u001b[38;5;241m4\u001b[39m])\n\u001b[0;32m---> 50\u001b[0m     individual[i, \u001b[38;5;241m1\u001b[39m, :\u001b[38;5;241m4\u001b[39m] \u001b[38;5;241m+\u001b[39m\u001b[38;5;241m=\u001b[39m \u001b[43mnp\u001b[49m\u001b[38;5;241;43m.\u001b[39;49m\u001b[43mwhere\u001b[49m\u001b[43m(\u001b[49m\u001b[43mmut_mask\u001b[49m\u001b[43m,\u001b[49m\u001b[43m \u001b[49m\u001b[43mpair_noise\u001b[49m\u001b[43m,\u001b[49m\u001b[43m \u001b[49m\u001b[38;5;241;43m0\u001b[39;49m\u001b[43m)\u001b[49m\n\u001b[1;32m     51\u001b[0m     count \u001b[38;5;241m+\u001b[39m\u001b[38;5;241m=\u001b[39m \u001b[38;5;241m4\u001b[39m\n\u001b[1;32m     53\u001b[0m \u001b[38;5;28;01mreturn\u001b[39;00m individual\n",
      "\u001b[0;31mValueError\u001b[0m: operands could not be broadcast together with shapes (4,) (3,) () "
     ]
    }
   ],
   "source": [
    "# Example individual array\n",
    "individual = np.ones((4, 5, 5))  # (z, y, x) shape with dummy values\n",
    "\n",
    "# Set example parameters\n",
    "mutation_rate = 0.1  # 10% mutation probability\n",
    "means = [0.0, 1.0, -1.0, 0.5, 1.5, 2.0]  # Example means\n",
    "std_devs = [1.0, 0.5, 0.2, 0.3, 1.0, 0.7]  # Example standard deviations\n",
    "min_vals = [0.0, 0.0, 0.0, 0.1, 0.1, 0.1]  # Example min values\n",
    "max_vals = [1.0, 1.0, 1.0, 1.0, 1.0, 1.0]  # Example max values\n",
    "\n",
    "# Apply mutation\n",
    "mutated_individual = apply_parameter_mutation(individual, mutation_rate, means, std_devs, min_vals, max_vals, distribution=\"normal\")\n",
    "\n",
    "print(\"Original Individual:\")\n",
    "print(individual)\n",
    "\n",
    "print(\"Mutated Individual:\")\n",
    "print(mutated_individual)\n"
   ]
  },
  {
   "cell_type": "code",
   "execution_count": 48,
   "id": "4364f89d-6ccf-4a2a-aa07-8c3d0d362090",
   "metadata": {},
   "outputs": [],
   "source": [
    "individual = np.zeros((4, 5, 5))\n",
    "h = np.ones((4, 5, 5))"
   ]
  },
  {
   "cell_type": "code",
   "execution_count": 49,
   "id": "6eb488a8-d64a-428b-8926-b7c87b7d9d72",
   "metadata": {},
   "outputs": [
    {
     "data": {
      "text/plain": [
       "array([[[1., 1., 1., 1., 1.],\n",
       "        [1., 1., 1., 1., 1.],\n",
       "        [1., 1., 1., 1., 1.],\n",
       "        [1., 1., 1., 1., 1.],\n",
       "        [1., 1., 1., 1., 1.]],\n",
       "\n",
       "       [[1., 1., 1., 1., 1.],\n",
       "        [1., 1., 1., 1., 1.],\n",
       "        [1., 1., 1., 1., 1.],\n",
       "        [1., 1., 1., 1., 1.],\n",
       "        [1., 1., 1., 1., 1.]],\n",
       "\n",
       "       [[1., 1., 1., 1., 1.],\n",
       "        [1., 1., 1., 1., 1.],\n",
       "        [1., 1., 1., 1., 1.],\n",
       "        [1., 1., 1., 1., 1.],\n",
       "        [1., 1., 1., 1., 1.]],\n",
       "\n",
       "       [[1., 1., 1., 1., 1.],\n",
       "        [1., 1., 1., 1., 1.],\n",
       "        [1., 1., 1., 1., 1.],\n",
       "        [1., 1., 1., 1., 1.],\n",
       "        [1., 1., 1., 1., 1.]]])"
      ]
     },
     "execution_count": 49,
     "metadata": {},
     "output_type": "execute_result"
    }
   ],
   "source": [
    "h"
   ]
  },
  {
   "cell_type": "code",
   "execution_count": 73,
   "id": "047234e8-a9f9-42bb-870f-9455afda566b",
   "metadata": {},
   "outputs": [
    {
     "name": "stdout",
     "output_type": "stream",
     "text": [
      "Original Individual:\n",
      "[[[2 2 2 2 2 2 2 2 2 2]\n",
      "  [2 2 2 2 2 2 2 2 2 2]\n",
      "  [2 2 2 2 2 2 2 2 2 2]\n",
      "  [2 2 2 2 2 2 2 2 2 2]\n",
      "  [2 2 2 2 2 2 2 2 2 2]\n",
      "  [2 2 2 2 2 2 2 2 2 2]\n",
      "  [2 2 2 2 2 2 2 2 2 2]\n",
      "  [2 2 2 2 2 2 2 2 2 2]\n",
      "  [2 2 2 2 2 2 2 2 2 2]\n",
      "  [2 2 2 2 2 2 2 2 2 2]]\n",
      "\n",
      " [[2 2 2 2 2 2 2 2 2 2]\n",
      "  [2 2 2 2 2 2 2 2 2 2]\n",
      "  [2 2 2 2 2 2 2 2 2 2]\n",
      "  [2 2 2 2 2 2 2 2 2 2]\n",
      "  [2 2 2 2 2 2 2 2 2 2]\n",
      "  [2 2 2 2 2 2 2 2 2 2]\n",
      "  [2 2 2 2 2 2 2 2 2 2]\n",
      "  [2 2 2 2 2 2 2 2 2 2]\n",
      "  [2 2 2 2 2 2 2 2 2 2]\n",
      "  [2 2 2 2 2 2 2 2 2 2]]\n",
      "\n",
      " [[2 2 2 2 2 2 2 2 2 2]\n",
      "  [2 2 2 2 2 2 2 2 2 2]\n",
      "  [2 2 2 2 2 2 2 2 2 2]\n",
      "  [2 2 2 2 2 2 2 2 2 2]\n",
      "  [2 2 2 2 2 2 2 2 2 2]\n",
      "  [2 2 2 2 2 2 2 2 2 2]\n",
      "  [2 2 2 2 2 2 2 2 2 2]\n",
      "  [2 2 2 2 2 2 2 2 2 2]\n",
      "  [2 2 2 2 2 2 2 2 2 2]\n",
      "  [2 2 2 2 2 2 2 2 2 2]]\n",
      "\n",
      " [[2 2 2 2 2 2 2 2 2 2]\n",
      "  [2 2 2 2 2 2 2 2 2 2]\n",
      "  [2 2 2 2 2 2 2 2 2 2]\n",
      "  [2 2 2 2 2 2 2 2 2 2]\n",
      "  [2 2 2 2 2 2 2 2 2 2]\n",
      "  [2 2 2 2 2 2 2 2 2 2]\n",
      "  [2 2 2 2 2 2 2 2 2 2]\n",
      "  [2 2 2 2 2 2 2 2 2 2]\n",
      "  [2 2 2 2 2 2 2 2 2 2]\n",
      "  [2 2 2 2 2 2 2 2 2 2]]]\n"
     ]
    },
    {
     "ename": "IndexError",
     "evalue": "index 4 is out of bounds for axis 0 with size 4",
     "output_type": "error",
     "traceback": [
      "\u001b[0;31m---------------------------------------------------------------------------\u001b[0m",
      "\u001b[0;31mIndexError\u001b[0m                                Traceback (most recent call last)",
      "Cell \u001b[0;32mIn[73], line 62\u001b[0m\n\u001b[1;32m     59\u001b[0m max_vals \u001b[38;5;241m=\u001b[39m [\u001b[38;5;241m20\u001b[39m, \u001b[38;5;241m20\u001b[39m, \u001b[38;5;241m20\u001b[39m, \u001b[38;5;241m20\u001b[39m, \u001b[38;5;241m20\u001b[39m, \u001b[38;5;241m20\u001b[39m]  \u001b[38;5;66;03m# Example max values\u001b[39;00m\n\u001b[1;32m     61\u001b[0m \u001b[38;5;66;03m# Apply mutation\u001b[39;00m\n\u001b[0;32m---> 62\u001b[0m mutated_individual \u001b[38;5;241m=\u001b[39m \u001b[43mapply_parameter_mutation\u001b[49m\u001b[43m(\u001b[49m\u001b[43mindividual\u001b[49m\u001b[43m,\u001b[49m\u001b[43m \u001b[49m\u001b[43mmutation_rate\u001b[49m\u001b[43m,\u001b[49m\u001b[43m \u001b[49m\u001b[43mmeans\u001b[49m\u001b[43m,\u001b[49m\u001b[43m \u001b[49m\u001b[43mstd_devs\u001b[49m\u001b[43m,\u001b[49m\u001b[43m \u001b[49m\u001b[43mmin_vals\u001b[49m\u001b[43m,\u001b[49m\u001b[43m \u001b[49m\u001b[43mmax_vals\u001b[49m\u001b[43m,\u001b[49m\u001b[43m \u001b[49m\u001b[43mdistribution\u001b[49m\u001b[38;5;241;43m=\u001b[39;49m\u001b[38;5;124;43m\"\u001b[39;49m\u001b[38;5;124;43mnormal\u001b[39;49m\u001b[38;5;124;43m\"\u001b[39;49m\u001b[43m)\u001b[49m\n\u001b[1;32m     66\u001b[0m \u001b[38;5;28mprint\u001b[39m(\u001b[38;5;124m\"\u001b[39m\u001b[38;5;124mMutated Individual:\u001b[39m\u001b[38;5;124m\"\u001b[39m)\n\u001b[1;32m     67\u001b[0m \u001b[38;5;28mprint\u001b[39m(mutated_individual)\n",
      "Cell \u001b[0;32mIn[73], line 41\u001b[0m, in \u001b[0;36mapply_parameter_mutation\u001b[0;34m(individual, mutation_rate, means, std_devs, min_vals, max_vals, distribution)\u001b[0m\n\u001b[1;32m     39\u001b[0m \u001b[38;5;28;01mif\u001b[39;00m distribution \u001b[38;5;241m==\u001b[39m \u001b[38;5;124m\"\u001b[39m\u001b[38;5;124mnormal\u001b[39m\u001b[38;5;124m\"\u001b[39m:\n\u001b[1;32m     40\u001b[0m     \u001b[38;5;28;01mfor\u001b[39;00m j \u001b[38;5;129;01min\u001b[39;00m \u001b[38;5;28mrange\u001b[39m(\u001b[38;5;241m4\u001b[39m):\n\u001b[0;32m---> 41\u001b[0m         individual[i, \u001b[38;5;241m1\u001b[39m, j] \u001b[38;5;241m+\u001b[39m\u001b[38;5;241m=\u001b[39m np\u001b[38;5;241m.\u001b[39mrandom\u001b[38;5;241m.\u001b[39mnormal(loc\u001b[38;5;241m=\u001b[39mmeans[count], scale\u001b[38;5;241m=\u001b[39mstd_devs[count]) \u001b[38;5;241m*\u001b[39m mut_mask[j]\n\u001b[1;32m     42\u001b[0m \u001b[38;5;28;01melif\u001b[39;00m distribution \u001b[38;5;241m==\u001b[39m \u001b[38;5;124m\"\u001b[39m\u001b[38;5;124muniform\u001b[39m\u001b[38;5;124m\"\u001b[39m:\n\u001b[1;32m     43\u001b[0m     \u001b[38;5;28;01mfor\u001b[39;00m j \u001b[38;5;129;01min\u001b[39;00m \u001b[38;5;28mrange\u001b[39m(\u001b[38;5;241m4\u001b[39m):\n",
      "\u001b[0;31mIndexError\u001b[0m: index 4 is out of bounds for axis 0 with size 4"
     ]
    }
   ],
   "source": [
    "import numpy as np\n",
    "\n",
    "def apply_parameter_mutation(individual, mutation_rate, means, std_devs, min_vals, max_vals, distribution):\n",
    "    \"\"\"\n",
    "    Apply mutation to specific regions of the individual based on the provided mutation rate and distribution.\n",
    "\n",
    "    Parameters:\n",
    "    - individual (np.ndarray): The array representing the individual with shape (z, y, x).\n",
    "    - mutation_rate (float): The probability of mutation for each parameter.\n",
    "    - means (list or np.ndarray): Means for the normal distribution.\n",
    "    - std_devs (list or np.ndarray): Standard deviations for the normal distribution.\n",
    "    - min_vals (list or np.ndarray): Minimum values for the uniform distribution.\n",
    "    - max_vals (list or np.ndarray): Maximum values for the uniform distribution.\n",
    "    - distribution (str): Type of distribution for mutation (\"normal\" or \"uniform\").\n",
    "\n",
    "    Returns:\n",
    "    - np.ndarray: The mutated individual array.\n",
    "    \"\"\"\n",
    "    num_species = int(individual[-1, -1, 0])  # Number of species\n",
    "    num_pairs = int(individual[-1, -1, 1])  # Number of pairs\n",
    "    pair_start = num_species * 2  # Start index for pairs\n",
    "    pair_stop = pair_start + (num_pairs * 2)  # End index for pairs\n",
    "\n",
    "    count = 0\n",
    "    # Apply mutation to species parameters\n",
    "    for i in range(0, num_species * 2, 2):\n",
    "        mut_mask = np.random.rand(3) < mutation_rate\n",
    "        if distribution == \"normal\":\n",
    "            for j in range(3):\n",
    "                individual[-1, i, j] += np.random.normal(loc=means[count], scale=std_devs[count]) * mut_mask[j]\n",
    "        elif distribution == \"uniform\":\n",
    "            for j in range(3):\n",
    "                individual[-1, i, j] += (np.random.uniform(low=min_vals[count], high=max_vals[count]) - individual[-1, i, j]) * mut_mask[j]\n",
    "        count += 1\n",
    "\n",
    "    # Apply mutation to pairs of parameters\n",
    "    for i in range(pair_start, pair_stop, 2):\n",
    "        mut_mask = np.random.rand(4) < mutation_rate\n",
    "        if distribution == \"normal\":\n",
    "            for j in range(4):\n",
    "                individual[i, 1, j] += np.random.normal(loc=means[count], scale=std_devs[count]) * mut_mask[j]\n",
    "        elif distribution == \"uniform\":\n",
    "            for j in range(4):\n",
    "                individual[i, 1, j] += (np.random.uniform(low=min_vals[count], high=max_vals[count]) - individual[i, 1, j]) * mut_mask[j]\n",
    "        count += 1\n",
    "\n",
    "    return individual\n",
    "\n",
    "# Example individual array\n",
    "individual = np.full((4, 10, 10), 2)  # (z, y, x) shape with dummy values\n",
    "print(\"Original Individual:\")\n",
    "print(individual)\n",
    "\n",
    "# Set example parameters\n",
    "mutation_rate = 0.9  # 90% mutation probability\n",
    "means = [0.0, 1.0, -1.0, 0.5, 1.5, 2.0]  # Example means\n",
    "std_devs = [5, 6, 6, 6, 6, 7]  # Example standard deviations\n",
    "min_vals = [0.0, 0.0, 0.0, 0.1, 0.1, 0.1]  # Example min values\n",
    "max_vals = [20, 20, 20, 20, 20, 20]  # Example max values\n",
    "\n",
    "# Apply mutation\n",
    "mutated_individual = apply_parameter_mutation(individual, mutation_rate, means, std_devs, min_vals, max_vals, distribution=\"normal\")\n",
    "\n",
    "\n",
    "\n",
    "print(\"Mutated Individual:\")\n",
    "print(mutated_individual)\n"
   ]
  },
  {
   "cell_type": "code",
   "execution_count": 88,
   "id": "efdb38ee-8d81-46fc-a5c4-af50dcbf5972",
   "metadata": {},
   "outputs": [
    {
     "name": "stdout",
     "output_type": "stream",
     "text": [
      "Updated o:\n",
      "[[[1. 1. 1. 1. 1. 1. 1. 1. 1. 1.]\n",
      "  [1. 1. 1. 1. 1. 1. 1. 1. 1. 1.]\n",
      "  [1. 1. 1. 1. 1. 1. 1. 1. 1. 1.]\n",
      "  [1. 1. 1. 1. 1. 1. 1. 1. 1. 1.]\n",
      "  [1. 1. 1. 1. 1. 1. 1. 1. 1. 1.]\n",
      "  [1. 1. 1. 1. 1. 1. 1. 1. 1. 1.]\n",
      "  [1. 1. 1. 1. 1. 1. 1. 1. 1. 1.]\n",
      "  [1. 1. 1. 1. 1. 1. 1. 1. 1. 1.]\n",
      "  [1. 1. 1. 1. 1. 1. 1. 1. 1. 1.]\n",
      "  [1. 1. 1. 1. 1. 1. 1. 1. 1. 1.]]\n",
      "\n",
      " [[1. 1. 1. 1. 1. 1. 1. 1. 1. 1.]\n",
      "  [1. 1. 1. 1. 1. 1. 1. 1. 1. 1.]\n",
      "  [1. 1. 1. 1. 1. 1. 1. 1. 1. 1.]\n",
      "  [1. 1. 1. 1. 1. 1. 1. 1. 1. 1.]\n",
      "  [1. 1. 1. 1. 1. 1. 1. 1. 1. 1.]\n",
      "  [1. 1. 1. 1. 1. 1. 1. 1. 1. 1.]\n",
      "  [1. 1. 1. 1. 1. 1. 1. 1. 1. 1.]\n",
      "  [1. 1. 1. 1. 1. 1. 1. 1. 1. 1.]\n",
      "  [1. 1. 1. 1. 1. 1. 1. 1. 1. 1.]\n",
      "  [1. 1. 1. 1. 1. 1. 1. 1. 1. 1.]]\n",
      "\n",
      " [[1. 1. 1. 1. 1. 1. 1. 1. 1. 1.]\n",
      "  [1. 1. 1. 1. 1. 1. 1. 1. 1. 1.]\n",
      "  [1. 1. 1. 1. 1. 1. 1. 1. 1. 1.]\n",
      "  [1. 1. 1. 1. 1. 1. 1. 1. 1. 1.]\n",
      "  [1. 1. 1. 1. 1. 1. 1. 1. 1. 1.]\n",
      "  [1. 1. 1. 1. 1. 1. 1. 1. 1. 1.]\n",
      "  [1. 1. 1. 1. 1. 1. 1. 1. 1. 1.]\n",
      "  [1. 1. 1. 1. 1. 1. 1. 1. 1. 1.]\n",
      "  [1. 1. 1. 1. 1. 1. 1. 1. 1. 1.]\n",
      "  [1. 1. 1. 1. 1. 1. 1. 1. 1. 1.]]\n",
      "\n",
      " [[1. 1. 1. 1. 1. 1. 1. 1. 1. 1.]\n",
      "  [1. 1. 1. 1. 1. 1. 1. 1. 1. 1.]\n",
      "  [1. 1. 1. 1. 1. 1. 1. 1. 1. 1.]\n",
      "  [1. 1. 1. 1. 1. 1. 1. 1. 1. 1.]\n",
      "  [1. 1. 1. 1. 1. 1. 1. 1. 1. 1.]\n",
      "  [1. 1. 1. 1. 1. 1. 1. 1. 1. 1.]\n",
      "  [1. 1. 1. 1. 1. 1. 1. 1. 1. 1.]\n",
      "  [1. 1. 1. 1. 1. 1. 1. 1. 1. 1.]\n",
      "  [1. 1. 1. 1. 1. 1. 1. 1. 1. 1.]\n",
      "  [1. 1. 1. 1. 1. 1. 1. 1. 1. 1.]]\n",
      "\n",
      " [[1. 1. 1. 1. 1. 1. 1. 1. 1. 1.]\n",
      "  [1. 1. 1. 1. 1. 1. 1. 1. 1. 1.]\n",
      "  [1. 1. 1. 1. 1. 1. 1. 1. 1. 1.]\n",
      "  [1. 1. 1. 1. 1. 1. 1. 1. 1. 1.]\n",
      "  [1. 1. 1. 1. 1. 1. 1. 1. 1. 1.]\n",
      "  [1. 1. 1. 1. 1. 1. 1. 1. 1. 1.]\n",
      "  [1. 1. 1. 1. 1. 1. 1. 1. 1. 1.]\n",
      "  [1. 1. 1. 1. 1. 1. 1. 1. 1. 1.]\n",
      "  [1. 1. 1. 1. 1. 1. 1. 1. 1. 1.]\n",
      "  [1. 1. 1. 1. 1. 1. 1. 1. 1. 1.]]\n",
      "\n",
      " [[1. 1. 1. 1. 1. 1. 1. 1. 1. 1.]\n",
      "  [1. 1. 1. 1. 1. 1. 1. 1. 1. 1.]\n",
      "  [1. 1. 1. 1. 1. 1. 1. 1. 1. 1.]\n",
      "  [1. 1. 1. 1. 1. 1. 1. 1. 1. 1.]\n",
      "  [1. 1. 1. 1. 1. 1. 1. 1. 1. 1.]\n",
      "  [1. 1. 1. 1. 1. 1. 1. 1. 1. 1.]\n",
      "  [1. 1. 1. 1. 1. 1. 1. 1. 1. 1.]\n",
      "  [1. 1. 1. 1. 1. 1. 1. 1. 1. 1.]\n",
      "  [1. 1. 1. 1. 1. 1. 1. 1. 1. 1.]\n",
      "  [1. 1. 1. 1. 1. 1. 1. 1. 1. 1.]]\n",
      "\n",
      " [[1. 1. 1. 1. 1. 1. 1. 1. 1. 1.]\n",
      "  [1. 1. 1. 1. 1. 1. 1. 1. 1. 1.]\n",
      "  [1. 1. 1. 1. 1. 1. 1. 1. 1. 1.]\n",
      "  [1. 1. 1. 1. 1. 1. 1. 1. 1. 1.]\n",
      "  [1. 1. 1. 1. 1. 1. 1. 1. 1. 1.]\n",
      "  [1. 1. 1. 1. 1. 1. 1. 1. 1. 1.]\n",
      "  [1. 1. 1. 1. 1. 1. 1. 1. 1. 1.]\n",
      "  [1. 1. 1. 1. 1. 1. 1. 1. 1. 1.]\n",
      "  [1. 1. 1. 1. 1. 1. 1. 1. 1. 1.]\n",
      "  [1. 1. 1. 1. 1. 1. 1. 1. 1. 1.]]]\n"
     ]
    }
   ],
   "source": [
    "import numpy as np\n",
    "\n",
    "# Define the arrays\n",
    "o = np.ones((7, 10, 10))\n",
    "g = np.zeros((4, 10, 10))\n",
    "\n",
    "# Add the first two slices of g to slices 5 and 6 of o\n",
    "o[5:7, :, :] += g[:2, :, :]\n",
    "\n",
    "# Add the last two slices of g to slices 4 and 5 of o\n",
    "o[-3:-1, :, :] += g[2:, :, :]\n",
    "\n",
    "print(\"Updated o:\")\n",
    "print(o)\n"
   ]
  },
  {
   "cell_type": "code",
   "execution_count": 85,
   "id": "3c786eec-5385-4b74-9fe1-c85eae19b72f",
   "metadata": {},
   "outputs": [],
   "source": [
    "o[5:7, :, :] += g[:2, :, :]"
   ]
  },
  {
   "cell_type": "code",
   "execution_count": 86,
   "id": "21b2cd19-056b-492f-a881-05f53add1c3c",
   "metadata": {},
   "outputs": [],
   "source": [
    "o[-3:-1, :, :] += g[2:, :, :]"
   ]
  },
  {
   "cell_type": "code",
   "execution_count": 87,
   "id": "51375821-2633-43f0-bc42-0cf71ab486bc",
   "metadata": {},
   "outputs": [
    {
     "data": {
      "text/plain": [
       "array([[[1., 1., 1., 1., 1., 1., 1., 1., 1., 1.],\n",
       "        [1., 1., 1., 1., 1., 1., 1., 1., 1., 1.],\n",
       "        [1., 1., 1., 1., 1., 1., 1., 1., 1., 1.],\n",
       "        [1., 1., 1., 1., 1., 1., 1., 1., 1., 1.],\n",
       "        [1., 1., 1., 1., 1., 1., 1., 1., 1., 1.],\n",
       "        [1., 1., 1., 1., 1., 1., 1., 1., 1., 1.],\n",
       "        [1., 1., 1., 1., 1., 1., 1., 1., 1., 1.],\n",
       "        [1., 1., 1., 1., 1., 1., 1., 1., 1., 1.],\n",
       "        [1., 1., 1., 1., 1., 1., 1., 1., 1., 1.],\n",
       "        [1., 1., 1., 1., 1., 1., 1., 1., 1., 1.]],\n",
       "\n",
       "       [[1., 1., 1., 1., 1., 1., 1., 1., 1., 1.],\n",
       "        [1., 1., 1., 1., 1., 1., 1., 1., 1., 1.],\n",
       "        [1., 1., 1., 1., 1., 1., 1., 1., 1., 1.],\n",
       "        [1., 1., 1., 1., 1., 1., 1., 1., 1., 1.],\n",
       "        [1., 1., 1., 1., 1., 1., 1., 1., 1., 1.],\n",
       "        [1., 1., 1., 1., 1., 1., 1., 1., 1., 1.],\n",
       "        [1., 1., 1., 1., 1., 1., 1., 1., 1., 1.],\n",
       "        [1., 1., 1., 1., 1., 1., 1., 1., 1., 1.],\n",
       "        [1., 1., 1., 1., 1., 1., 1., 1., 1., 1.],\n",
       "        [1., 1., 1., 1., 1., 1., 1., 1., 1., 1.]],\n",
       "\n",
       "       [[1., 1., 1., 1., 1., 1., 1., 1., 1., 1.],\n",
       "        [1., 1., 1., 1., 1., 1., 1., 1., 1., 1.],\n",
       "        [1., 1., 1., 1., 1., 1., 1., 1., 1., 1.],\n",
       "        [1., 1., 1., 1., 1., 1., 1., 1., 1., 1.],\n",
       "        [1., 1., 1., 1., 1., 1., 1., 1., 1., 1.],\n",
       "        [1., 1., 1., 1., 1., 1., 1., 1., 1., 1.],\n",
       "        [1., 1., 1., 1., 1., 1., 1., 1., 1., 1.],\n",
       "        [1., 1., 1., 1., 1., 1., 1., 1., 1., 1.],\n",
       "        [1., 1., 1., 1., 1., 1., 1., 1., 1., 1.],\n",
       "        [1., 1., 1., 1., 1., 1., 1., 1., 1., 1.]],\n",
       "\n",
       "       [[1., 1., 1., 1., 1., 1., 1., 1., 1., 1.],\n",
       "        [1., 1., 1., 1., 1., 1., 1., 1., 1., 1.],\n",
       "        [1., 1., 1., 1., 1., 1., 1., 1., 1., 1.],\n",
       "        [1., 1., 1., 1., 1., 1., 1., 1., 1., 1.],\n",
       "        [1., 1., 1., 1., 1., 1., 1., 1., 1., 1.],\n",
       "        [1., 1., 1., 1., 1., 1., 1., 1., 1., 1.],\n",
       "        [1., 1., 1., 1., 1., 1., 1., 1., 1., 1.],\n",
       "        [1., 1., 1., 1., 1., 1., 1., 1., 1., 1.],\n",
       "        [1., 1., 1., 1., 1., 1., 1., 1., 1., 1.],\n",
       "        [1., 1., 1., 1., 1., 1., 1., 1., 1., 1.]],\n",
       "\n",
       "       [[1., 1., 1., 1., 1., 1., 1., 1., 1., 1.],\n",
       "        [1., 1., 1., 1., 1., 1., 1., 1., 1., 1.],\n",
       "        [1., 1., 1., 1., 1., 1., 1., 1., 1., 1.],\n",
       "        [1., 1., 1., 1., 1., 1., 1., 1., 1., 1.],\n",
       "        [1., 1., 1., 1., 1., 1., 1., 1., 1., 1.],\n",
       "        [1., 1., 1., 1., 1., 1., 1., 1., 1., 1.],\n",
       "        [1., 1., 1., 1., 1., 1., 1., 1., 1., 1.],\n",
       "        [1., 1., 1., 1., 1., 1., 1., 1., 1., 1.],\n",
       "        [1., 1., 1., 1., 1., 1., 1., 1., 1., 1.],\n",
       "        [1., 1., 1., 1., 1., 1., 1., 1., 1., 1.]],\n",
       "\n",
       "       [[1., 1., 1., 1., 1., 1., 1., 1., 1., 1.],\n",
       "        [1., 1., 1., 1., 1., 1., 1., 1., 1., 1.],\n",
       "        [1., 1., 1., 1., 1., 1., 1., 1., 1., 1.],\n",
       "        [1., 1., 1., 1., 1., 1., 1., 1., 1., 1.],\n",
       "        [1., 1., 1., 1., 1., 1., 1., 1., 1., 1.],\n",
       "        [1., 1., 1., 1., 1., 1., 1., 1., 1., 1.],\n",
       "        [1., 1., 1., 1., 1., 1., 1., 1., 1., 1.],\n",
       "        [1., 1., 1., 1., 1., 1., 1., 1., 1., 1.],\n",
       "        [1., 1., 1., 1., 1., 1., 1., 1., 1., 1.],\n",
       "        [1., 1., 1., 1., 1., 1., 1., 1., 1., 1.]],\n",
       "\n",
       "       [[1., 1., 1., 1., 1., 1., 1., 1., 1., 1.],\n",
       "        [1., 1., 1., 1., 1., 1., 1., 1., 1., 1.],\n",
       "        [1., 1., 1., 1., 1., 1., 1., 1., 1., 1.],\n",
       "        [1., 1., 1., 1., 1., 1., 1., 1., 1., 1.],\n",
       "        [1., 1., 1., 1., 1., 1., 1., 1., 1., 1.],\n",
       "        [1., 1., 1., 1., 1., 1., 1., 1., 1., 1.],\n",
       "        [1., 1., 1., 1., 1., 1., 1., 1., 1., 1.],\n",
       "        [1., 1., 1., 1., 1., 1., 1., 1., 1., 1.],\n",
       "        [1., 1., 1., 1., 1., 1., 1., 1., 1., 1.],\n",
       "        [1., 1., 1., 1., 1., 1., 1., 1., 1., 1.]]])"
      ]
     },
     "execution_count": 87,
     "metadata": {},
     "output_type": "execute_result"
    }
   ],
   "source": [
    "o"
   ]
  },
  {
   "cell_type": "code",
   "execution_count": 14,
   "id": "371c324d-49ce-4c22-98ce-db5c08fcb767",
   "metadata": {},
   "outputs": [],
   "source": [
    "import itertools\n",
    "import numpy as np\n",
    "\n",
    "def pair_finding(num_species):\n",
    "\n",
    "    last = num_species + 1\n",
    "    species = [i for i in range(1, num_species + 2, 1)]\n",
    "    pairs = list(itertools.combinations(species, 2))\n",
    "\n",
    "    out_pairs = [pair for pair in pairs if last in pair]\n",
    "\n",
    "    return out_pairs\n",
    "\n",
    "def species_initialization(compartment_size, pairs):\n",
    "\n",
    "    num_species = len(pairs) + 1\n",
    "    num_matrices = num_species * 2\n",
    "    init_matrix = np.random.rand(num_matrices, compartment_size[0], compartment_size[1])\n",
    "\n",
    "    for i in range(len(pairs)):\n",
    "        m = np.random.rand(2, compartment_size[0], compartment_size[1])\n",
    "        m[-1, 0, 0] = int(pairs[i][0])\n",
    "        m[-1, 0, 1] = int(pairs[i][1])\n",
    "        init_matrix[i*2+2:i*2+4, :, :] = m\n",
    "\n",
    "\n",
    "    return init_matrix\n"
   ]
  },
  {
   "cell_type": "code",
   "execution_count": 15,
   "id": "4394e64d-df28-4ba7-8813-997ad70dc522",
   "metadata": {},
   "outputs": [
    {
     "data": {
      "text/plain": [
       "[(1, 5), (2, 5), (3, 5), (4, 5)]"
      ]
     },
     "execution_count": 15,
     "metadata": {},
     "output_type": "execute_result"
    }
   ],
   "source": [
    "c = pair_finding(4)\n",
    "c"
   ]
  },
  {
   "cell_type": "code",
   "execution_count": 16,
   "id": "3b8a36ff-689f-42d5-a56d-ffe6be83f706",
   "metadata": {},
   "outputs": [
    {
     "data": {
      "text/plain": [
       "array([[[7.71753138e-01, 8.03431273e-01, 6.70264992e-01, 3.74965168e-01,\n",
       "         2.86647460e-01],\n",
       "        [5.37497661e-01, 5.46922135e-01, 9.94662543e-01, 5.44639773e-01,\n",
       "         9.70285772e-01],\n",
       "        [5.63644610e-02, 2.77522072e-01, 7.28200901e-01, 5.12885000e-01,\n",
       "         7.00108205e-01],\n",
       "        [4.02184524e-01, 9.84031504e-01, 4.96276390e-01, 2.42480129e-01,\n",
       "         2.43042472e-01],\n",
       "        [3.88995534e-02, 3.91651474e-01, 5.48604670e-01, 3.41184826e-01,\n",
       "         5.56923553e-01]],\n",
       "\n",
       "       [[8.34654634e-02, 4.13479939e-01, 3.10827443e-01, 7.64776174e-01,\n",
       "         5.35056892e-01],\n",
       "        [7.55279425e-01, 2.32138136e-01, 5.90545433e-01, 7.14172466e-01,\n",
       "         3.07999687e-01],\n",
       "        [6.55437885e-01, 9.38135468e-01, 8.15189080e-01, 7.62115380e-01,\n",
       "         1.60242141e-01],\n",
       "        [4.76587956e-01, 1.67790328e-01, 5.48127783e-01, 3.91789386e-01,\n",
       "         5.44420006e-01],\n",
       "        [3.11481570e-01, 1.40150721e-01, 3.70832592e-01, 1.78033142e-01,\n",
       "         9.24282052e-01]],\n",
       "\n",
       "       [[5.60636899e-01, 1.28481305e-01, 2.66470203e-01, 6.06817024e-01,\n",
       "         2.38011017e-02],\n",
       "        [7.92784968e-03, 5.06264806e-01, 8.99456438e-01, 2.30052647e-02,\n",
       "         2.39336353e-02],\n",
       "        [1.51180999e-01, 9.30271721e-01, 2.41912857e-01, 5.40300456e-01,\n",
       "         8.91201167e-01],\n",
       "        [7.32903766e-01, 5.17699143e-02, 6.17236142e-01, 9.66638444e-02,\n",
       "         8.26115861e-01],\n",
       "        [6.70840056e-01, 3.88999143e-01, 2.37957526e-01, 4.23864751e-01,\n",
       "         1.80175619e-01]],\n",
       "\n",
       "       [[1.00000000e+00, 5.00000000e+00, 5.21237106e-01, 1.22358320e-01,\n",
       "         7.05280305e-01],\n",
       "        [6.47641280e-01, 6.18872435e-01, 3.32018338e-02, 7.89509029e-01,\n",
       "         1.79026083e-01],\n",
       "        [2.01266000e-01, 7.05030247e-01, 8.68789432e-01, 6.44476667e-01,\n",
       "         4.09917283e-01],\n",
       "        [7.13317447e-02, 1.30399806e-01, 7.51297370e-01, 4.23901805e-01,\n",
       "         8.49376639e-01],\n",
       "        [6.06559181e-01, 6.06422259e-01, 1.12070821e-03, 4.01115439e-01,\n",
       "         9.32360872e-01]],\n",
       "\n",
       "       [[8.66558762e-01, 2.70184441e-01, 1.46443499e-01, 1.04530731e-01,\n",
       "         8.02421684e-02],\n",
       "        [8.73488713e-01, 6.66477494e-01, 3.43100073e-01, 5.21294605e-01,\n",
       "         4.00461083e-01],\n",
       "        [6.27520172e-01, 4.86816327e-02, 8.29319128e-02, 7.03426195e-01,\n",
       "         5.46216690e-01],\n",
       "        [9.71765053e-01, 3.88145174e-01, 2.09845145e-01, 8.79974422e-02,\n",
       "         9.27055224e-01],\n",
       "        [1.37251619e-01, 1.27984393e-01, 8.25616965e-01, 4.87613193e-01,\n",
       "         9.80682723e-01]],\n",
       "\n",
       "       [[2.00000000e+00, 5.00000000e+00, 3.24676818e-01, 3.77105534e-01,\n",
       "         7.66905714e-01],\n",
       "        [9.33147574e-01, 7.49656494e-01, 8.00643252e-01, 1.75079598e-01,\n",
       "         2.17210845e-01],\n",
       "        [4.96051551e-01, 1.56879011e-01, 3.98654084e-01, 6.63949154e-01,\n",
       "         5.35593748e-01],\n",
       "        [6.41463036e-01, 7.61797193e-01, 8.35264580e-01, 6.44337964e-01,\n",
       "         6.32253052e-03],\n",
       "        [8.78122622e-01, 8.38461730e-02, 6.95406907e-01, 2.76340369e-01,\n",
       "         9.50807044e-01]],\n",
       "\n",
       "       [[4.64013873e-01, 3.40099692e-01, 3.87265238e-01, 6.83432450e-01,\n",
       "         2.57287691e-01],\n",
       "        [9.55464649e-01, 6.32900114e-01, 4.99159370e-01, 8.82212477e-01,\n",
       "         7.34737175e-01],\n",
       "        [5.91882308e-01, 3.43129749e-01, 1.50644053e-01, 9.86763135e-01,\n",
       "         6.50467428e-01],\n",
       "        [8.31530518e-01, 5.26864926e-01, 5.85423884e-01, 9.61632930e-01,\n",
       "         2.90537761e-01],\n",
       "        [1.56627007e-01, 7.29278470e-01, 6.88590278e-01, 9.99380852e-01,\n",
       "         2.19398564e-01]],\n",
       "\n",
       "       [[3.00000000e+00, 5.00000000e+00, 2.01015787e-01, 3.06470159e-01,\n",
       "         7.84832507e-01],\n",
       "        [7.60210459e-01, 2.06539104e-01, 9.94409528e-01, 8.91316025e-01,\n",
       "         6.75023337e-01],\n",
       "        [1.77643001e-01, 8.87494519e-01, 1.67356653e-01, 4.44201315e-01,\n",
       "         2.18557188e-01],\n",
       "        [5.64563702e-02, 7.19142615e-01, 5.32623789e-01, 2.57824373e-01,\n",
       "         6.88232248e-01],\n",
       "        [6.40621692e-01, 9.75805769e-01, 5.02053927e-01, 2.34826043e-01,\n",
       "         8.99441865e-01]],\n",
       "\n",
       "       [[6.24177313e-01, 1.44334242e-02, 5.31492979e-02, 5.91373994e-02,\n",
       "         4.07904985e-01],\n",
       "        [5.45361031e-01, 2.86863225e-01, 5.10724110e-01, 4.15070799e-01,\n",
       "         7.88493752e-01],\n",
       "        [4.86315272e-01, 4.22091782e-01, 1.89593889e-01, 6.60624543e-01,\n",
       "         7.59032823e-01],\n",
       "        [9.76001712e-01, 2.13235106e-02, 3.89006652e-01, 4.49881088e-01,\n",
       "         4.28075021e-01],\n",
       "        [8.18620659e-01, 9.93891667e-01, 4.59050743e-01, 5.23877287e-01,\n",
       "         5.10076791e-01]],\n",
       "\n",
       "       [[4.00000000e+00, 5.00000000e+00, 2.15347354e-03, 2.37702451e-01,\n",
       "         6.19456796e-01],\n",
       "        [2.93366279e-01, 2.64183901e-01, 5.56842323e-01, 7.32677970e-02,\n",
       "         2.65536864e-01],\n",
       "        [4.50901516e-01, 4.14862969e-01, 3.94330974e-01, 4.82821009e-01,\n",
       "         8.96663188e-01],\n",
       "        [8.63854302e-01, 6.75719232e-01, 5.92628708e-01, 1.73725547e-01,\n",
       "         9.94620275e-01],\n",
       "        [1.37831659e-01, 1.83951955e-01, 5.62224393e-02, 7.54832220e-01,\n",
       "         6.37810679e-01]]])"
      ]
     },
     "execution_count": 16,
     "metadata": {},
     "output_type": "execute_result"
    }
   ],
   "source": [
    "g = species_initialization(compartment_size=(5, 5), pairs=c)\n",
    "g"
   ]
  },
  {
   "cell_type": "code",
   "execution_count": 22,
   "id": "8dd0c9ac-028e-4190-8683-477dc77b6f35",
   "metadata": {},
   "outputs": [
    {
     "data": {
      "text/plain": [
       "3"
      ]
     },
     "execution_count": 22,
     "metadata": {},
     "output_type": "execute_result"
    }
   ],
   "source": [
    "h = np.random.choice(np.arange(1, 10))\n",
    "h"
   ]
  },
  {
   "cell_type": "code",
   "execution_count": 25,
   "id": "7ba1ac92-78c8-4a11-8c31-4e7317308826",
   "metadata": {},
   "outputs": [],
   "source": [
    "g = np.arange(2, 10)"
   ]
  },
  {
   "cell_type": "code",
   "execution_count": 26,
   "id": "8c4c6b05-8507-4fb8-8578-e53dd9072b7f",
   "metadata": {},
   "outputs": [
    {
     "data": {
      "text/plain": [
       "array([2, 3, 4, 5, 6, 7, 8, 9])"
      ]
     },
     "execution_count": 26,
     "metadata": {},
     "output_type": "execute_result"
    }
   ],
   "source": [
    "g"
   ]
  },
  {
   "cell_type": "code",
   "execution_count": 32,
   "id": "1da861f4-ad66-421f-9335-3bff2bfe4457",
   "metadata": {},
   "outputs": [],
   "source": [
    "x = np.random.rand(4, 5, 6)  # Example 3D matrix with shape (4, 5, 6)\n",
    "z_index = [1, 2]\n",
    "x_modified = np.delete(x, z_index, axis=0)\n"
   ]
  },
  {
   "cell_type": "code",
   "execution_count": 33,
   "id": "d6acf9f5-a63f-4692-9f65-f7e7f3c436c1",
   "metadata": {},
   "outputs": [
    {
     "data": {
      "text/plain": [
       "(2, 5, 6)"
      ]
     },
     "execution_count": 33,
     "metadata": {},
     "output_type": "execute_result"
    }
   ],
   "source": [
    "x_modified.shape"
   ]
  },
  {
   "cell_type": "code",
   "execution_count": 34,
   "id": "8f889c02-0064-4d26-83c2-02163d3f9742",
   "metadata": {},
   "outputs": [
    {
     "name": "stdout",
     "output_type": "stream",
     "text": [
      "Original array: [ 5 15  8 12  7 20  1 25  9 14]\n",
      "Above threshold: [15 12 20 25 14]\n",
      "Below threshold: [5 8 7 1 9]\n"
     ]
    }
   ],
   "source": [
    "import numpy as np\n",
    "\n",
    "# Define the array\n",
    "X = np.array([5, 15, 8, 12, 7, 20, 1, 25, 9, 14])\n",
    "\n",
    "# Define the threshold\n",
    "threshold = 10\n",
    "\n",
    "# Create boolean mask based on the threshold condition\n",
    "mask = X > threshold\n",
    "\n",
    "# Use the mask to divide the array\n",
    "above_threshold = X[mask]\n",
    "below_threshold = X[~mask]\n",
    "\n",
    "# Print results\n",
    "print(\"Original array:\", X)\n",
    "print(\"Above threshold:\", above_threshold)\n",
    "print(\"Below threshold:\", below_threshold)\n"
   ]
  },
  {
   "cell_type": "code",
   "execution_count": 36,
   "id": "cc288777-dd9f-4462-9bb1-4a24e543f675",
   "metadata": {},
   "outputs": [
    {
     "name": "stdout",
     "output_type": "stream",
     "text": [
      "h (x < 20): ['t', 'th', 'v', 'sg']\n",
      "g (x >= 20): ['x', 'as', 'sa', 'w', 'op']\n"
     ]
    }
   ],
   "source": [
    "import numpy as np\n",
    "\n",
    "# Define the array and list\n",
    "x = np.array([12, 12, 1, 23, 21, 56, 12, 24, 87])\n",
    "y = [\"t\", \"th\", \"v\", \"x\", \"as\", \"sa\", \"sg\", \"w\", \"op\"]\n",
    "\n",
    "# Use list comprehensions to create the lists based on the condition\n",
    "h = [y[i] for i in range(len(x)) if x[i] < 20]\n",
    "g = [y[i] for i in range(len(x)) if x[i] >= 20]\n",
    "\n",
    "# Print results\n",
    "print(\"h (x < 20):\", h)\n",
    "print(\"g (x >= 20):\", g)\n"
   ]
  },
  {
   "cell_type": "code",
   "execution_count": 37,
   "id": "725e4266-3c3b-46f2-b143-c64356850687",
   "metadata": {},
   "outputs": [],
   "source": [
    "h = np.zeros(12)"
   ]
  },
  {
   "cell_type": "code",
   "execution_count": 38,
   "id": "fc74ce9d-89f1-449c-9c6d-6c105f866ce1",
   "metadata": {},
   "outputs": [
    {
     "data": {
      "text/plain": [
       "array([0., 0., 0., 0., 0., 0., 0., 0., 0., 0., 0., 0.])"
      ]
     },
     "execution_count": 38,
     "metadata": {},
     "output_type": "execute_result"
    }
   ],
   "source": [
    "h"
   ]
  },
  {
   "cell_type": "code",
   "execution_count": 39,
   "id": "ff4611e3-de7f-48a3-89ce-44dd9f8a70ee",
   "metadata": {},
   "outputs": [
    {
     "data": {
      "text/plain": [
       "12"
      ]
     },
     "execution_count": 39,
     "metadata": {},
     "output_type": "execute_result"
    }
   ],
   "source": [
    "len(h)"
   ]
  },
  {
   "cell_type": "code",
   "execution_count": 40,
   "id": "6de1cb82-42dd-4be6-bc1a-300eba95c716",
   "metadata": {},
   "outputs": [],
   "source": [
    "h = [12, 12, 32, 12, 12, 12, 12]\n",
    "for i in range(len(h)):\n",
    "    h[i] = h[i] * 2"
   ]
  },
  {
   "cell_type": "code",
   "execution_count": 41,
   "id": "728367d6-5967-4325-8fd5-7e9c544009aa",
   "metadata": {},
   "outputs": [
    {
     "data": {
      "text/plain": [
       "[24, 24, 64, 24, 24, 24, 24]"
      ]
     },
     "execution_count": 41,
     "metadata": {},
     "output_type": "execute_result"
    }
   ],
   "source": [
    "h"
   ]
  },
  {
   "cell_type": "code",
   "execution_count": 42,
   "id": "cce82fa7-d5c0-492a-96c8-7d25b48289d7",
   "metadata": {},
   "outputs": [
    {
     "data": {
      "text/plain": [
       "['v', 't', 'th', 'sg', 'as']"
      ]
     },
     "execution_count": 42,
     "metadata": {},
     "output_type": "execute_result"
    }
   ],
   "source": [
    "import numpy as np\n",
    "\n",
    "# Define the array and list\n",
    "x = np.array([12, 12, 1, 23, 21, 56, 12, 24, 87])\n",
    "y = [\"t\", \"th\", \"v\", \"x\", \"as\", \"sa\", \"sg\", \"w\", \"op\"]\n",
    "# Get the indices that would sort x\n",
    "sorted_indices = np.argsort(x)\n",
    "\n",
    "# Select the first five indices (corresponding to the lowest costs)\n",
    "lowest_indices = sorted_indices[:5]\n",
    "\n",
    "# Use these indices to get the corresponding elements from y\n",
    "lowest_costs = [y[i] for i in lowest_indices]\n",
    "lowest_costs"
   ]
  },
  {
   "cell_type": "code",
   "execution_count": 43,
   "id": "e59471f7-adfd-4af8-a4ca-1ed0572afaad",
   "metadata": {},
   "outputs": [
    {
     "data": {
      "text/plain": [
       "array([2, 0, 1, 6, 4, 3, 7, 5, 8])"
      ]
     },
     "execution_count": 43,
     "metadata": {},
     "output_type": "execute_result"
    }
   ],
   "source": [
    "sorted_indices"
   ]
  },
  {
   "cell_type": "code",
   "execution_count": null,
   "id": "b4746fca-d18e-4f23-b61e-9cb06d8727f1",
   "metadata": {},
   "outputs": [],
   "source": []
  }
 ],
 "metadata": {
  "kernelspec": {
   "display_name": "Python 3 (ipykernel)",
   "language": "python",
   "name": "python3"
  },
  "language_info": {
   "codemirror_mode": {
    "name": "ipython",
    "version": 3
   },
   "file_extension": ".py",
   "mimetype": "text/x-python",
   "name": "python",
   "nbconvert_exporter": "python",
   "pygments_lexer": "ipython3",
   "version": "3.10.12"
  }
 },
 "nbformat": 4,
 "nbformat_minor": 5
}
