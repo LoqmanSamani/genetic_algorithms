{
 "cells": [
  {
   "cell_type": "code",
   "execution_count": 2,
   "id": "0d967f9d-affe-44f9-8d63-bb5b132b6a40",
   "metadata": {},
   "outputs": [],
   "source": [
    "from bioesag import BioEsAg\n",
    "import tensorflow as tf\n",
    "import numpy as np\n",
    "import seaborn as sns\n",
    "import matplotlib.pyplot as plt"
   ]
  },
  {
   "cell_type": "code",
   "execution_count": 3,
   "id": "f2a3c252-7b48-4a5c-ab11-ff770a4d76ee",
   "metadata": {},
   "outputs": [
    {
     "data": {
      "image/png": "[encoded data removed]",
      "text/plain": [
       "<Figure size 640x480 with 2 Axes>"
      ]
     },
     "metadata": {},
     "output_type": "display_data"
    }
   ],
   "source": [
    "t = np.zeros((100, 100), dtype=float)\n",
    "t[20:80, 20:80] = .8\n",
    "t[30:70, 30:70] = .5\n",
    "t[40:60, 40:60] = .3\n",
    "t[50:55, 50:55] = .1\n",
    "sns.heatmap(t)\n",
    "plt.show()"
   ]
  },
  {
   "cell_type": "code",
   "execution_count": null,
   "id": "c98c1dab-2bea-4798-be64-f5ecfde70a71",
   "metadata": {},
   "outputs": [
    {
     "name": "stderr",
     "output_type": "stream",
     "text": [
      "WARNING: All log messages before absl::InitializeLog() is called are written to STDERR\n",
      "I0000 00:00:1726941038.789418   12363 cuda_executor.cc:1015] successful NUMA node read from SysFS had negative value (-1), but there must be at least one NUMA node, so returning NUMA node zero. See more at https://github.com/torvalds/linux/blob/v6.0/Documentation/ABI/testing/sysfs-bus-pci#L344-L355\n",
      "I0000 00:00:1726941038.835072   12363 cuda_executor.cc:1015] successful NUMA node read from SysFS had negative value (-1), but there must be at least one NUMA node, so returning NUMA node zero. See more at https://github.com/torvalds/linux/blob/v6.0/Documentation/ABI/testing/sysfs-bus-pci#L344-L355\n",
      "I0000 00:00:1726941038.835367   12363 cuda_executor.cc:1015] successful NUMA node read from SysFS had negative value (-1), but there must be at least one NUMA node, so returning NUMA node zero. See more at https://github.com/torvalds/linux/blob/v6.0/Documentation/ABI/testing/sysfs-bus-pci#L344-L355\n",
      "I0000 00:00:1726941038.836750   12363 cuda_executor.cc:1015] successful NUMA node read from SysFS had negative value (-1), but there must be at least one NUMA node, so returning NUMA node zero. See more at https://github.com/torvalds/linux/blob/v6.0/Documentation/ABI/testing/sysfs-bus-pci#L344-L355\n",
      "I0000 00:00:1726941038.837055   12363 cuda_executor.cc:1015] successful NUMA node read from SysFS had negative value (-1), but there must be at least one NUMA node, so returning NUMA node zero. See more at https://github.com/torvalds/linux/blob/v6.0/Documentation/ABI/testing/sysfs-bus-pci#L344-L355\n",
      "I0000 00:00:1726941038.837252   12363 cuda_executor.cc:1015] successful NUMA node read from SysFS had negative value (-1), but there must be at least one NUMA node, so returning NUMA node zero. See more at https://github.com/torvalds/linux/blob/v6.0/Documentation/ABI/testing/sysfs-bus-pci#L344-L355\n",
      "I0000 00:00:1726941038.927401   12363 cuda_executor.cc:1015] successful NUMA node read from SysFS had negative value (-1), but there must be at least one NUMA node, so returning NUMA node zero. See more at https://github.com/torvalds/linux/blob/v6.0/Documentation/ABI/testing/sysfs-bus-pci#L344-L355\n",
      "I0000 00:00:1726941038.927674   12363 cuda_executor.cc:1015] successful NUMA node read from SysFS had negative value (-1), but there must be at least one NUMA node, so returning NUMA node zero. See more at https://github.com/torvalds/linux/blob/v6.0/Documentation/ABI/testing/sysfs-bus-pci#L344-L355\n",
      "I0000 00:00:1726941038.927873   12363 cuda_executor.cc:1015] successful NUMA node read from SysFS had negative value (-1), but there must be at least one NUMA node, so returning NUMA node zero. See more at https://github.com/torvalds/linux/blob/v6.0/Documentation/ABI/testing/sysfs-bus-pci#L344-L355\n",
      "2024-09-21 19:50:38.928206: I tensorflow/core/common_runtime/gpu/gpu_device.cc:2021] Created device /job:localhost/replica:0/task:0/device:GPU:0 with 2403 MB memory:  -> device: 0, name: NVIDIA GeForce GTX 1650, pci bus id: 0000:01:00.0, compute capability: 7.5\n"
     ]
    },
    {
     "name": "stdout",
     "output_type": "stream",
     "text": [
      "--------------------------------------------------------\n",
      "                   BioEsAg Algorithm                    \n",
      "--------------------------------------------------------\n",
      "              Evolutionary Optimization I               \n",
      "\n"
     ]
    },
    {
     "name": "stderr",
     "output_type": "stream",
     "text": [
      "2024-09-21 19:51:09.286108: I external/local_xla/xla/stream_executor/cuda/cuda_dnn.cc:531] Loaded cuDNN version 8907\n",
      "W0000 00:00:1726941069.373848   12363 gpu_timer.cc:114] Skipping the delay kernel, measurement accuracy will be reduced\n",
      "W0000 00:00:1726941069.438078   12363 gpu_timer.cc:114] Skipping the delay kernel, measurement accuracy will be reduced\n",
      "W0000 00:00:1726941069.476676   12363 gpu_timer.cc:114] Skipping the delay kernel, measurement accuracy will be reduced\n",
      "W0000 00:00:1726941069.484313   12363 gpu_timer.cc:114] Skipping the delay kernel, measurement accuracy will be reduced\n",
      "W0000 00:00:1726941069.487497   12363 gpu_timer.cc:114] Skipping the delay kernel, measurement accuracy will be reduced\n",
      "W0000 00:00:1726941069.491189   12363 gpu_timer.cc:114] Skipping the delay kernel, measurement accuracy will be reduced\n",
      "W0000 00:00:1726941069.492681   12363 gpu_timer.cc:114] Skipping the delay kernel, measurement accuracy will be reduced\n",
      "W0000 00:00:1726941069.494172   12363 gpu_timer.cc:114] Skipping the delay kernel, measurement accuracy will be reduced\n",
      "W0000 00:00:1726941069.495662   12363 gpu_timer.cc:114] Skipping the delay kernel, measurement accuracy will be reduced\n",
      "W0000 00:00:1726941069.497164   12363 gpu_timer.cc:114] Skipping the delay kernel, measurement accuracy will be reduced\n",
      "W0000 00:00:1726941069.515833   12363 gpu_timer.cc:114] Skipping the delay kernel, measurement accuracy will be reduced\n"
     ]
    },
    {
     "name": "stdout",
     "output_type": "stream",
     "text": [
      "Epoch 1/10, Average Population Cost: 1.2011105269572682\n",
      "Epoch 2/10, Average Population Cost: 7.004567186997005\n"
     ]
    },
    {
     "name": "stderr",
     "output_type": "stream",
     "text": [
      "/home/samani/Documents/projects/venv/lib/python3.10/site-packages/tensorflow/python/framework/constant_op.py:108: RuntimeWarning: overflow encountered in cast\n",
      "  return ops.EagerTensor(value, ctx.device_name, dtype)\n"
     ]
    },
    {
     "name": "stdout",
     "output_type": "stream",
     "text": [
      "Epoch 3/10, Average Population Cost: 7.6330944770368365\n",
      "Epoch 4/10, Average Population Cost: 9838.396878603808\n",
      "Epoch 5/10, Average Population Cost: 26.36151368810189\n",
      "Epoch 6/10, Average Population Cost: 34.8065941032962\n",
      "Epoch 7/10, Average Population Cost: 35.16350751492431\n",
      "Epoch 8/10, Average Population Cost: 26.389992224285688\n"
     ]
    },
    {
     "name": "stderr",
     "output_type": "stream",
     "text": [
      "/home/samani/Documents/projects/master_project/model/test/model_test/diffusion.py:341: RuntimeWarning: overflow encountered in add\n",
      "  in_diffusion = upper_cell_in + lower_cell_in + right_cell_in + left_cell_in\n",
      "/home/samani/Documents/projects/master_project/model/test/model_test/diffusion.py:344: RuntimeWarning: overflow encountered in add\n",
      "  updated_concentration = cell_concentration + in_diffusion - out_diffusion\n",
      "/home/samani/Documents/projects/master_project/model/test/model_test/diffusion.py:342: RuntimeWarning: overflow encountered in multiply\n",
      "  out_diffusion = time_step * cell_concentration * diffusion_rate * 4\n",
      "/home/samani/Documents/projects/master_project/model/test/model_test/diffusion.py:344: RuntimeWarning: invalid value encountered in subtract\n",
      "  updated_concentration = cell_concentration + in_diffusion - out_diffusion\n",
      "/home/samani/Documents/projects/master_project/model/test/model_test/diffusion.py:339: RuntimeWarning: overflow encountered in multiply\n",
      "  left_cell_in = time_step * left_cell_concentration * diffusion_rate\n",
      "/home/samani/Documents/projects/master_project/model/test/model_test/diffusion.py:302: RuntimeWarning: overflow encountered in add\n",
      "  in_diffusion = upper_cell_in + lower_cell_in + right_cell_in\n",
      "/home/samani/Documents/projects/master_project/model/test/model_test/diffusion.py:303: RuntimeWarning: overflow encountered in multiply\n",
      "  out_diffusion = time_step * cell_concentration.T * diffusion_rate * 3\n",
      "/home/samani/Documents/projects/master_project/model/test/model_test/diffusion.py:305: RuntimeWarning: overflow encountered in add\n",
      "  updated_concentration = cell_concentration + in_diffusion - out_diffusion\n",
      "/home/samani/Documents/projects/master_project/model/test/model_test/diffusion.py:305: RuntimeWarning: invalid value encountered in subtract\n",
      "  updated_concentration = cell_concentration + in_diffusion - out_diffusion\n",
      "/home/samani/Documents/projects/master_project/model/test/model_test/reactions.py:37: RuntimeWarning: invalid value encountered in subtract\n",
      "  updated_concentration = np.maximum(initial_concentration - (initial_concentration * degradation_rate * time_step), 0)\n",
      "/home/samani/Documents/projects/master_project/model/test/model_test/diffusion.py:338: RuntimeWarning: overflow encountered in multiply\n",
      "  right_cell_in = time_step * right_cell_concentration * diffusion_rate\n",
      "/home/samani/Documents/projects/master_project/model/test/model_test/diffusion.py:417: RuntimeWarning: overflow encountered in scalar add\n",
      "  updated_concentration = cell_concentration + in_diffusion - out_diffusion\n",
      "/home/samani/Documents/projects/master_project/model/test/model_test/diffusion.py:336: RuntimeWarning: overflow encountered in multiply\n",
      "  upper_cell_in = time_step * upper_cell_concentration * diffusion_rate\n",
      "/home/samani/Documents/projects/master_project/model/test/model_test/diffusion.py:337: RuntimeWarning: overflow encountered in multiply\n",
      "  lower_cell_in = time_step * lower_cell_concentration * diffusion_rate\n",
      "/home/samani/Documents/projects/master_project/model/test/model_test/diffusion.py:414: RuntimeWarning: overflow encountered in scalar add\n",
      "  in_diffusion = upper_cell_in + right_cell_in + left_cell_in\n",
      "/home/samani/Documents/projects/master_project/model/test/model_test/diffusion.py:298: RuntimeWarning: overflow encountered in multiply\n",
      "  upper_cell_in = time_step * upper_cell_concentration * diffusion_rate\n",
      "/home/samani/Documents/projects/master_project/model/test/model_test/diffusion.py:299: RuntimeWarning: overflow encountered in multiply\n",
      "  lower_cell_in = time_step * lower_cell_concentration * diffusion_rate\n",
      "/home/samani/Documents/projects/master_project/model/test/model_test/diffusion.py:300: RuntimeWarning: overflow encountered in multiply\n",
      "  right_cell_in = time_step * left_cell_concentration * diffusion_rate\n",
      "/home/samani/Documents/projects/master_project/model/test/model_test/diffusion.py:378: RuntimeWarning: overflow encountered in scalar add\n",
      "  in_diffusion = lower_cell_in + right_cell_in + left_cell_in\n",
      "/home/samani/Documents/projects/master_project/model/test/model_test/diffusion.py:415: RuntimeWarning: overflow encountered in scalar multiply\n",
      "  out_diffusion = time_step * cell_concentration * diffusion_rate * 3\n",
      "/home/samani/Documents/projects/master_project/model/test/model_test/diffusion.py:379: RuntimeWarning: overflow encountered in scalar multiply\n",
      "  out_diffusion = time_step * cell_concentration * diffusion_rate * 3\n",
      "/home/samani/Documents/projects/master_project/model/test/model_test/diffusion.py:381: RuntimeWarning: invalid value encountered in scalar subtract\n",
      "  updated_concentration = cell_concentration + in_diffusion - out_diffusion\n"
     ]
    },
    {
     "name": "stdout",
     "output_type": "stream",
     "text": [
      "Epoch 9/10, Average Population Cost: 12.719090202610218\n",
      "Epoch 10/10, Average Population Cost: 20.096139532555277\n",
      "\n",
      "              Evolutionary Optimization II              \n",
      "\n"
     ]
    },
    {
     "name": "stderr",
     "output_type": "stream",
     "text": [
      "W0000 00:00:1726941668.522987   12363 gpu_timer.cc:114] Skipping the delay kernel, measurement accuracy will be reduced\n",
      "W0000 00:00:1726941668.524608   12363 gpu_timer.cc:114] Skipping the delay kernel, measurement accuracy will be reduced\n",
      "W0000 00:00:1726941668.526151   12363 gpu_timer.cc:114] Skipping the delay kernel, measurement accuracy will be reduced\n",
      "W0000 00:00:1726941668.527664   12363 gpu_timer.cc:114] Skipping the delay kernel, measurement accuracy will be reduced\n",
      "W0000 00:00:1726941668.529179   12363 gpu_timer.cc:114] Skipping the delay kernel, measurement accuracy will be reduced\n",
      "W0000 00:00:1726941668.530720   12363 gpu_timer.cc:114] Skipping the delay kernel, measurement accuracy will be reduced\n",
      "W0000 00:00:1726941668.532237   12363 gpu_timer.cc:114] Skipping the delay kernel, measurement accuracy will be reduced\n",
      "W0000 00:00:1726941668.533729   12363 gpu_timer.cc:114] Skipping the delay kernel, measurement accuracy will be reduced\n",
      "W0000 00:00:1726941668.535371   12363 gpu_timer.cc:114] Skipping the delay kernel, measurement accuracy will be reduced\n",
      "W0000 00:00:1726941668.536893   12363 gpu_timer.cc:114] Skipping the delay kernel, measurement accuracy will be reduced\n",
      "W0000 00:00:1726941668.538543   12363 gpu_timer.cc:114] Skipping the delay kernel, measurement accuracy will be reduced\n"
     ]
    },
    {
     "name": "stdout",
     "output_type": "stream",
     "text": [
      "Epoch 1/10, Average Population Cost: 2.115108562961401e+16\n",
      "Epoch 2/10, Average Population Cost: 20.836497249566246\n",
      "Epoch 3/10, Average Population Cost: 2.3361711844797062e+22\n",
      "Epoch 4/10, Average Population Cost: 25.21945284891245\n"
     ]
    }
   ],
   "source": [
    "ind_params = {\"species_parameters\":[(.36, .12, .6), (.2, .1, .4)],\n",
    "              \"pair_parameters\":[(1.6, .3, .1, .17)]}\n",
    "sim_params = {\"max_simulation_epoch\":200,\n",
    "              \"simulation_stop_time\":20,\n",
    "              \"time_step\": .2}\n",
    "\n",
    "\n",
    "\n",
    "model = BioEsAg(target=t, population_size=50, individual_shape=(3, 100, 100), individual_parameters=ind_params,\n",
    "                simulation_parameters=sim_params, store_path=\"/home/samani/Documents/sim/test/\",\n",
    "                 optimization_epochs=2, evolution_one_epochs=10, evolution_two_epochs=10,\n",
    "                 cost_method=\"MSE\", learning_rate=0.01, weight_decay=None,\n",
    "                 sim_mutation_rate=0.05, compartment_mutation_rate=0.05, parameter_mutation_rate=0.05,\n",
    "                 insertion_mutation_rate=0.05, deletion_mutation_rate=0.1, crossover_alpha=0.5,\n",
    "                 gradient_optimization=False, parameter_optimization=True, condition_optimization=True,\n",
    "                 sim_mutation=True, compartment_mutation=True, param_mutation=True, species_insertion_mutation_one=True,\n",
    "                 species_deletion_mutation_one=True, species_insertion_mutation_two=False, species_deletion_mutation_two=False,\n",
    "                 compartment_crossover=True, param_crossover=True, sim_crossover=True,\n",
    "                 individual_fix_shape=False, cost_alpha=0.5, cost_beta=0.5, cost_max_val=1.0, cost_kernel_size=3,\n",
    "                 num_gradient_optimization=1, num_saved_individuals=1,\n",
    "                 evolution_two_ratio=.8, zoom_=True, zoom_in_factor=0.5, zoom_out_factor=2, zoom_order=1, zoom_mode=\"constant\",\n",
    "                 zoom_cval=0.0, zoom_grid_mode=False, num_elite_individuals=5,  sim_means=(5.0, 0.5),\n",
    "                 sim_std_devs=(100.0, 2.0), sim_min_vals=(5.0, 0.1), sim_max_vals=(100.0, 1.0), compartment_mean=0.0,\n",
    "                 compartment_std=100.0, compartment_min_val=-100.0, compartment_max_val=100.0, species_param_means=(0.0, 0.0, 0.0),\n",
    "                 species_param_stds=(10.0, 5.0, 10.0), species_param_min_vals=(-5, -2, -10), species_param_max_vals=(5.0, 2.0, 10.0),\n",
    "                 complex_param_means=(0.0, 0.0, 0.0, 0.0), complex_param_stds=(100.0, 10.0, 5.0, 10.0),\n",
    "                 complex_param_min_vals=(-100, -10, -10, -10), complex_param_max_vals=(100, 10, 10, 10),\n",
    "                 param_distribution=\"uniform\",  compartment_distribution=\"normal\", sim_distribution=\"uniform\"\n",
    "                )\n",
    "\n",
    "j = model.fit()\n",
    "\n",
    "del model\n"
   ]
  },
  {
   "cell_type": "code",
   "execution_count": null,
   "id": "513aef77-2850-4b64-b9b6-8f83bb28d4df",
   "metadata": {},
   "outputs": [],
   "source": []
  }
 ],
 "metadata": {
  "kernelspec": {
   "display_name": "Python 3 (ipykernel)",
   "language": "python",
   "name": "python3"
  },
  "language_info": {
   "codemirror_mode": {
    "name": "ipython",
    "version": 3
   },
   "file_extension": ".py",
   "mimetype": "text/x-python",
   "name": "python",
   "nbconvert_exporter": "python",
   "pygments_lexer": "ipython3",
   "version": "3.10.12"
  }
 },
 "nbformat": 4,
 "nbformat_minor": 5
}
